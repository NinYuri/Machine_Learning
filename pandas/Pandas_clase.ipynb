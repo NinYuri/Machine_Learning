{
 "cells": [
  {
   "cell_type": "markdown",
   "id": "71947633-9301-4641-b437-28b7193a25e9",
   "metadata": {},
   "source": [
    "# Configuración de Pandas y su Importación"
   ]
  },
  {
   "cell_type": "code",
   "execution_count": 5,
   "id": "6839ed46-94ec-4c69-b28f-431a2e3164b0",
   "metadata": {},
   "outputs": [],
   "source": [
    "# Instalar pandas\n",
    "# !pip install pandas\n",
    "import pandas as pd"
   ]
  },
  {
   "cell_type": "markdown",
   "id": "447229b1-1c07-475a-97e4-fe021a229e8e",
   "metadata": {},
   "source": [
    "# Crear una serie a partir de una lista"
   ]
  },
  {
   "cell_type": "code",
   "execution_count": 13,
   "id": "399ae2d6-130d-409c-8f7c-84c45995b0d4",
   "metadata": {},
   "outputs": [
    {
     "data": {
      "text/plain": [
       "['Challenger', 'Toyota', 'Mazda', 'KIA', 'Mitsubishi', 'Audi']"
      ]
     },
     "execution_count": 13,
     "metadata": {},
     "output_type": "execute_result"
    }
   ],
   "source": [
    "carros = ['Challenger', 'Toyota', 'Mazda', 'KIA', 'Mitsubishi', 'Audi']\n",
    "carros"
   ]
  },
  {
   "cell_type": "code",
   "execution_count": 15,
   "id": "8b37b721-483d-4c43-ad1f-f6ff051999be",
   "metadata": {},
   "outputs": [
    {
     "data": {
      "text/plain": [
       "0    Challenger\n",
       "1        Toyota\n",
       "2         Mazda\n",
       "3           KIA\n",
       "4    Mitsubishi\n",
       "5          Audi\n",
       "dtype: object"
      ]
     },
     "execution_count": 15,
     "metadata": {},
     "output_type": "execute_result"
    }
   ],
   "source": [
    "# Crear una serie\n",
    "pd.Series(carros)"
   ]
  },
  {
   "cell_type": "markdown",
   "id": "5675e723-f0f3-4f8e-b230-0c6cabccc6a4",
   "metadata": {},
   "source": [
    "# Crear un Dataframe a partir de una lista de diccionarios (JSON)"
   ]
  },
  {
   "cell_type": "code",
   "execution_count": 75,
   "id": "cc0f4328-75de-4616-bcc7-bd6c59d00157",
   "metadata": {},
   "outputs": [
    {
     "data": {
      "text/plain": [
       "[{'Nombre': 'Jetta Variant',\n",
       "  'Motor': 'Motor 4.0 Turbo',\n",
       "  'Year': 2020,\n",
       "  'Kilometraje': 44410.0,\n",
       "  'Cero_km': False,\n",
       "  'Valor': 120000},\n",
       " {'Nombre': 'Camaro',\n",
       "  'Motor': 'Motor 4.54 LS',\n",
       "  'Year': 2022,\n",
       "  'Kilometraje': 12000.0,\n",
       "  'Cero_km': False,\n",
       "  'Valor': 480000},\n",
       " {'Nombre': 'Challenger',\n",
       "  'Motor': 'Motor Turbo 4.3',\n",
       "  'Year': 2025,\n",
       "  'Kilometraje': 0.0,\n",
       "  'Cero_km': True,\n",
       "  'Valor': 680000},\n",
       " {'Nombre': 'Audi R8 Spyder',\n",
       "  'Motor': 'Motor 8.0 Turbo',\n",
       "  'Year': 2032,\n",
       "  'Kilometraje': 0.0,\n",
       "  'Cero_km': True,\n",
       "  'Valor': 4450000}]"
      ]
     },
     "execution_count": 75,
     "metadata": {},
     "output_type": "execute_result"
    }
   ],
   "source": [
    "datos = [\n",
    "    {\"Nombre\": 'Jetta Variant', \"Motor\": 'Motor 4.0 Turbo', \"Year\": 2020, \"Kilometraje\": 44410.0, \"Cero_km\": False, \"Valor\": 120000},\n",
    "    {\"Nombre\": 'Camaro', \"Motor\": 'Motor 4.54 LS', \"Year\": 2022, \"Kilometraje\": 12000.0, \"Cero_km\": False, \"Valor\": 480000},\n",
    "    {\"Nombre\": 'Challenger', \"Motor\": 'Motor Turbo 4.3', \"Year\": 2025, \"Kilometraje\": 0.0, \"Cero_km\": True, \"Valor\": 680000},\n",
    "    {\"Nombre\": 'Audi R8 Spyder', \"Motor\": 'Motor 8.0 Turbo', \"Year\": 2032, \"Kilometraje\": 0.0, \"Cero_km\": True, \"Valor\": 4450000}\n",
    "]\n",
    "datos"
   ]
  },
  {
   "cell_type": "code",
   "execution_count": 77,
   "id": "c07dafa1-4e99-4e7c-9981-27b24cbf1e1c",
   "metadata": {},
   "outputs": [
    {
     "data": {
      "text/html": [
       "<div>\n",
       "<style scoped>\n",
       "    .dataframe tbody tr th:only-of-type {\n",
       "        vertical-align: middle;\n",
       "    }\n",
       "\n",
       "    .dataframe tbody tr th {\n",
       "        vertical-align: top;\n",
       "    }\n",
       "\n",
       "    .dataframe thead th {\n",
       "        text-align: right;\n",
       "    }\n",
       "</style>\n",
       "<table border=\"1\" class=\"dataframe\">\n",
       "  <thead>\n",
       "    <tr style=\"text-align: right;\">\n",
       "      <th></th>\n",
       "      <th>Nombre</th>\n",
       "      <th>Motor</th>\n",
       "      <th>Year</th>\n",
       "      <th>Kilometraje</th>\n",
       "      <th>Cero_km</th>\n",
       "      <th>Valor</th>\n",
       "    </tr>\n",
       "  </thead>\n",
       "  <tbody>\n",
       "    <tr>\n",
       "      <th>0</th>\n",
       "      <td>Jetta Variant</td>\n",
       "      <td>Motor 4.0 Turbo</td>\n",
       "      <td>2020</td>\n",
       "      <td>44410.0</td>\n",
       "      <td>False</td>\n",
       "      <td>120000</td>\n",
       "    </tr>\n",
       "    <tr>\n",
       "      <th>1</th>\n",
       "      <td>Camaro</td>\n",
       "      <td>Motor 4.54 LS</td>\n",
       "      <td>2022</td>\n",
       "      <td>12000.0</td>\n",
       "      <td>False</td>\n",
       "      <td>480000</td>\n",
       "    </tr>\n",
       "    <tr>\n",
       "      <th>2</th>\n",
       "      <td>Challenger</td>\n",
       "      <td>Motor Turbo 4.3</td>\n",
       "      <td>2025</td>\n",
       "      <td>0.0</td>\n",
       "      <td>True</td>\n",
       "      <td>680000</td>\n",
       "    </tr>\n",
       "    <tr>\n",
       "      <th>3</th>\n",
       "      <td>Audi R8 Spyder</td>\n",
       "      <td>Motor 8.0 Turbo</td>\n",
       "      <td>2032</td>\n",
       "      <td>0.0</td>\n",
       "      <td>True</td>\n",
       "      <td>4450000</td>\n",
       "    </tr>\n",
       "  </tbody>\n",
       "</table>\n",
       "</div>"
      ],
      "text/plain": [
       "           Nombre            Motor  Year  Kilometraje  Cero_km    Valor\n",
       "0   Jetta Variant  Motor 4.0 Turbo  2020      44410.0    False   120000\n",
       "1          Camaro    Motor 4.54 LS  2022      12000.0    False   480000\n",
       "2      Challenger  Motor Turbo 4.3  2025          0.0     True   680000\n",
       "3  Audi R8 Spyder  Motor 8.0 Turbo  2032          0.0     True  4450000"
      ]
     },
     "execution_count": 77,
     "metadata": {},
     "output_type": "execute_result"
    }
   ],
   "source": [
    "dataset = pd.DataFrame(datos)\n",
    "dataset"
   ]
  },
  {
   "cell_type": "code",
   "execution_count": 63,
   "id": "facd3c57-2230-4ce7-9d77-065d51f0f017",
   "metadata": {},
   "outputs": [
    {
     "name": "stdout",
     "output_type": "stream",
     "text": [
      "['Nombre' 'Motor' 'Year' 'Kilometraje' 'Cero_km' 'Valor']\n"
     ]
    }
   ],
   "source": [
    "# Nombre de las columnas\n",
    "print(dataset.columns.values)"
   ]
  },
  {
   "cell_type": "code",
   "execution_count": 65,
   "id": "9fde9e14-bac2-471f-a4cc-33f745c79438",
   "metadata": {},
   "outputs": [
    {
     "name": "stdout",
     "output_type": "stream",
     "text": [
      "['Nombre' 'Motor' 'Year' 'Kilometraje']\n"
     ]
    }
   ],
   "source": [
    "# Mostrar las primeras 3 columnas\n",
    "print(dataset.columns.values[:4])"
   ]
  },
  {
   "cell_type": "code",
   "execution_count": 67,
   "id": "52045228-ee37-4ef7-ba69-b47dd682c4a4",
   "metadata": {},
   "outputs": [
    {
     "name": "stdout",
     "output_type": "stream",
     "text": [
      "Valor\n"
     ]
    }
   ],
   "source": [
    "# Mostrar última columna\n",
    "print(dataset.columns.values[-1])"
   ]
  },
  {
   "cell_type": "markdown",
   "id": "73d858e5-c369-4364-93db-2e0f1eb167e3",
   "metadata": {},
   "source": [
    "### Cambiar orden en el que se muestran las columnas"
   ]
  },
  {
   "cell_type": "code",
   "execution_count": 47,
   "id": "cf23f4c6-3e59-478a-adc8-71fb947d0a39",
   "metadata": {},
   "outputs": [
    {
     "data": {
      "text/html": [
       "<div>\n",
       "<style scoped>\n",
       "    .dataframe tbody tr th:only-of-type {\n",
       "        vertical-align: middle;\n",
       "    }\n",
       "\n",
       "    .dataframe tbody tr th {\n",
       "        vertical-align: top;\n",
       "    }\n",
       "\n",
       "    .dataframe thead th {\n",
       "        text-align: right;\n",
       "    }\n",
       "</style>\n",
       "<table border=\"1\" class=\"dataframe\">\n",
       "  <thead>\n",
       "    <tr style=\"text-align: right;\">\n",
       "      <th></th>\n",
       "      <th>Nombre</th>\n",
       "      <th>Valor</th>\n",
       "      <th>Motor</th>\n",
       "      <th>Year</th>\n",
       "      <th>Kilometraje</th>\n",
       "      <th>Cero_km</th>\n",
       "    </tr>\n",
       "  </thead>\n",
       "  <tbody>\n",
       "    <tr>\n",
       "      <th>0</th>\n",
       "      <td>Jetta Variant</td>\n",
       "      <td>120000</td>\n",
       "      <td>Motor 4.0 Turbo</td>\n",
       "      <td>2020</td>\n",
       "      <td>44410.0</td>\n",
       "      <td>False</td>\n",
       "    </tr>\n",
       "    <tr>\n",
       "      <th>1</th>\n",
       "      <td>Camaro</td>\n",
       "      <td>480000</td>\n",
       "      <td>Motor 4.54 LS</td>\n",
       "      <td>2022</td>\n",
       "      <td>12000.0</td>\n",
       "      <td>False</td>\n",
       "    </tr>\n",
       "    <tr>\n",
       "      <th>2</th>\n",
       "      <td>Challenger</td>\n",
       "      <td>680000</td>\n",
       "      <td>Motor Turbo 4.3</td>\n",
       "      <td>2025</td>\n",
       "      <td>0.0</td>\n",
       "      <td>True</td>\n",
       "    </tr>\n",
       "    <tr>\n",
       "      <th>3</th>\n",
       "      <td>Audi R8 Spyder</td>\n",
       "      <td>4450000</td>\n",
       "      <td>Motor 8.0 Turbo</td>\n",
       "      <td>2032</td>\n",
       "      <td>0.0</td>\n",
       "      <td>True</td>\n",
       "    </tr>\n",
       "  </tbody>\n",
       "</table>\n",
       "</div>"
      ],
      "text/plain": [
       "           Nombre    Valor            Motor  Year  Kilometraje  Cero_km\n",
       "0   Jetta Variant   120000  Motor 4.0 Turbo  2020      44410.0    False\n",
       "1          Camaro   480000    Motor 4.54 LS  2022      12000.0    False\n",
       "2      Challenger   680000  Motor Turbo 4.3  2025          0.0     True\n",
       "3  Audi R8 Spyder  4450000  Motor 8.0 Turbo  2032          0.0     True"
      ]
     },
     "execution_count": 47,
     "metadata": {},
     "output_type": "execute_result"
    }
   ],
   "source": [
    "dataset[['Nombre', 'Valor', 'Motor', 'Year', 'Kilometraje', 'Cero_km']]"
   ]
  },
  {
   "cell_type": "markdown",
   "id": "30366c56-d61e-4019-a152-6dfa3c74ada9",
   "metadata": {},
   "source": [
    "### Cambiar nombre de las columnas"
   ]
  },
  {
   "cell_type": "code",
   "execution_count": 79,
   "id": "3469ab1b-6fec-43ee-ab8e-9c8ac82d517c",
   "metadata": {},
   "outputs": [
    {
     "data": {
      "text/html": [
       "<div>\n",
       "<style scoped>\n",
       "    .dataframe tbody tr th:only-of-type {\n",
       "        vertical-align: middle;\n",
       "    }\n",
       "\n",
       "    .dataframe tbody tr th {\n",
       "        vertical-align: top;\n",
       "    }\n",
       "\n",
       "    .dataframe thead th {\n",
       "        text-align: right;\n",
       "    }\n",
       "</style>\n",
       "<table border=\"1\" class=\"dataframe\">\n",
       "  <thead>\n",
       "    <tr style=\"text-align: right;\">\n",
       "      <th></th>\n",
       "      <th>Name</th>\n",
       "      <th>Engine</th>\n",
       "      <th>Year</th>\n",
       "      <th>Mileage</th>\n",
       "      <th>Zero_ml</th>\n",
       "      <th>Price</th>\n",
       "    </tr>\n",
       "  </thead>\n",
       "  <tbody>\n",
       "    <tr>\n",
       "      <th>0</th>\n",
       "      <td>Jetta Variant</td>\n",
       "      <td>Motor 4.0 Turbo</td>\n",
       "      <td>2020</td>\n",
       "      <td>44410.0</td>\n",
       "      <td>False</td>\n",
       "      <td>120000</td>\n",
       "    </tr>\n",
       "    <tr>\n",
       "      <th>1</th>\n",
       "      <td>Camaro</td>\n",
       "      <td>Motor 4.54 LS</td>\n",
       "      <td>2022</td>\n",
       "      <td>12000.0</td>\n",
       "      <td>False</td>\n",
       "      <td>480000</td>\n",
       "    </tr>\n",
       "    <tr>\n",
       "      <th>2</th>\n",
       "      <td>Challenger</td>\n",
       "      <td>Motor Turbo 4.3</td>\n",
       "      <td>2025</td>\n",
       "      <td>0.0</td>\n",
       "      <td>True</td>\n",
       "      <td>680000</td>\n",
       "    </tr>\n",
       "    <tr>\n",
       "      <th>3</th>\n",
       "      <td>Audi R8 Spyder</td>\n",
       "      <td>Motor 8.0 Turbo</td>\n",
       "      <td>2032</td>\n",
       "      <td>0.0</td>\n",
       "      <td>True</td>\n",
       "      <td>4450000</td>\n",
       "    </tr>\n",
       "  </tbody>\n",
       "</table>\n",
       "</div>"
      ],
      "text/plain": [
       "             Name           Engine  Year  Mileage  Zero_ml    Price\n",
       "0   Jetta Variant  Motor 4.0 Turbo  2020  44410.0    False   120000\n",
       "1          Camaro    Motor 4.54 LS  2022  12000.0    False   480000\n",
       "2      Challenger  Motor Turbo 4.3  2025      0.0     True   680000\n",
       "3  Audi R8 Spyder  Motor 8.0 Turbo  2032      0.0     True  4450000"
      ]
     },
     "execution_count": 79,
     "metadata": {},
     "output_type": "execute_result"
    }
   ],
   "source": [
    "dataset = dataset.rename(columns = {\n",
    "    \"Nombre\": 'Name', \n",
    "    \"Motor\": 'Engine', \n",
    "    \"Year\": 'Year', \n",
    "    \"Kilometraje\": 'Mileage', \n",
    "    \"Cero_km\": 'Zero_ml', \n",
    "    \"Valor\": 'Price'\n",
    "})\n",
    "dataset"
   ]
  },
  {
   "cell_type": "markdown",
   "id": "e2048d3c-da94-4eb0-97e4-cbcbf01648c0",
   "metadata": {},
   "source": [
    "### Seleccionar columnas"
   ]
  },
  {
   "cell_type": "code",
   "execution_count": 82,
   "id": "526d9a7b-cda2-4810-8705-c786f753a8ca",
   "metadata": {},
   "outputs": [
    {
     "data": {
      "text/plain": [
       "0    Motor 4.0 Turbo\n",
       "1      Motor 4.54 LS\n",
       "2    Motor Turbo 4.3\n",
       "3    Motor 8.0 Turbo\n",
       "Name: Engine, dtype: object"
      ]
     },
     "execution_count": 82,
     "metadata": {},
     "output_type": "execute_result"
    }
   ],
   "source": [
    "dataset[\"Engine\"]"
   ]
  },
  {
   "cell_type": "code",
   "execution_count": 90,
   "id": "c076dd95-c478-4d0a-875b-a687fa6f145d",
   "metadata": {},
   "outputs": [
    {
     "data": {
      "text/html": [
       "<div>\n",
       "<style scoped>\n",
       "    .dataframe tbody tr th:only-of-type {\n",
       "        vertical-align: middle;\n",
       "    }\n",
       "\n",
       "    .dataframe tbody tr th {\n",
       "        vertical-align: top;\n",
       "    }\n",
       "\n",
       "    .dataframe thead th {\n",
       "        text-align: right;\n",
       "    }\n",
       "</style>\n",
       "<table border=\"1\" class=\"dataframe\">\n",
       "  <thead>\n",
       "    <tr style=\"text-align: right;\">\n",
       "      <th></th>\n",
       "      <th>Name</th>\n",
       "      <th>Price</th>\n",
       "    </tr>\n",
       "  </thead>\n",
       "  <tbody>\n",
       "    <tr>\n",
       "      <th>0</th>\n",
       "      <td>Jetta Variant</td>\n",
       "      <td>120000</td>\n",
       "    </tr>\n",
       "    <tr>\n",
       "      <th>1</th>\n",
       "      <td>Camaro</td>\n",
       "      <td>480000</td>\n",
       "    </tr>\n",
       "    <tr>\n",
       "      <th>2</th>\n",
       "      <td>Challenger</td>\n",
       "      <td>680000</td>\n",
       "    </tr>\n",
       "    <tr>\n",
       "      <th>3</th>\n",
       "      <td>Audi R8 Spyder</td>\n",
       "      <td>4450000</td>\n",
       "    </tr>\n",
       "  </tbody>\n",
       "</table>\n",
       "</div>"
      ],
      "text/plain": [
       "             Name    Price\n",
       "0   Jetta Variant   120000\n",
       "1          Camaro   480000\n",
       "2      Challenger   680000\n",
       "3  Audi R8 Spyder  4450000"
      ]
     },
     "execution_count": 90,
     "metadata": {},
     "output_type": "execute_result"
    }
   ],
   "source": [
    "dataset[[\"Name\", \"Price\"]]"
   ]
  },
  {
   "cell_type": "markdown",
   "id": "09448e98-becd-4b5d-9d94-972775558281",
   "metadata": {},
   "source": [
    "### Mostrar primeras 2 filas"
   ]
  },
  {
   "cell_type": "code",
   "execution_count": 93,
   "id": "37a359bd-47dc-42c1-a8f7-2c7c30e27fc3",
   "metadata": {},
   "outputs": [
    {
     "data": {
      "text/html": [
       "<div>\n",
       "<style scoped>\n",
       "    .dataframe tbody tr th:only-of-type {\n",
       "        vertical-align: middle;\n",
       "    }\n",
       "\n",
       "    .dataframe tbody tr th {\n",
       "        vertical-align: top;\n",
       "    }\n",
       "\n",
       "    .dataframe thead th {\n",
       "        text-align: right;\n",
       "    }\n",
       "</style>\n",
       "<table border=\"1\" class=\"dataframe\">\n",
       "  <thead>\n",
       "    <tr style=\"text-align: right;\">\n",
       "      <th></th>\n",
       "      <th>Name</th>\n",
       "      <th>Engine</th>\n",
       "      <th>Year</th>\n",
       "      <th>Mileage</th>\n",
       "      <th>Zero_ml</th>\n",
       "      <th>Price</th>\n",
       "    </tr>\n",
       "  </thead>\n",
       "  <tbody>\n",
       "    <tr>\n",
       "      <th>0</th>\n",
       "      <td>Jetta Variant</td>\n",
       "      <td>Motor 4.0 Turbo</td>\n",
       "      <td>2020</td>\n",
       "      <td>44410.0</td>\n",
       "      <td>False</td>\n",
       "      <td>120000</td>\n",
       "    </tr>\n",
       "    <tr>\n",
       "      <th>1</th>\n",
       "      <td>Camaro</td>\n",
       "      <td>Motor 4.54 LS</td>\n",
       "      <td>2022</td>\n",
       "      <td>12000.0</td>\n",
       "      <td>False</td>\n",
       "      <td>480000</td>\n",
       "    </tr>\n",
       "  </tbody>\n",
       "</table>\n",
       "</div>"
      ],
      "text/plain": [
       "            Name           Engine  Year  Mileage  Zero_ml   Price\n",
       "0  Jetta Variant  Motor 4.0 Turbo  2020  44410.0    False  120000\n",
       "1         Camaro    Motor 4.54 LS  2022  12000.0    False  480000"
      ]
     },
     "execution_count": 93,
     "metadata": {},
     "output_type": "execute_result"
    }
   ],
   "source": [
    "dataset.head(2)"
   ]
  },
  {
   "cell_type": "markdown",
   "id": "fb1ea039-5a8a-4cde-82cc-40f1c9039a91",
   "metadata": {},
   "source": [
    "### Ver las últimas filas"
   ]
  },
  {
   "cell_type": "code",
   "execution_count": 96,
   "id": "f233e1f2-fde0-478d-a26b-831479cf27d8",
   "metadata": {},
   "outputs": [
    {
     "data": {
      "text/html": [
       "<div>\n",
       "<style scoped>\n",
       "    .dataframe tbody tr th:only-of-type {\n",
       "        vertical-align: middle;\n",
       "    }\n",
       "\n",
       "    .dataframe tbody tr th {\n",
       "        vertical-align: top;\n",
       "    }\n",
       "\n",
       "    .dataframe thead th {\n",
       "        text-align: right;\n",
       "    }\n",
       "</style>\n",
       "<table border=\"1\" class=\"dataframe\">\n",
       "  <thead>\n",
       "    <tr style=\"text-align: right;\">\n",
       "      <th></th>\n",
       "      <th>Name</th>\n",
       "      <th>Engine</th>\n",
       "      <th>Year</th>\n",
       "      <th>Mileage</th>\n",
       "      <th>Zero_ml</th>\n",
       "      <th>Price</th>\n",
       "    </tr>\n",
       "  </thead>\n",
       "  <tbody>\n",
       "    <tr>\n",
       "      <th>2</th>\n",
       "      <td>Challenger</td>\n",
       "      <td>Motor Turbo 4.3</td>\n",
       "      <td>2025</td>\n",
       "      <td>0.0</td>\n",
       "      <td>True</td>\n",
       "      <td>680000</td>\n",
       "    </tr>\n",
       "    <tr>\n",
       "      <th>3</th>\n",
       "      <td>Audi R8 Spyder</td>\n",
       "      <td>Motor 8.0 Turbo</td>\n",
       "      <td>2032</td>\n",
       "      <td>0.0</td>\n",
       "      <td>True</td>\n",
       "      <td>4450000</td>\n",
       "    </tr>\n",
       "  </tbody>\n",
       "</table>\n",
       "</div>"
      ],
      "text/plain": [
       "             Name           Engine  Year  Mileage  Zero_ml    Price\n",
       "2      Challenger  Motor Turbo 4.3  2025      0.0     True   680000\n",
       "3  Audi R8 Spyder  Motor 8.0 Turbo  2032      0.0     True  4450000"
      ]
     },
     "execution_count": 96,
     "metadata": {},
     "output_type": "execute_result"
    }
   ],
   "source": [
    "dataset.tail(2)"
   ]
  },
  {
   "cell_type": "markdown",
   "id": "1ef40930-249e-4da1-831d-e2ee7410e502",
   "metadata": {},
   "source": [
    "### Obtener un resumen del dataset"
   ]
  },
  {
   "cell_type": "code",
   "execution_count": 99,
   "id": "902bcb7b-f6d0-4631-9b4e-13a7470761bb",
   "metadata": {},
   "outputs": [
    {
     "data": {
      "text/html": [
       "<div>\n",
       "<style scoped>\n",
       "    .dataframe tbody tr th:only-of-type {\n",
       "        vertical-align: middle;\n",
       "    }\n",
       "\n",
       "    .dataframe tbody tr th {\n",
       "        vertical-align: top;\n",
       "    }\n",
       "\n",
       "    .dataframe thead th {\n",
       "        text-align: right;\n",
       "    }\n",
       "</style>\n",
       "<table border=\"1\" class=\"dataframe\">\n",
       "  <thead>\n",
       "    <tr style=\"text-align: right;\">\n",
       "      <th></th>\n",
       "      <th>Year</th>\n",
       "      <th>Mileage</th>\n",
       "      <th>Price</th>\n",
       "    </tr>\n",
       "  </thead>\n",
       "  <tbody>\n",
       "    <tr>\n",
       "      <th>count</th>\n",
       "      <td>4.000000</td>\n",
       "      <td>4.000000</td>\n",
       "      <td>4.000000e+00</td>\n",
       "    </tr>\n",
       "    <tr>\n",
       "      <th>mean</th>\n",
       "      <td>2024.750000</td>\n",
       "      <td>14102.500000</td>\n",
       "      <td>1.432500e+06</td>\n",
       "    </tr>\n",
       "    <tr>\n",
       "      <th>std</th>\n",
       "      <td>5.251984</td>\n",
       "      <td>20981.945215</td>\n",
       "      <td>2.024967e+06</td>\n",
       "    </tr>\n",
       "    <tr>\n",
       "      <th>min</th>\n",
       "      <td>2020.000000</td>\n",
       "      <td>0.000000</td>\n",
       "      <td>1.200000e+05</td>\n",
       "    </tr>\n",
       "    <tr>\n",
       "      <th>25%</th>\n",
       "      <td>2021.500000</td>\n",
       "      <td>0.000000</td>\n",
       "      <td>3.900000e+05</td>\n",
       "    </tr>\n",
       "    <tr>\n",
       "      <th>50%</th>\n",
       "      <td>2023.500000</td>\n",
       "      <td>6000.000000</td>\n",
       "      <td>5.800000e+05</td>\n",
       "    </tr>\n",
       "    <tr>\n",
       "      <th>75%</th>\n",
       "      <td>2026.750000</td>\n",
       "      <td>20102.500000</td>\n",
       "      <td>1.622500e+06</td>\n",
       "    </tr>\n",
       "    <tr>\n",
       "      <th>max</th>\n",
       "      <td>2032.000000</td>\n",
       "      <td>44410.000000</td>\n",
       "      <td>4.450000e+06</td>\n",
       "    </tr>\n",
       "  </tbody>\n",
       "</table>\n",
       "</div>"
      ],
      "text/plain": [
       "              Year       Mileage         Price\n",
       "count     4.000000      4.000000  4.000000e+00\n",
       "mean   2024.750000  14102.500000  1.432500e+06\n",
       "std       5.251984  20981.945215  2.024967e+06\n",
       "min    2020.000000      0.000000  1.200000e+05\n",
       "25%    2021.500000      0.000000  3.900000e+05\n",
       "50%    2023.500000   6000.000000  5.800000e+05\n",
       "75%    2026.750000  20102.500000  1.622500e+06\n",
       "max    2032.000000  44410.000000  4.450000e+06"
      ]
     },
     "execution_count": 99,
     "metadata": {},
     "output_type": "execute_result"
    }
   ],
   "source": [
    "dataset.describe()"
   ]
  },
  {
   "cell_type": "markdown",
   "id": "210884fd-ba07-4d17-a08b-77eaeb3b7e0b",
   "metadata": {},
   "source": [
    "### Seleccionar líneas (datos)"
   ]
  },
  {
   "cell_type": "code",
   "execution_count": 112,
   "id": "fe8773c5-f96e-4da6-87a4-53534f028139",
   "metadata": {},
   "outputs": [
    {
     "data": {
      "text/html": [
       "<div>\n",
       "<style scoped>\n",
       "    .dataframe tbody tr th:only-of-type {\n",
       "        vertical-align: middle;\n",
       "    }\n",
       "\n",
       "    .dataframe tbody tr th {\n",
       "        vertical-align: top;\n",
       "    }\n",
       "\n",
       "    .dataframe thead th {\n",
       "        text-align: right;\n",
       "    }\n",
       "</style>\n",
       "<table border=\"1\" class=\"dataframe\">\n",
       "  <thead>\n",
       "    <tr style=\"text-align: right;\">\n",
       "      <th></th>\n",
       "      <th>Name</th>\n",
       "      <th>Engine</th>\n",
       "      <th>Year</th>\n",
       "      <th>Mileage</th>\n",
       "      <th>Zero_ml</th>\n",
       "      <th>Price</th>\n",
       "    </tr>\n",
       "  </thead>\n",
       "  <tbody>\n",
       "    <tr>\n",
       "      <th>0</th>\n",
       "      <td>Jetta Variant</td>\n",
       "      <td>Motor 4.0 Turbo</td>\n",
       "      <td>2020</td>\n",
       "      <td>44410.0</td>\n",
       "      <td>False</td>\n",
       "      <td>120000</td>\n",
       "    </tr>\n",
       "    <tr>\n",
       "      <th>1</th>\n",
       "      <td>Camaro</td>\n",
       "      <td>Motor 4.54 LS</td>\n",
       "      <td>2022</td>\n",
       "      <td>12000.0</td>\n",
       "      <td>False</td>\n",
       "      <td>480000</td>\n",
       "    </tr>\n",
       "  </tbody>\n",
       "</table>\n",
       "</div>"
      ],
      "text/plain": [
       "            Name           Engine  Year  Mileage  Zero_ml   Price\n",
       "0  Jetta Variant  Motor 4.0 Turbo  2020  44410.0    False  120000\n",
       "1         Camaro    Motor 4.54 LS  2022  12000.0    False  480000"
      ]
     },
     "execution_count": 112,
     "metadata": {},
     "output_type": "execute_result"
    }
   ],
   "source": [
    "# Mostrar las primeras 2 filas\n",
    "dataset[:2]"
   ]
  },
  {
   "cell_type": "code",
   "execution_count": 114,
   "id": "6971369f-29af-4695-9d56-4eaae6d0df59",
   "metadata": {},
   "outputs": [
    {
     "data": {
      "text/html": [
       "<div>\n",
       "<style scoped>\n",
       "    .dataframe tbody tr th:only-of-type {\n",
       "        vertical-align: middle;\n",
       "    }\n",
       "\n",
       "    .dataframe tbody tr th {\n",
       "        vertical-align: top;\n",
       "    }\n",
       "\n",
       "    .dataframe thead th {\n",
       "        text-align: right;\n",
       "    }\n",
       "</style>\n",
       "<table border=\"1\" class=\"dataframe\">\n",
       "  <thead>\n",
       "    <tr style=\"text-align: right;\">\n",
       "      <th></th>\n",
       "      <th>Name</th>\n",
       "      <th>Engine</th>\n",
       "      <th>Year</th>\n",
       "      <th>Mileage</th>\n",
       "      <th>Zero_ml</th>\n",
       "      <th>Price</th>\n",
       "    </tr>\n",
       "  </thead>\n",
       "  <tbody>\n",
       "    <tr>\n",
       "      <th>3</th>\n",
       "      <td>Audi R8 Spyder</td>\n",
       "      <td>Motor 8.0 Turbo</td>\n",
       "      <td>2032</td>\n",
       "      <td>0.0</td>\n",
       "      <td>True</td>\n",
       "      <td>4450000</td>\n",
       "    </tr>\n",
       "  </tbody>\n",
       "</table>\n",
       "</div>"
      ],
      "text/plain": [
       "             Name           Engine  Year  Mileage  Zero_ml    Price\n",
       "3  Audi R8 Spyder  Motor 8.0 Turbo  2032      0.0     True  4450000"
      ]
     },
     "execution_count": 114,
     "metadata": {},
     "output_type": "execute_result"
    }
   ],
   "source": [
    "# Mostrar la última fila\n",
    "dataset[-1:]"
   ]
  },
  {
   "cell_type": "code",
   "execution_count": 116,
   "id": "670a5476-9a88-4994-962f-49a71631904c",
   "metadata": {},
   "outputs": [
    {
     "data": {
      "text/html": [
       "<div>\n",
       "<style scoped>\n",
       "    .dataframe tbody tr th:only-of-type {\n",
       "        vertical-align: middle;\n",
       "    }\n",
       "\n",
       "    .dataframe tbody tr th {\n",
       "        vertical-align: top;\n",
       "    }\n",
       "\n",
       "    .dataframe thead th {\n",
       "        text-align: right;\n",
       "    }\n",
       "</style>\n",
       "<table border=\"1\" class=\"dataframe\">\n",
       "  <thead>\n",
       "    <tr style=\"text-align: right;\">\n",
       "      <th></th>\n",
       "      <th>Name</th>\n",
       "      <th>Engine</th>\n",
       "      <th>Year</th>\n",
       "      <th>Mileage</th>\n",
       "      <th>Zero_ml</th>\n",
       "      <th>Price</th>\n",
       "    </tr>\n",
       "  </thead>\n",
       "  <tbody>\n",
       "    <tr>\n",
       "      <th>2</th>\n",
       "      <td>Challenger</td>\n",
       "      <td>Motor Turbo 4.3</td>\n",
       "      <td>2025</td>\n",
       "      <td>0.0</td>\n",
       "      <td>True</td>\n",
       "      <td>680000</td>\n",
       "    </tr>\n",
       "    <tr>\n",
       "      <th>3</th>\n",
       "      <td>Audi R8 Spyder</td>\n",
       "      <td>Motor 8.0 Turbo</td>\n",
       "      <td>2032</td>\n",
       "      <td>0.0</td>\n",
       "      <td>True</td>\n",
       "      <td>4450000</td>\n",
       "    </tr>\n",
       "  </tbody>\n",
       "</table>\n",
       "</div>"
      ],
      "text/plain": [
       "             Name           Engine  Year  Mileage  Zero_ml    Price\n",
       "2      Challenger  Motor Turbo 4.3  2025      0.0     True   680000\n",
       "3  Audi R8 Spyder  Motor 8.0 Turbo  2032      0.0     True  4450000"
      ]
     },
     "execution_count": 116,
     "metadata": {},
     "output_type": "execute_result"
    }
   ],
   "source": [
    "# Mostrar las 2 últimas filas\n",
    "dataset[-2:]"
   ]
  },
  {
   "cell_type": "markdown",
   "id": "325d3d88-8191-4f48-8af0-3b729327a769",
   "metadata": {},
   "source": [
    "### Utilizar loc (.loc) para secciones"
   ]
  },
  {
   "cell_type": "code",
   "execution_count": 128,
   "id": "6b9efd09-1984-4ad5-9236-6f65ae04eaf7",
   "metadata": {},
   "outputs": [
    {
     "data": {
      "text/plain": [
       "Name        Audi R8 Spyder\n",
       "Engine     Motor 8.0 Turbo\n",
       "Year                  2032\n",
       "Mileage                0.0\n",
       "Zero_ml               True\n",
       "Price              4450000\n",
       "Name: 3, dtype: object"
      ]
     },
     "execution_count": 128,
     "metadata": {},
     "output_type": "execute_result"
    }
   ],
   "source": [
    "# Elemento con un índice 3\n",
    "dataset.loc[3]"
   ]
  },
  {
   "cell_type": "code",
   "execution_count": 130,
   "id": "9e641767-3459-4f9f-90c8-55a1fec89a51",
   "metadata": {},
   "outputs": [
    {
     "data": {
      "text/html": [
       "<div>\n",
       "<style scoped>\n",
       "    .dataframe tbody tr th:only-of-type {\n",
       "        vertical-align: middle;\n",
       "    }\n",
       "\n",
       "    .dataframe tbody tr th {\n",
       "        vertical-align: top;\n",
       "    }\n",
       "\n",
       "    .dataframe thead th {\n",
       "        text-align: right;\n",
       "    }\n",
       "</style>\n",
       "<table border=\"1\" class=\"dataframe\">\n",
       "  <thead>\n",
       "    <tr style=\"text-align: right;\">\n",
       "      <th></th>\n",
       "      <th>Name</th>\n",
       "      <th>Engine</th>\n",
       "      <th>Year</th>\n",
       "      <th>Mileage</th>\n",
       "      <th>Zero_ml</th>\n",
       "      <th>Price</th>\n",
       "    </tr>\n",
       "  </thead>\n",
       "  <tbody>\n",
       "    <tr>\n",
       "      <th>1</th>\n",
       "      <td>Camaro</td>\n",
       "      <td>Motor 4.54 LS</td>\n",
       "      <td>2022</td>\n",
       "      <td>12000.0</td>\n",
       "      <td>False</td>\n",
       "      <td>480000</td>\n",
       "    </tr>\n",
       "    <tr>\n",
       "      <th>2</th>\n",
       "      <td>Challenger</td>\n",
       "      <td>Motor Turbo 4.3</td>\n",
       "      <td>2025</td>\n",
       "      <td>0.0</td>\n",
       "      <td>True</td>\n",
       "      <td>680000</td>\n",
       "    </tr>\n",
       "  </tbody>\n",
       "</table>\n",
       "</div>"
      ],
      "text/plain": [
       "         Name           Engine  Year  Mileage  Zero_ml   Price\n",
       "1      Camaro    Motor 4.54 LS  2022  12000.0    False  480000\n",
       "2  Challenger  Motor Turbo 4.3  2025      0.0     True  680000"
      ]
     },
     "execution_count": 130,
     "metadata": {},
     "output_type": "execute_result"
    }
   ],
   "source": [
    "# Elementos de los índices 1 y 2\n",
    "dataset.loc[[1,2]]"
   ]
  },
  {
   "cell_type": "code",
   "execution_count": 138,
   "id": "1737653d-0e1a-4758-bbbc-9d961aafb99a",
   "metadata": {},
   "outputs": [
    {
     "data": {
      "text/html": [
       "<div>\n",
       "<style scoped>\n",
       "    .dataframe tbody tr th:only-of-type {\n",
       "        vertical-align: middle;\n",
       "    }\n",
       "\n",
       "    .dataframe tbody tr th {\n",
       "        vertical-align: top;\n",
       "    }\n",
       "\n",
       "    .dataframe thead th {\n",
       "        text-align: right;\n",
       "    }\n",
       "</style>\n",
       "<table border=\"1\" class=\"dataframe\">\n",
       "  <thead>\n",
       "    <tr style=\"text-align: right;\">\n",
       "      <th></th>\n",
       "      <th>Name</th>\n",
       "      <th>Price</th>\n",
       "    </tr>\n",
       "  </thead>\n",
       "  <tbody>\n",
       "    <tr>\n",
       "      <th>0</th>\n",
       "      <td>Jetta Variant</td>\n",
       "      <td>120000</td>\n",
       "    </tr>\n",
       "    <tr>\n",
       "      <th>1</th>\n",
       "      <td>Camaro</td>\n",
       "      <td>480000</td>\n",
       "    </tr>\n",
       "    <tr>\n",
       "      <th>2</th>\n",
       "      <td>Challenger</td>\n",
       "      <td>680000</td>\n",
       "    </tr>\n",
       "    <tr>\n",
       "      <th>3</th>\n",
       "      <td>Audi R8 Spyder</td>\n",
       "      <td>4450000</td>\n",
       "    </tr>\n",
       "  </tbody>\n",
       "</table>\n",
       "</div>"
      ],
      "text/plain": [
       "             Name    Price\n",
       "0   Jetta Variant   120000\n",
       "1          Camaro   480000\n",
       "2      Challenger   680000\n",
       "3  Audi R8 Spyder  4450000"
      ]
     },
     "execution_count": 138,
     "metadata": {},
     "output_type": "execute_result"
    }
   ],
   "source": [
    "# Mostrar nombre y precio\n",
    "dataset.loc[: ,['Name', 'Price']]"
   ]
  },
  {
   "cell_type": "code",
   "execution_count": 140,
   "id": "2f29534f-bf88-44cf-96fc-9189c425d0eb",
   "metadata": {},
   "outputs": [
    {
     "data": {
      "text/html": [
       "<div>\n",
       "<style scoped>\n",
       "    .dataframe tbody tr th:only-of-type {\n",
       "        vertical-align: middle;\n",
       "    }\n",
       "\n",
       "    .dataframe tbody tr th {\n",
       "        vertical-align: top;\n",
       "    }\n",
       "\n",
       "    .dataframe thead th {\n",
       "        text-align: right;\n",
       "    }\n",
       "</style>\n",
       "<table border=\"1\" class=\"dataframe\">\n",
       "  <thead>\n",
       "    <tr style=\"text-align: right;\">\n",
       "      <th></th>\n",
       "      <th>Name</th>\n",
       "      <th>Price</th>\n",
       "    </tr>\n",
       "  </thead>\n",
       "  <tbody>\n",
       "    <tr>\n",
       "      <th>1</th>\n",
       "      <td>Camaro</td>\n",
       "      <td>480000</td>\n",
       "    </tr>\n",
       "    <tr>\n",
       "      <th>2</th>\n",
       "      <td>Challenger</td>\n",
       "      <td>680000</td>\n",
       "    </tr>\n",
       "  </tbody>\n",
       "</table>\n",
       "</div>"
      ],
      "text/plain": [
       "         Name   Price\n",
       "1      Camaro  480000\n",
       "2  Challenger  680000"
      ]
     },
     "execution_count": 140,
     "metadata": {},
     "output_type": "execute_result"
    }
   ],
   "source": [
    "dataset.loc[1:2, ['Name', 'Price']]"
   ]
  }
 ],
 "metadata": {
  "kernelspec": {
   "display_name": "Python [conda env:base] *",
   "language": "python",
   "name": "conda-base-py"
  },
  "language_info": {
   "codemirror_mode": {
    "name": "ipython",
    "version": 3
   },
   "file_extension": ".py",
   "mimetype": "text/x-python",
   "name": "python",
   "nbconvert_exporter": "python",
   "pygments_lexer": "ipython3",
   "version": "3.12.7"
  }
 },
 "nbformat": 4,
 "nbformat_minor": 5
}
