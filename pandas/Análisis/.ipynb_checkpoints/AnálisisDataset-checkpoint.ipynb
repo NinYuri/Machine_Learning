{
 "cells": [
  {
   "cell_type": "markdown",
   "id": "a4009feb-d6cf-4d6c-905c-662f8144fbaa",
   "metadata": {},
   "source": [
    "# Importación del Dataset"
   ]
  },
  {
   "cell_type": "code",
   "execution_count": 47,
   "id": "81f30958-5aed-4fad-9fa3-384224a576f0",
   "metadata": {},
   "outputs": [],
   "source": [
    "import pandas as pd\n",
    "import matplotlib.pyplot as plt\n",
    "import seaborn as sns"
   ]
  },
  {
   "cell_type": "code",
   "execution_count": 112,
   "id": "c8e8f665-94f8-4811-b64f-c32e48a2c5e2",
   "metadata": {},
   "outputs": [
    {
     "name": "stdout",
     "output_type": "stream",
     "text": [
      "\u001b[1;35mDataset Conferencias Mañaneras\u001b[0m\n",
      "\n"
     ]
    },
    {
     "data": {
      "text/html": [
       "<div>\n",
       "<style scoped>\n",
       "    .dataframe tbody tr th:only-of-type {\n",
       "        vertical-align: middle;\n",
       "    }\n",
       "\n",
       "    .dataframe tbody tr th {\n",
       "        vertical-align: top;\n",
       "    }\n",
       "\n",
       "    .dataframe thead th {\n",
       "        text-align: right;\n",
       "    }\n",
       "</style>\n",
       "<table border=\"1\" class=\"dataframe\">\n",
       "  <thead>\n",
       "    <tr style=\"text-align: right;\">\n",
       "      <th></th>\n",
       "      <th>Unnamed: 0</th>\n",
       "      <th>speaker</th>\n",
       "      <th>dialog</th>\n",
       "      <th>length</th>\n",
       "    </tr>\n",
       "  </thead>\n",
       "  <tbody>\n",
       "    <tr>\n",
       "      <th>0</th>\n",
       "      <td>0</td>\n",
       "      <td>amlo</td>\n",
       "      <td>Amigas, amigos, paisanas, paisanos de Palenque:</td>\n",
       "      <td>47</td>\n",
       "    </tr>\n",
       "    <tr>\n",
       "      <th>1</th>\n",
       "      <td>1</td>\n",
       "      <td>amlo</td>\n",
       "      <td>Me da mucho gusto estar de nuevo en trabajos d...</td>\n",
       "      <td>91</td>\n",
       "    </tr>\n",
       "    <tr>\n",
       "      <th>2</th>\n",
       "      <td>2</td>\n",
       "      <td>amlo</td>\n",
       "      <td>Antes de entrar en materia, quiero enviar un s...</td>\n",
       "      <td>471</td>\n",
       "    </tr>\n",
       "    <tr>\n",
       "      <th>3</th>\n",
       "      <td>3</td>\n",
       "      <td>amlo</td>\n",
       "      <td>Di la instrucción de que se mantengan trabajan...</td>\n",
       "      <td>338</td>\n",
       "    </tr>\n",
       "    <tr>\n",
       "      <th>4</th>\n",
       "      <td>4</td>\n",
       "      <td>amlo</td>\n",
       "      <td>Quiero decirles a mis paisanos que padecen, qu...</td>\n",
       "      <td>113</td>\n",
       "    </tr>\n",
       "    <tr>\n",
       "      <th>...</th>\n",
       "      <td>...</td>\n",
       "      <td>...</td>\n",
       "      <td>...</td>\n",
       "      <td>...</td>\n",
       "    </tr>\n",
       "    <tr>\n",
       "      <th>155502</th>\n",
       "      <td>155502</td>\n",
       "      <td>amlo</td>\n",
       "      <td>¡Que viva Francisco I. Madero!</td>\n",
       "      <td>30</td>\n",
       "    </tr>\n",
       "    <tr>\n",
       "      <th>155503</th>\n",
       "      <td>155503</td>\n",
       "      <td>amlo</td>\n",
       "      <td>¡Que viva Venustiano Carranza!</td>\n",
       "      <td>30</td>\n",
       "    </tr>\n",
       "    <tr>\n",
       "      <th>155504</th>\n",
       "      <td>155504</td>\n",
       "      <td>amlo</td>\n",
       "      <td>¡Viva México!</td>\n",
       "      <td>13</td>\n",
       "    </tr>\n",
       "    <tr>\n",
       "      <th>155505</th>\n",
       "      <td>155505</td>\n",
       "      <td>amlo</td>\n",
       "      <td>¡Viva México!</td>\n",
       "      <td>13</td>\n",
       "    </tr>\n",
       "    <tr>\n",
       "      <th>155506</th>\n",
       "      <td>155506</td>\n",
       "      <td>amlo</td>\n",
       "      <td>¡Viva México!</td>\n",
       "      <td>13</td>\n",
       "    </tr>\n",
       "  </tbody>\n",
       "</table>\n",
       "<p>155507 rows × 4 columns</p>\n",
       "</div>"
      ],
      "text/plain": [
       "        Unnamed: 0 speaker                                             dialog  \\\n",
       "0                0    amlo    Amigas, amigos, paisanas, paisanos de Palenque:   \n",
       "1                1    amlo  Me da mucho gusto estar de nuevo en trabajos d...   \n",
       "2                2    amlo  Antes de entrar en materia, quiero enviar un s...   \n",
       "3                3    amlo  Di la instrucción de que se mantengan trabajan...   \n",
       "4                4    amlo  Quiero decirles a mis paisanos que padecen, qu...   \n",
       "...            ...     ...                                                ...   \n",
       "155502      155502    amlo                     ¡Que viva Francisco I. Madero!   \n",
       "155503      155503    amlo                     ¡Que viva Venustiano Carranza!   \n",
       "155504      155504    amlo                                      ¡Viva México!   \n",
       "155505      155505    amlo                                      ¡Viva México!   \n",
       "155506      155506    amlo                                      ¡Viva México!   \n",
       "\n",
       "        length  \n",
       "0           47  \n",
       "1           91  \n",
       "2          471  \n",
       "3          338  \n",
       "4          113  \n",
       "...        ...  \n",
       "155502      30  \n",
       "155503      30  \n",
       "155504      13  \n",
       "155505      13  \n",
       "155506      13  \n",
       "\n",
       "[155507 rows x 4 columns]"
      ]
     },
     "execution_count": 112,
     "metadata": {},
     "output_type": "execute_result"
    }
   ],
   "source": [
    "print(\"\\033[1;35m\" + \"Dataset Conferencias Mañaneras\" + \"\\033[0m\\n\")\n",
    "df_dialog = pd.read_csv('dataset_dialogos.csv')\n",
    "df_dialog"
   ]
  },
  {
   "cell_type": "markdown",
   "id": "fd4b2238-b62e-4914-b50c-0d1131220059",
   "metadata": {},
   "source": [
    "## Revisión General"
   ]
  },
  {
   "cell_type": "code",
   "execution_count": 115,
   "id": "5557b394-1ce2-449e-bec8-bb9a404cee49",
   "metadata": {},
   "outputs": [
    {
     "name": "stdout",
     "output_type": "stream",
     "text": [
      "\u001b[1;33mInformación General\u001b[0m\n",
      "\n",
      "<class 'pandas.core.frame.DataFrame'>\n",
      "RangeIndex: 155507 entries, 0 to 155506\n",
      "Data columns (total 4 columns):\n",
      " #   Column      Non-Null Count   Dtype \n",
      "---  ------      --------------   ----- \n",
      " 0   Unnamed: 0  155507 non-null  int64 \n",
      " 1   speaker     155507 non-null  object\n",
      " 2   dialog      155507 non-null  object\n",
      " 3   length      155507 non-null  int64 \n",
      "dtypes: int64(2), object(2)\n",
      "memory usage: 4.7+ MB\n"
     ]
    }
   ],
   "source": [
    "print(\"\\033[1;33m\" + \"Información General\" + \"\\033[0m\\n\")\n",
    "df_dialog.info()"
   ]
  },
  {
   "cell_type": "code",
   "execution_count": 117,
   "id": "54c424e5-4587-435a-9d36-b9289aa0d93c",
   "metadata": {},
   "outputs": [
    {
     "name": "stdout",
     "output_type": "stream",
     "text": [
      "\u001b[1;33mDatos Faltantes\u001b[0m\n",
      "\n",
      "Unnamed: 0    0\n",
      "speaker       0\n",
      "dialog        0\n",
      "length        0\n",
      "dtype: int64\n"
     ]
    }
   ],
   "source": [
    "# Detección de datos faltantes\n",
    "\n",
    "print(\"\\033[1;33m\" + \"Datos Faltantes\" + \"\\033[0m\\n\")\n",
    "print(df_dialog.isnull().sum())"
   ]
  },
  {
   "cell_type": "code",
   "execution_count": 119,
   "id": "7c1f1a94-2a0f-4013-8c54-390d4576d0fc",
   "metadata": {},
   "outputs": [
    {
     "name": "stdout",
     "output_type": "stream",
     "text": [
      "\u001b[1;33mNúmero de filas duplicadas:\u001b[0m 0\n"
     ]
    }
   ],
   "source": [
    "# Detección de datos duplicados\n",
    "\n",
    "print(\"\\033[1;33mNúmero de filas duplicadas:\\033[0m\", df_dialog.duplicated().sum())"
   ]
  },
  {
   "cell_type": "code",
   "execution_count": 121,
   "id": "7ae36c7d-0c3d-4d25-ab14-539dc4d947ac",
   "metadata": {},
   "outputs": [
    {
     "name": "stdout",
     "output_type": "stream",
     "text": [
      "\u001b[1;33mConteo de Oradores\u001b[0m\n",
      "\n",
      "speaker\n",
      "amlo            114019\n",
      "lopez-gatell     41488\n",
      "Name: count, dtype: int64\n"
     ]
    }
   ],
   "source": [
    "# Análisis de oradores\n",
    "\n",
    "if 'speaker' in df_dialog.columns:\n",
    "    print(\"\\033[1;33m\" + \"Conteo de Oradores\" + \"\\033[0m\\n\")\n",
    "    print(df_dialog['speaker'].value_counts())"
   ]
  },
  {
   "cell_type": "code",
   "execution_count": 132,
   "id": "81110d60-d0df-48d4-a73f-e4e21f7e6f4d",
   "metadata": {},
   "outputs": [
    {
     "data": {
      "image/png": "[encoded data removed]",
      "text/plain": [
       "<Figure size 640x480 with 1 Axes>"
      ]
     },
     "metadata": {},
     "output_type": "display_data"
    }
   ],
   "source": [
    "# Frecuencia de mensajes\n",
    "\n",
    "df_dialog['speaker'].value_counts().plot(kind='bar', color='skyblue')\n",
    "plt.title(\"Frecuencia de mensajes por orador\\n\", color='purple')\n",
    "plt.xlabel(\"Orador\", color='#CC7722')\n",
    "plt.ylabel(\"Número de mensajes\", color='#CC7722')\n",
    "plt.show()"
   ]
  },
  {
   "cell_type": "code",
   "execution_count": 123,
   "id": "be47c089-334e-4fda-a8fe-511f5956b78e",
   "metadata": {},
   "outputs": [
    {
     "data": {
      "image/png": "[encoded data removed]",
      "text/plain": [
       "<Figure size 1000x600 with 1 Axes>"
      ]
     },
     "metadata": {},
     "output_type": "display_data"
    }
   ],
   "source": [
    "# Analisis de longitud de mensaje\n",
    "\n",
    "plt.figure(figsize=(10, 6))\n",
    "sns.boxplot(x=df_dialog['length'], color='skyblue')\n",
    "plt.title(\"Boxplot de la longitud del diálogo (length)\\n\", color = 'purple')\n",
    "plt.xlabel(\"Longitud del diálogo (número de letras)\", color = '#CC7722')\n",
    "plt.show()"
   ]
  },
  {
   "cell_type": "markdown",
   "id": "d71c4bdc-c54c-4626-8213-6a80dc420ec9",
   "metadata": {},
   "source": [
    "## Observaciones"
   ]
  },
  {
   "cell_type": "markdown",
   "id": "86697b73-c2cb-421b-9ea9-2b2afafcea97",
   "metadata": {},
   "source": [
    "Existen mensajes en dialog que contienen dos espacios seguidos o más en cualquier parte del texto, \n",
    "\n",
    "Se puede usar una expresión regular con el método str.contains() de Pandas\n",
    "* **\\s:** Representa cualquier carácter de espacio (espacio, tabulación, etc.).\n",
    "* **{2,}:** Indica que el carácter anterior (\\s) debe aparecer dos o más veces."
   ]
  },
  {
   "cell_type": "code",
   "execution_count": 136,
   "id": "b8898af1-7d5f-480a-911e-59f31b492d4c",
   "metadata": {},
   "outputs": [
    {
     "name": "stdout",
     "output_type": "stream",
     "text": [
      "\u001b[1;36mEspacios Consecutivos\u001b[0m\n",
      "\n"
     ]
    },
    {
     "data": {
      "text/html": [
       "<div>\n",
       "<style scoped>\n",
       "    .dataframe tbody tr th:only-of-type {\n",
       "        vertical-align: middle;\n",
       "    }\n",
       "\n",
       "    .dataframe tbody tr th {\n",
       "        vertical-align: top;\n",
       "    }\n",
       "\n",
       "    .dataframe thead th {\n",
       "        text-align: right;\n",
       "    }\n",
       "</style>\n",
       "<table border=\"1\" class=\"dataframe\">\n",
       "  <thead>\n",
       "    <tr style=\"text-align: right;\">\n",
       "      <th></th>\n",
       "      <th>Unnamed: 0</th>\n",
       "      <th>speaker</th>\n",
       "      <th>dialog</th>\n",
       "      <th>length</th>\n",
       "    </tr>\n",
       "  </thead>\n",
       "  <tbody>\n",
       "    <tr>\n",
       "      <th>96</th>\n",
       "      <td>96</td>\n",
       "      <td>lopez-gatell</td>\n",
       "      <td>Es aproximadamente entre 65 y 75 por ciento, e...</td>\n",
       "      <td>205</td>\n",
       "    </tr>\n",
       "    <tr>\n",
       "      <th>962</th>\n",
       "      <td>962</td>\n",
       "      <td>lopez-gatell</td>\n",
       "      <td>Varias semanas estuvimos en comunicación media...</td>\n",
       "      <td>316</td>\n",
       "    </tr>\n",
       "    <tr>\n",
       "      <th>980</th>\n",
       "      <td>980</td>\n",
       "      <td>lopez-gatell</td>\n",
       "      <td>Ahora, a propósito de lo que menciona, es un e...</td>\n",
       "      <td>237</td>\n",
       "    </tr>\n",
       "    <tr>\n",
       "      <th>987</th>\n",
       "      <td>987</td>\n",
       "      <td>lopez-gatell</td>\n",
       "      <td>Entonces voy a hablar con la  jefa de Gobierno...</td>\n",
       "      <td>213</td>\n",
       "    </tr>\n",
       "    <tr>\n",
       "      <th>1896</th>\n",
       "      <td>1896</td>\n",
       "      <td>lopez-gatell</td>\n",
       "      <td>La estrategia es una intervención de larga dur...</td>\n",
       "      <td>638</td>\n",
       "    </tr>\n",
       "    <tr>\n",
       "      <th>...</th>\n",
       "      <td>...</td>\n",
       "      <td>...</td>\n",
       "      <td>...</td>\n",
       "      <td>...</td>\n",
       "    </tr>\n",
       "    <tr>\n",
       "      <th>132991</th>\n",
       "      <td>132991</td>\n",
       "      <td>amlo</td>\n",
       "      <td>¿No tenemos lo de las intermedias, de los gobi...</td>\n",
       "      <td>484</td>\n",
       "    </tr>\n",
       "    <tr>\n",
       "      <th>133081</th>\n",
       "      <td>133081</td>\n",
       "      <td>amlo</td>\n",
       "      <td>Entonces, todo fue muy agradable.  Es una extr...</td>\n",
       "      <td>355</td>\n",
       "    </tr>\n",
       "    <tr>\n",
       "      <th>133504</th>\n",
       "      <td>133504</td>\n",
       "      <td>amlo</td>\n",
       "      <td>Aplica la frase de Juárez ‘El triunfo de la re...</td>\n",
       "      <td>282</td>\n",
       "    </tr>\n",
       "    <tr>\n",
       "      <th>134633</th>\n",
       "      <td>134633</td>\n",
       "      <td>amlo</td>\n",
       "      <td>Pocos días después vino el entendimiento, el a...</td>\n",
       "      <td>379</td>\n",
       "    </tr>\n",
       "    <tr>\n",
       "      <th>146323</th>\n",
       "      <td>146323</td>\n",
       "      <td>amlo</td>\n",
       "      <td>‘Sólo me resta decirles que de no cumplirse es...</td>\n",
       "      <td>249</td>\n",
       "    </tr>\n",
       "  </tbody>\n",
       "</table>\n",
       "<p>415 rows × 4 columns</p>\n",
       "</div>"
      ],
      "text/plain": [
       "        Unnamed: 0       speaker  \\\n",
       "96              96  lopez-gatell   \n",
       "962            962  lopez-gatell   \n",
       "980            980  lopez-gatell   \n",
       "987            987  lopez-gatell   \n",
       "1896          1896  lopez-gatell   \n",
       "...            ...           ...   \n",
       "132991      132991          amlo   \n",
       "133081      133081          amlo   \n",
       "133504      133504          amlo   \n",
       "134633      134633          amlo   \n",
       "146323      146323          amlo   \n",
       "\n",
       "                                                   dialog  length  \n",
       "96      Es aproximadamente entre 65 y 75 por ciento, e...     205  \n",
       "962     Varias semanas estuvimos en comunicación media...     316  \n",
       "980     Ahora, a propósito de lo que menciona, es un e...     237  \n",
       "987     Entonces voy a hablar con la  jefa de Gobierno...     213  \n",
       "1896    La estrategia es una intervención de larga dur...     638  \n",
       "...                                                   ...     ...  \n",
       "132991  ¿No tenemos lo de las intermedias, de los gobi...     484  \n",
       "133081  Entonces, todo fue muy agradable.  Es una extr...     355  \n",
       "133504  Aplica la frase de Juárez ‘El triunfo de la re...     282  \n",
       "134633  Pocos días después vino el entendimiento, el a...     379  \n",
       "146323  ‘Sólo me resta decirles que de no cumplirse es...     249  \n",
       "\n",
       "[415 rows x 4 columns]"
      ]
     },
     "execution_count": 136,
     "metadata": {},
     "output_type": "execute_result"
    }
   ],
   "source": [
    "print(\"\\033[1;36m\" + \"Espacios Consecutivos\" + \"\\033[0m\\n\")\n",
    "df_dialog[df_dialog['dialog'].str.contains(r'\\s{2,}')]"
   ]
  }
 ],
 "metadata": {
  "kernelspec": {
   "display_name": "Python [conda env:base] *",
   "language": "python",
   "name": "conda-base-py"
  },
  "language_info": {
   "codemirror_mode": {
    "name": "ipython",
    "version": 3
   },
   "file_extension": ".py",
   "mimetype": "text/x-python",
   "name": "python",
   "nbconvert_exporter": "python",
   "pygments_lexer": "ipython3",
   "version": "3.12.7"
  }
 },
 "nbformat": 4,
 "nbformat_minor": 5
}
