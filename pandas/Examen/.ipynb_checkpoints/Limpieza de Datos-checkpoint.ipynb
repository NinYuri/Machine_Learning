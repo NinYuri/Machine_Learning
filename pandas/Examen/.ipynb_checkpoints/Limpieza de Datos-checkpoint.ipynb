{
 "cells": [
  {
   "cell_type": "markdown",
   "id": "eae46d27-5568-4bce-931f-18476de3d6be",
   "metadata": {},
   "source": [
    "# LIMPIEZA DE DATOS"
   ]
  },
  {
   "cell_type": "markdown",
   "id": "fec7b6dc-d04b-4258-af9c-64fca3f67a29",
   "metadata": {},
   "source": [
    "## Revisión del Dataset"
   ]
  },
  {
   "cell_type": "code",
   "execution_count": 290,
   "id": "e93e0573-3985-4ac2-8a29-a1cc731dc1c1",
   "metadata": {},
   "outputs": [],
   "source": [
    "# Importar librerías\n",
    "import pandas as pd\n",
    "import numpy as np\n",
    "import matplotlib.pyplot as plt"
   ]
  },
  {
   "cell_type": "code",
   "execution_count": 292,
   "id": "336be185-7765-446a-afb5-84eb7848035a",
   "metadata": {},
   "outputs": [
    {
     "name": "stdout",
     "output_type": "stream",
     "text": [
      "\u001b[1;35mDATASET VIDEOJUEGOS\u001b[0m\n",
      "\n"
     ]
    },
    {
     "data": {
      "text/html": [
       "<div>\n",
       "<style scoped>\n",
       "    .dataframe tbody tr th:only-of-type {\n",
       "        vertical-align: middle;\n",
       "    }\n",
       "\n",
       "    .dataframe tbody tr th {\n",
       "        vertical-align: top;\n",
       "    }\n",
       "\n",
       "    .dataframe thead th {\n",
       "        text-align: right;\n",
       "    }\n",
       "</style>\n",
       "<table border=\"1\" class=\"dataframe\">\n",
       "  <thead>\n",
       "    <tr style=\"text-align: right;\">\n",
       "      <th></th>\n",
       "      <th>name</th>\n",
       "      <th>platform</th>\n",
       "      <th>release_date</th>\n",
       "      <th>summary</th>\n",
       "      <th>meta_score</th>\n",
       "      <th>user_review</th>\n",
       "    </tr>\n",
       "  </thead>\n",
       "  <tbody>\n",
       "    <tr>\n",
       "      <th>0</th>\n",
       "      <td>The Legend of Zelda: Ocarina of Time</td>\n",
       "      <td>Nintendo 64</td>\n",
       "      <td>November 23, 1998</td>\n",
       "      <td>As a young boy, Link is tricked by Ganondorf, ...</td>\n",
       "      <td>99</td>\n",
       "      <td>9.1</td>\n",
       "    </tr>\n",
       "    <tr>\n",
       "      <th>1</th>\n",
       "      <td>Tony Hawk's Pro Skater 2</td>\n",
       "      <td>PlayStation</td>\n",
       "      <td>September 20, 2000</td>\n",
       "      <td>As most major publishers' development efforts ...</td>\n",
       "      <td>98</td>\n",
       "      <td>7.4</td>\n",
       "    </tr>\n",
       "    <tr>\n",
       "      <th>2</th>\n",
       "      <td>Grand Theft Auto IV</td>\n",
       "      <td>PlayStation 3</td>\n",
       "      <td>April 29, 2008</td>\n",
       "      <td>[Metacritic's 2008 PS3 Game of the Year; Also ...</td>\n",
       "      <td>98</td>\n",
       "      <td>7.7</td>\n",
       "    </tr>\n",
       "    <tr>\n",
       "      <th>3</th>\n",
       "      <td>SoulCalibur</td>\n",
       "      <td>Dreamcast</td>\n",
       "      <td>September 8, 1999</td>\n",
       "      <td>This is a tale of souls and swords, transcendi...</td>\n",
       "      <td>98</td>\n",
       "      <td>8.4</td>\n",
       "    </tr>\n",
       "    <tr>\n",
       "      <th>4</th>\n",
       "      <td>Grand Theft Auto IV</td>\n",
       "      <td>Xbox 360</td>\n",
       "      <td>April 29, 2008</td>\n",
       "      <td>[Metacritic's 2008 Xbox 360 Game of the Year; ...</td>\n",
       "      <td>98</td>\n",
       "      <td>7.9</td>\n",
       "    </tr>\n",
       "  </tbody>\n",
       "</table>\n",
       "</div>"
      ],
      "text/plain": [
       "                                   name        platform        release_date  \\\n",
       "0  The Legend of Zelda: Ocarina of Time     Nintendo 64   November 23, 1998   \n",
       "1              Tony Hawk's Pro Skater 2     PlayStation  September 20, 2000   \n",
       "2                   Grand Theft Auto IV   PlayStation 3      April 29, 2008   \n",
       "3                           SoulCalibur       Dreamcast   September 8, 1999   \n",
       "4                   Grand Theft Auto IV        Xbox 360      April 29, 2008   \n",
       "\n",
       "                                             summary  meta_score user_review  \n",
       "0  As a young boy, Link is tricked by Ganondorf, ...          99         9.1  \n",
       "1  As most major publishers' development efforts ...          98         7.4  \n",
       "2  [Metacritic's 2008 PS3 Game of the Year; Also ...          98         7.7  \n",
       "3  This is a tale of souls and swords, transcendi...          98         8.4  \n",
       "4  [Metacritic's 2008 Xbox 360 Game of the Year; ...          98         7.9  "
      ]
     },
     "execution_count": 292,
     "metadata": {},
     "output_type": "execute_result"
    }
   ],
   "source": [
    "# Leer el archivo\n",
    "print(\"\\033[1;35m\" + \"DATASET VIDEOJUEGOS\" + \"\\033[0m\\n\")\n",
    "dfv = pd.read_csv('dataset_videojuegos.csv')\n",
    "dfv.head()"
   ]
  },
  {
   "cell_type": "code",
   "execution_count": 294,
   "id": "5c675924-046e-41d7-ab7b-12ad9368c5fa",
   "metadata": {},
   "outputs": [
    {
     "name": "stdout",
     "output_type": "stream",
     "text": [
      "\u001b[1;36mInformación General\u001b[0m\n",
      "\n",
      "<class 'pandas.core.frame.DataFrame'>\n",
      "RangeIndex: 18800 entries, 0 to 18799\n",
      "Data columns (total 6 columns):\n",
      " #   Column        Non-Null Count  Dtype \n",
      "---  ------        --------------  ----- \n",
      " 0   name          18800 non-null  object\n",
      " 1   platform      18800 non-null  object\n",
      " 2   release_date  18800 non-null  object\n",
      " 3   summary       18686 non-null  object\n",
      " 4   meta_score    18800 non-null  int64 \n",
      " 5   user_review   18800 non-null  object\n",
      "dtypes: int64(1), object(5)\n",
      "memory usage: 881.4+ KB\n"
     ]
    }
   ],
   "source": [
    "# Obtener información general\n",
    "print(\"\\033[1;36m\" + \"Información General\" + \"\\033[0m\\n\")\n",
    "dfv.info()"
   ]
  },
  {
   "cell_type": "code",
   "execution_count": 296,
   "id": "91a8d87f-feb9-46cc-a788-8198cccda07b",
   "metadata": {},
   "outputs": [
    {
     "name": "stdout",
     "output_type": "stream",
     "text": [
      "\u001b[1;36mExistencia de Filas Repetidas\u001b[0m\n",
      "0\n"
     ]
    }
   ],
   "source": [
    "# Verificar si existen filas repetidas\n",
    "print(\"\\033[1;36m\" + \"Existencia de Filas Repetidas\" + \"\\033[0m\")\n",
    "print(dfv.duplicated().sum())"
   ]
  },
  {
   "cell_type": "markdown",
   "id": "4e1a99a5-1903-485b-ba7f-cba7776e5520",
   "metadata": {},
   "source": [
    "## Valores nulos"
   ]
  },
  {
   "cell_type": "code",
   "execution_count": 299,
   "id": "63c8c38f-06e3-4b23-aad2-a8dd1c044875",
   "metadata": {},
   "outputs": [
    {
     "name": "stdout",
     "output_type": "stream",
     "text": [
      "\u001b[1;36mValores Nulos\u001b[0m\n",
      "\n",
      "name              0\n",
      "platform          0\n",
      "release_date      0\n",
      "summary         114\n",
      "meta_score        0\n",
      "user_review       0\n",
      "dtype: int64\n"
     ]
    }
   ],
   "source": [
    "# Verificar valores faltantes\n",
    "print(\"\\033[1;36m\" + \"Valores Nulos\" + \"\\033[0m\\n\")\n",
    "print(dfv.isnull().sum())"
   ]
  },
  {
   "cell_type": "code",
   "execution_count": 301,
   "id": "6c6ddc50-b96b-4878-ab9f-4638dbffe62b",
   "metadata": {},
   "outputs": [
    {
     "name": "stdout",
     "output_type": "stream",
     "text": [
      "\u001b[36;1mFilas faltantes en summary:\u001b[0m 114, \u001b[36;1mPorcentaje:\u001b[0m 0.61%\n"
     ]
    }
   ],
   "source": [
    "# Revisar su porcentaje\n",
    "null = dfv.isnull().sum().sort_values(ascending = False)\n",
    "null_counts = null[null > 0]\n",
    "\n",
    "for col in null_counts.index:\n",
    "    perc = ((dfv[col].isnull().sum() / len(dfv)) * 100).round(2)\n",
    "    print(f\"\\033[36;1mFilas faltantes en {col}:\\033[0m {dfv[col].isnull().sum()}, \\033[36;1mPorcentaje:\\033[0m {perc}%\")"
   ]
  },
  {
   "cell_type": "markdown",
   "id": "9a0a8f10-8354-475e-ac43-7e6f6bc5558c",
   "metadata": {},
   "source": [
    "#### Eliminación\n",
    "Como representa un muy bajo porcentaje, el eliminarlos no afectará significativamente el tamaño del dataset y asegurará que todas las filas estén completas."
   ]
  },
  {
   "cell_type": "code",
   "execution_count": 304,
   "id": "84ac6bf4-2c85-4fcc-a1cc-1df6808602c7",
   "metadata": {},
   "outputs": [],
   "source": [
    "dfv = dfv.dropna(subset=['summary'])"
   ]
  },
  {
   "cell_type": "code",
   "execution_count": 306,
   "id": "83e6d9d3-096d-4f34-a37f-9f777acf47d6",
   "metadata": {},
   "outputs": [
    {
     "name": "stdout",
     "output_type": "stream",
     "text": [
      "\u001b[1;35mDATASET DESPUÉS DE ELIMINACIÓN\u001b[0m\n",
      "\n"
     ]
    },
    {
     "data": {
      "text/html": [
       "<div>\n",
       "<style scoped>\n",
       "    .dataframe tbody tr th:only-of-type {\n",
       "        vertical-align: middle;\n",
       "    }\n",
       "\n",
       "    .dataframe tbody tr th {\n",
       "        vertical-align: top;\n",
       "    }\n",
       "\n",
       "    .dataframe thead th {\n",
       "        text-align: right;\n",
       "    }\n",
       "</style>\n",
       "<table border=\"1\" class=\"dataframe\">\n",
       "  <thead>\n",
       "    <tr style=\"text-align: right;\">\n",
       "      <th></th>\n",
       "      <th>name</th>\n",
       "      <th>platform</th>\n",
       "      <th>release_date</th>\n",
       "      <th>summary</th>\n",
       "      <th>meta_score</th>\n",
       "      <th>user_review</th>\n",
       "    </tr>\n",
       "  </thead>\n",
       "  <tbody>\n",
       "    <tr>\n",
       "      <th>0</th>\n",
       "      <td>The Legend of Zelda: Ocarina of Time</td>\n",
       "      <td>Nintendo 64</td>\n",
       "      <td>November 23, 1998</td>\n",
       "      <td>As a young boy, Link is tricked by Ganondorf, ...</td>\n",
       "      <td>99</td>\n",
       "      <td>9.1</td>\n",
       "    </tr>\n",
       "    <tr>\n",
       "      <th>1</th>\n",
       "      <td>Tony Hawk's Pro Skater 2</td>\n",
       "      <td>PlayStation</td>\n",
       "      <td>September 20, 2000</td>\n",
       "      <td>As most major publishers' development efforts ...</td>\n",
       "      <td>98</td>\n",
       "      <td>7.4</td>\n",
       "    </tr>\n",
       "    <tr>\n",
       "      <th>2</th>\n",
       "      <td>Grand Theft Auto IV</td>\n",
       "      <td>PlayStation 3</td>\n",
       "      <td>April 29, 2008</td>\n",
       "      <td>[Metacritic's 2008 PS3 Game of the Year; Also ...</td>\n",
       "      <td>98</td>\n",
       "      <td>7.7</td>\n",
       "    </tr>\n",
       "    <tr>\n",
       "      <th>3</th>\n",
       "      <td>SoulCalibur</td>\n",
       "      <td>Dreamcast</td>\n",
       "      <td>September 8, 1999</td>\n",
       "      <td>This is a tale of souls and swords, transcendi...</td>\n",
       "      <td>98</td>\n",
       "      <td>8.4</td>\n",
       "    </tr>\n",
       "    <tr>\n",
       "      <th>4</th>\n",
       "      <td>Grand Theft Auto IV</td>\n",
       "      <td>Xbox 360</td>\n",
       "      <td>April 29, 2008</td>\n",
       "      <td>[Metacritic's 2008 Xbox 360 Game of the Year; ...</td>\n",
       "      <td>98</td>\n",
       "      <td>7.9</td>\n",
       "    </tr>\n",
       "  </tbody>\n",
       "</table>\n",
       "</div>"
      ],
      "text/plain": [
       "                                   name        platform        release_date  \\\n",
       "0  The Legend of Zelda: Ocarina of Time     Nintendo 64   November 23, 1998   \n",
       "1              Tony Hawk's Pro Skater 2     PlayStation  September 20, 2000   \n",
       "2                   Grand Theft Auto IV   PlayStation 3      April 29, 2008   \n",
       "3                           SoulCalibur       Dreamcast   September 8, 1999   \n",
       "4                   Grand Theft Auto IV        Xbox 360      April 29, 2008   \n",
       "\n",
       "                                             summary  meta_score user_review  \n",
       "0  As a young boy, Link is tricked by Ganondorf, ...          99         9.1  \n",
       "1  As most major publishers' development efforts ...          98         7.4  \n",
       "2  [Metacritic's 2008 PS3 Game of the Year; Also ...          98         7.7  \n",
       "3  This is a tale of souls and swords, transcendi...          98         8.4  \n",
       "4  [Metacritic's 2008 Xbox 360 Game of the Year; ...          98         7.9  "
      ]
     },
     "execution_count": 306,
     "metadata": {},
     "output_type": "execute_result"
    }
   ],
   "source": [
    "print(\"\\033[1;35m\" + \"DATASET DESPUÉS DE ELIMINACIÓN\" + \"\\033[0m\\n\")\n",
    "dfv.head()"
   ]
  },
  {
   "cell_type": "markdown",
   "id": "7b29cda0-591e-4726-b539-cf94847ea130",
   "metadata": {},
   "source": [
    "#### Sustitución\n",
    "En cambio, si preferimos mantener las filas, podemos rellenar los nulos con un texto predeterminado como _No summary available_."
   ]
  },
  {
   "cell_type": "code",
   "execution_count": 211,
   "id": "62bc17c0-c1e3-4149-be49-4b603b677f97",
   "metadata": {},
   "outputs": [],
   "source": [
    "dfv['summary'] = dfv['summary'].fillna('No summary available')"
   ]
  },
  {
   "cell_type": "code",
   "execution_count": 213,
   "id": "ce3cf59d-a49c-4a98-931a-2e76520fddf7",
   "metadata": {},
   "outputs": [
    {
     "name": "stdout",
     "output_type": "stream",
     "text": [
      "\u001b[1;35mDATASET DESPUÉS DE SUSTITUCIÓN\u001b[0m\n",
      "\n"
     ]
    },
    {
     "data": {
      "text/html": [
       "<div>\n",
       "<style scoped>\n",
       "    .dataframe tbody tr th:only-of-type {\n",
       "        vertical-align: middle;\n",
       "    }\n",
       "\n",
       "    .dataframe tbody tr th {\n",
       "        vertical-align: top;\n",
       "    }\n",
       "\n",
       "    .dataframe thead th {\n",
       "        text-align: right;\n",
       "    }\n",
       "</style>\n",
       "<table border=\"1\" class=\"dataframe\">\n",
       "  <thead>\n",
       "    <tr style=\"text-align: right;\">\n",
       "      <th></th>\n",
       "      <th>name</th>\n",
       "      <th>platform</th>\n",
       "      <th>release_date</th>\n",
       "      <th>summary</th>\n",
       "      <th>meta_score</th>\n",
       "      <th>user_review</th>\n",
       "    </tr>\n",
       "  </thead>\n",
       "  <tbody>\n",
       "    <tr>\n",
       "      <th>833</th>\n",
       "      <td>Injustice 2: Legendary Edition</td>\n",
       "      <td>PlayStation 4</td>\n",
       "      <td>March 27, 2018</td>\n",
       "      <td>No summary available</td>\n",
       "      <td>88</td>\n",
       "      <td>7.6</td>\n",
       "    </tr>\n",
       "    <tr>\n",
       "      <th>1472</th>\n",
       "      <td>Moto Racer Advance</td>\n",
       "      <td>Game Boy Advance</td>\n",
       "      <td>December 5, 2002</td>\n",
       "      <td>No summary available</td>\n",
       "      <td>86</td>\n",
       "      <td>tbd</td>\n",
       "    </tr>\n",
       "    <tr>\n",
       "      <th>1535</th>\n",
       "      <td>Mini Metro</td>\n",
       "      <td>Switch</td>\n",
       "      <td>August 30, 2018</td>\n",
       "      <td>No summary available</td>\n",
       "      <td>86</td>\n",
       "      <td>8.4</td>\n",
       "    </tr>\n",
       "    <tr>\n",
       "      <th>1649</th>\n",
       "      <td>Out of the Park Baseball 13</td>\n",
       "      <td>PC</td>\n",
       "      <td>April 9, 2012</td>\n",
       "      <td>No summary available</td>\n",
       "      <td>85</td>\n",
       "      <td>7.8</td>\n",
       "    </tr>\n",
       "    <tr>\n",
       "      <th>2427</th>\n",
       "      <td>Guild Wars 2: Path of Fire</td>\n",
       "      <td>PC</td>\n",
       "      <td>September 22, 2017</td>\n",
       "      <td>No summary available</td>\n",
       "      <td>83</td>\n",
       "      <td>7.3</td>\n",
       "    </tr>\n",
       "    <tr>\n",
       "      <th>...</th>\n",
       "      <td>...</td>\n",
       "      <td>...</td>\n",
       "      <td>...</td>\n",
       "      <td>...</td>\n",
       "      <td>...</td>\n",
       "      <td>...</td>\n",
       "    </tr>\n",
       "    <tr>\n",
       "      <th>17999</th>\n",
       "      <td>One Piece: Unlimited Cruise SP</td>\n",
       "      <td>PlayStation 4</td>\n",
       "      <td>February 10, 2012</td>\n",
       "      <td>No summary available</td>\n",
       "      <td>46</td>\n",
       "      <td>7.0</td>\n",
       "    </tr>\n",
       "    <tr>\n",
       "      <th>18134</th>\n",
       "      <td>AeternoBlade II</td>\n",
       "      <td>Wii U</td>\n",
       "      <td>October 11, 2019</td>\n",
       "      <td>No summary available</td>\n",
       "      <td>44</td>\n",
       "      <td>4.4</td>\n",
       "    </tr>\n",
       "    <tr>\n",
       "      <th>18253</th>\n",
       "      <td>Surgeon Simulator: Experience Reality</td>\n",
       "      <td>PlayStation 4</td>\n",
       "      <td>December 3, 2016</td>\n",
       "      <td>No summary available</td>\n",
       "      <td>43</td>\n",
       "      <td>4.3</td>\n",
       "    </tr>\n",
       "    <tr>\n",
       "      <th>18532</th>\n",
       "      <td>The Ripping Friends</td>\n",
       "      <td>Game Boy Advance</td>\n",
       "      <td>March 24, 2002</td>\n",
       "      <td>No summary available</td>\n",
       "      <td>38</td>\n",
       "      <td>tbd</td>\n",
       "    </tr>\n",
       "    <tr>\n",
       "      <th>18717</th>\n",
       "      <td>Smash 'N' Survive</td>\n",
       "      <td>PlayStation 3</td>\n",
       "      <td>February 22, 2012</td>\n",
       "      <td>No summary available</td>\n",
       "      <td>31</td>\n",
       "      <td>tbd</td>\n",
       "    </tr>\n",
       "  </tbody>\n",
       "</table>\n",
       "<p>114 rows × 6 columns</p>\n",
       "</div>"
      ],
      "text/plain": [
       "                                        name           platform  \\\n",
       "833           Injustice 2: Legendary Edition      PlayStation 4   \n",
       "1472                      Moto Racer Advance   Game Boy Advance   \n",
       "1535                              Mini Metro             Switch   \n",
       "1649             Out of the Park Baseball 13                 PC   \n",
       "2427              Guild Wars 2: Path of Fire                 PC   \n",
       "...                                      ...                ...   \n",
       "17999         One Piece: Unlimited Cruise SP      PlayStation 4   \n",
       "18134                        AeternoBlade II              Wii U   \n",
       "18253  Surgeon Simulator: Experience Reality      PlayStation 4   \n",
       "18532                    The Ripping Friends   Game Boy Advance   \n",
       "18717                      Smash 'N' Survive      PlayStation 3   \n",
       "\n",
       "             release_date               summary  meta_score user_review  \n",
       "833        March 27, 2018  No summary available          88         7.6  \n",
       "1472     December 5, 2002  No summary available          86         tbd  \n",
       "1535      August 30, 2018  No summary available          86         8.4  \n",
       "1649        April 9, 2012  No summary available          85         7.8  \n",
       "2427   September 22, 2017  No summary available          83         7.3  \n",
       "...                   ...                   ...         ...         ...  \n",
       "17999   February 10, 2012  No summary available          46         7.0  \n",
       "18134    October 11, 2019  No summary available          44         4.4  \n",
       "18253    December 3, 2016  No summary available          43         4.3  \n",
       "18532      March 24, 2002  No summary available          38         tbd  \n",
       "18717   February 22, 2012  No summary available          31         tbd  \n",
       "\n",
       "[114 rows x 6 columns]"
      ]
     },
     "execution_count": 213,
     "metadata": {},
     "output_type": "execute_result"
    }
   ],
   "source": [
    "print(\"\\033[1;35m\" + \"DATASET DESPUÉS DE SUSTITUCIÓN\" + \"\\033[0m\\n\")\n",
    "dfv[dfv['summary'] == 'No summary available']"
   ]
  },
  {
   "cell_type": "markdown",
   "id": "2f5d29e2-3b1a-4e6f-9a6b-28c0ec6ffec5",
   "metadata": {},
   "source": [
    "En mi caso, preferí eliminar las filas nulas."
   ]
  },
  {
   "cell_type": "markdown",
   "id": "76b5289e-9040-474d-a8cd-f7d569a4110d",
   "metadata": {},
   "source": [
    "## Columna user_review\n",
    "Los valores _\"to be determined\" (por determinar)_.\n",
    "En el contexto del dataset, la columna _user_review_ usa **tbd** para indicar que la puntuación o reseña de los usuarios aún no está disponible o no se ha determinado, es decir, se convierte en data faltante."
   ]
  },
  {
   "cell_type": "code",
   "execution_count": 308,
   "id": "f63c6ca3-03e1-4a0c-8b50-1d386ae982a9",
   "metadata": {},
   "outputs": [
    {
     "name": "stdout",
     "output_type": "stream",
     "text": [
      "\u001b[36;1mFilas con tbd en user_review:\u001b[0m 1345, \u001b[36;1mPorcentaje:\u001b[0m 7.2%\n"
     ]
    }
   ],
   "source": [
    "# Verificar cantidad de valores que coinciden\n",
    "tbd = (dfv['user_review'] == 'tbd').sum()\n",
    "print(f\"\\033[36;1mFilas con tbd en user_review:\\033[0m {tbd}, \\033[36;1mPorcentaje:\\033[0m {((tbd / len(dfv)) * 100).round(2)}%\")"
   ]
  },
  {
   "cell_type": "markdown",
   "id": "59cd4c7c-63b9-4484-a973-f95ec85145e4",
   "metadata": {},
   "source": [
    "#### Convertir tipo de dato de object a float\n",
    "Para cambiarlo, nos debemos asegurar de que todos los valores en esa columna sean convertibles a números, por lo que primero necesitamos manejar esos valores antes de realizar la conversión."
   ]
  },
  {
   "cell_type": "code",
   "execution_count": 311,
   "id": "5f3c8afb-5522-437a-871b-61a2d98a1c43",
   "metadata": {},
   "outputs": [],
   "source": [
    "# Reemplazar 'tbd' con NaN\n",
    "dfv['user_review'] = dfv['user_review'].replace('tbd', np.nan)"
   ]
  },
  {
   "cell_type": "code",
   "execution_count": 313,
   "id": "3bc77bb5-9848-4f56-a672-64a627a8e6bb",
   "metadata": {},
   "outputs": [
    {
     "name": "stdout",
     "output_type": "stream",
     "text": [
      "\u001b[1;35mDATASET DESPUÉS DE SUSTITUCIÓN\u001b[0m\n",
      "\n"
     ]
    },
    {
     "data": {
      "text/html": [
       "<div>\n",
       "<style scoped>\n",
       "    .dataframe tbody tr th:only-of-type {\n",
       "        vertical-align: middle;\n",
       "    }\n",
       "\n",
       "    .dataframe tbody tr th {\n",
       "        vertical-align: top;\n",
       "    }\n",
       "\n",
       "    .dataframe thead th {\n",
       "        text-align: right;\n",
       "    }\n",
       "</style>\n",
       "<table border=\"1\" class=\"dataframe\">\n",
       "  <thead>\n",
       "    <tr style=\"text-align: right;\">\n",
       "      <th></th>\n",
       "      <th>name</th>\n",
       "      <th>platform</th>\n",
       "      <th>release_date</th>\n",
       "      <th>summary</th>\n",
       "      <th>meta_score</th>\n",
       "      <th>user_review</th>\n",
       "    </tr>\n",
       "  </thead>\n",
       "  <tbody>\n",
       "    <tr>\n",
       "      <th>679</th>\n",
       "      <td>Synth Riders</td>\n",
       "      <td>PlayStation 4</td>\n",
       "      <td>August 10, 2021</td>\n",
       "      <td>Synth Riders is your freestyle dancing VR rhyt...</td>\n",
       "      <td>89</td>\n",
       "      <td>NaN</td>\n",
       "    </tr>\n",
       "    <tr>\n",
       "      <th>963</th>\n",
       "      <td>Tiger Woods PGA Tour 2005</td>\n",
       "      <td>GameCube</td>\n",
       "      <td>September 20, 2004</td>\n",
       "      <td>Challenge professional golfer Tiger Woods to c...</td>\n",
       "      <td>88</td>\n",
       "      <td>NaN</td>\n",
       "    </tr>\n",
       "    <tr>\n",
       "      <th>1277</th>\n",
       "      <td>NASCAR 2005: Chase for the Cup</td>\n",
       "      <td>Xbox</td>\n",
       "      <td>August 31, 2004</td>\n",
       "      <td>Do you have what it takes to be a top NASCAR d...</td>\n",
       "      <td>86</td>\n",
       "      <td>NaN</td>\n",
       "    </tr>\n",
       "    <tr>\n",
       "      <th>2098</th>\n",
       "      <td>Mushihimesama</td>\n",
       "      <td>Switch</td>\n",
       "      <td>June 15, 2021</td>\n",
       "      <td>Mushihimesama (Bug Princess in English) is a v...</td>\n",
       "      <td>84</td>\n",
       "      <td>NaN</td>\n",
       "    </tr>\n",
       "    <tr>\n",
       "      <th>2178</th>\n",
       "      <td>Tails Of Iron</td>\n",
       "      <td>Xbox Series X</td>\n",
       "      <td>September 17, 2021</td>\n",
       "      <td>Set in a grim land plagued by war, Tails of Ir...</td>\n",
       "      <td>84</td>\n",
       "      <td>NaN</td>\n",
       "    </tr>\n",
       "    <tr>\n",
       "      <th>...</th>\n",
       "      <td>...</td>\n",
       "      <td>...</td>\n",
       "      <td>...</td>\n",
       "      <td>...</td>\n",
       "      <td>...</td>\n",
       "      <td>...</td>\n",
       "    </tr>\n",
       "    <tr>\n",
       "      <th>18592</th>\n",
       "      <td>Dream Chronicles</td>\n",
       "      <td>Xbox 360</td>\n",
       "      <td>October 20, 2010</td>\n",
       "      <td>Unlock the secrets of the beautiful and myster...</td>\n",
       "      <td>36</td>\n",
       "      <td>NaN</td>\n",
       "    </tr>\n",
       "    <tr>\n",
       "      <th>18594</th>\n",
       "      <td>Air Conflicts: Aces of World War II</td>\n",
       "      <td>PSP</td>\n",
       "      <td>April 14, 2009</td>\n",
       "      <td>Air Conflicts is an arcade flight simulator ga...</td>\n",
       "      <td>36</td>\n",
       "      <td>NaN</td>\n",
       "    </tr>\n",
       "    <tr>\n",
       "      <th>18639</th>\n",
       "      <td>King of Clubs</td>\n",
       "      <td>Wii</td>\n",
       "      <td>August 4, 2008</td>\n",
       "      <td>Never the same game twice, this absorbing and ...</td>\n",
       "      <td>35</td>\n",
       "      <td>NaN</td>\n",
       "    </tr>\n",
       "    <tr>\n",
       "      <th>18700</th>\n",
       "      <td>Jenga World Tour</td>\n",
       "      <td>DS</td>\n",
       "      <td>November 13, 2007</td>\n",
       "      <td>Jenga is based on the world famous wooden bloc...</td>\n",
       "      <td>32</td>\n",
       "      <td>NaN</td>\n",
       "    </tr>\n",
       "    <tr>\n",
       "      <th>18715</th>\n",
       "      <td>Dream Chronicles</td>\n",
       "      <td>PlayStation 3</td>\n",
       "      <td>November 23, 2010</td>\n",
       "      <td>Unlock the secrets of the beautiful and myster...</td>\n",
       "      <td>31</td>\n",
       "      <td>NaN</td>\n",
       "    </tr>\n",
       "  </tbody>\n",
       "</table>\n",
       "<p>1345 rows × 6 columns</p>\n",
       "</div>"
      ],
      "text/plain": [
       "                                      name        platform  \\\n",
       "679                           Synth Riders   PlayStation 4   \n",
       "963              Tiger Woods PGA Tour 2005        GameCube   \n",
       "1277        NASCAR 2005: Chase for the Cup            Xbox   \n",
       "2098                         Mushihimesama          Switch   \n",
       "2178                         Tails Of Iron   Xbox Series X   \n",
       "...                                    ...             ...   \n",
       "18592                     Dream Chronicles        Xbox 360   \n",
       "18594  Air Conflicts: Aces of World War II             PSP   \n",
       "18639                        King of Clubs             Wii   \n",
       "18700                     Jenga World Tour              DS   \n",
       "18715                     Dream Chronicles   PlayStation 3   \n",
       "\n",
       "             release_date                                            summary  \\\n",
       "679       August 10, 2021  Synth Riders is your freestyle dancing VR rhyt...   \n",
       "963    September 20, 2004  Challenge professional golfer Tiger Woods to c...   \n",
       "1277      August 31, 2004  Do you have what it takes to be a top NASCAR d...   \n",
       "2098        June 15, 2021  Mushihimesama (Bug Princess in English) is a v...   \n",
       "2178   September 17, 2021  Set in a grim land plagued by war, Tails of Ir...   \n",
       "...                   ...                                                ...   \n",
       "18592    October 20, 2010  Unlock the secrets of the beautiful and myster...   \n",
       "18594      April 14, 2009  Air Conflicts is an arcade flight simulator ga...   \n",
       "18639      August 4, 2008  Never the same game twice, this absorbing and ...   \n",
       "18700   November 13, 2007  Jenga is based on the world famous wooden bloc...   \n",
       "18715   November 23, 2010  Unlock the secrets of the beautiful and myster...   \n",
       "\n",
       "       meta_score user_review  \n",
       "679            89         NaN  \n",
       "963            88         NaN  \n",
       "1277           86         NaN  \n",
       "2098           84         NaN  \n",
       "2178           84         NaN  \n",
       "...           ...         ...  \n",
       "18592          36         NaN  \n",
       "18594          36         NaN  \n",
       "18639          35         NaN  \n",
       "18700          32         NaN  \n",
       "18715          31         NaN  \n",
       "\n",
       "[1345 rows x 6 columns]"
      ]
     },
     "execution_count": 313,
     "metadata": {},
     "output_type": "execute_result"
    }
   ],
   "source": [
    "# Verificar valores nulos en dataset\n",
    "print(\"\\033[1;35m\" + \"DATASET DESPUÉS DE SUSTITUCIÓN\" + \"\\033[0m\\n\")\n",
    "dfv[dfv['user_review'].isnull()]"
   ]
  },
  {
   "cell_type": "code",
   "execution_count": 315,
   "id": "ba970628-b3ed-49a7-8506-db0d9d00b564",
   "metadata": {},
   "outputs": [
    {
     "name": "stdout",
     "output_type": "stream",
     "text": [
      "\u001b[1;36mNueva Información General\u001b[0m\n",
      "\n",
      "<class 'pandas.core.frame.DataFrame'>\n",
      "Index: 18686 entries, 0 to 18799\n",
      "Data columns (total 6 columns):\n",
      " #   Column        Non-Null Count  Dtype  \n",
      "---  ------        --------------  -----  \n",
      " 0   name          18686 non-null  object \n",
      " 1   platform      18686 non-null  object \n",
      " 2   release_date  18686 non-null  object \n",
      " 3   summary       18686 non-null  object \n",
      " 4   meta_score    18686 non-null  int64  \n",
      " 5   user_review   17341 non-null  float64\n",
      "dtypes: float64(1), int64(1), object(4)\n",
      "memory usage: 1021.9+ KB\n"
     ]
    }
   ],
   "source": [
    "# Realizar conversión de tipos de datos\n",
    "dfv['user_review'] = dfv['user_review'].astype(float)\n",
    "print(\"\\033[1;36m\" + \"Nueva Información General\" + \"\\033[0m\\n\")\n",
    "dfv.info()"
   ]
  },
  {
   "cell_type": "code",
   "execution_count": 331,
   "id": "35d13c55-f78b-4797-8139-a574f60cc3c8",
   "metadata": {},
   "outputs": [
    {
     "name": "stdout",
     "output_type": "stream",
     "text": [
      "\u001b[1;36mSustitución de user_review\u001b[0m\n",
      "\n"
     ]
    },
    {
     "data": {
      "text/html": [
       "<div>\n",
       "<style scoped>\n",
       "    .dataframe tbody tr th:only-of-type {\n",
       "        vertical-align: middle;\n",
       "    }\n",
       "\n",
       "    .dataframe tbody tr th {\n",
       "        vertical-align: top;\n",
       "    }\n",
       "\n",
       "    .dataframe thead th {\n",
       "        text-align: right;\n",
       "    }\n",
       "</style>\n",
       "<table border=\"1\" class=\"dataframe\">\n",
       "  <thead>\n",
       "    <tr style=\"text-align: right;\">\n",
       "      <th></th>\n",
       "      <th>name</th>\n",
       "      <th>platform</th>\n",
       "      <th>release_date</th>\n",
       "      <th>summary</th>\n",
       "      <th>meta_score</th>\n",
       "      <th>user_review</th>\n",
       "    </tr>\n",
       "  </thead>\n",
       "  <tbody>\n",
       "    <tr>\n",
       "      <th>679</th>\n",
       "      <td>Synth Riders</td>\n",
       "      <td>PlayStation 4</td>\n",
       "      <td>2021-08-10</td>\n",
       "      <td>Synth Riders is your freestyle dancing VR rhyt...</td>\n",
       "      <td>89</td>\n",
       "      <td>0.0</td>\n",
       "    </tr>\n",
       "    <tr>\n",
       "      <th>963</th>\n",
       "      <td>Tiger Woods PGA Tour 2005</td>\n",
       "      <td>GameCube</td>\n",
       "      <td>2004-09-20</td>\n",
       "      <td>Challenge professional golfer Tiger Woods to c...</td>\n",
       "      <td>88</td>\n",
       "      <td>0.0</td>\n",
       "    </tr>\n",
       "    <tr>\n",
       "      <th>1277</th>\n",
       "      <td>NASCAR 2005: Chase for the Cup</td>\n",
       "      <td>Xbox</td>\n",
       "      <td>2004-08-31</td>\n",
       "      <td>Do you have what it takes to be a top NASCAR d...</td>\n",
       "      <td>86</td>\n",
       "      <td>0.0</td>\n",
       "    </tr>\n",
       "    <tr>\n",
       "      <th>2098</th>\n",
       "      <td>Mushihimesama</td>\n",
       "      <td>Switch</td>\n",
       "      <td>2021-06-15</td>\n",
       "      <td>Mushihimesama (Bug Princess in English) is a v...</td>\n",
       "      <td>84</td>\n",
       "      <td>0.0</td>\n",
       "    </tr>\n",
       "    <tr>\n",
       "      <th>2178</th>\n",
       "      <td>Tails Of Iron</td>\n",
       "      <td>Xbox Series X</td>\n",
       "      <td>2021-09-17</td>\n",
       "      <td>Set in a grim land plagued by war, Tails of Ir...</td>\n",
       "      <td>84</td>\n",
       "      <td>0.0</td>\n",
       "    </tr>\n",
       "    <tr>\n",
       "      <th>...</th>\n",
       "      <td>...</td>\n",
       "      <td>...</td>\n",
       "      <td>...</td>\n",
       "      <td>...</td>\n",
       "      <td>...</td>\n",
       "      <td>...</td>\n",
       "    </tr>\n",
       "    <tr>\n",
       "      <th>18592</th>\n",
       "      <td>Dream Chronicles</td>\n",
       "      <td>Xbox 360</td>\n",
       "      <td>2010-10-20</td>\n",
       "      <td>Unlock the secrets of the beautiful and myster...</td>\n",
       "      <td>36</td>\n",
       "      <td>0.0</td>\n",
       "    </tr>\n",
       "    <tr>\n",
       "      <th>18594</th>\n",
       "      <td>Air Conflicts: Aces of World War II</td>\n",
       "      <td>PSP</td>\n",
       "      <td>2009-04-14</td>\n",
       "      <td>Air Conflicts is an arcade flight simulator ga...</td>\n",
       "      <td>36</td>\n",
       "      <td>0.0</td>\n",
       "    </tr>\n",
       "    <tr>\n",
       "      <th>18639</th>\n",
       "      <td>King of Clubs</td>\n",
       "      <td>Wii</td>\n",
       "      <td>2008-08-04</td>\n",
       "      <td>Never the same game twice, this absorbing and ...</td>\n",
       "      <td>35</td>\n",
       "      <td>0.0</td>\n",
       "    </tr>\n",
       "    <tr>\n",
       "      <th>18700</th>\n",
       "      <td>Jenga World Tour</td>\n",
       "      <td>DS</td>\n",
       "      <td>2007-11-13</td>\n",
       "      <td>Jenga is based on the world famous wooden bloc...</td>\n",
       "      <td>32</td>\n",
       "      <td>0.0</td>\n",
       "    </tr>\n",
       "    <tr>\n",
       "      <th>18715</th>\n",
       "      <td>Dream Chronicles</td>\n",
       "      <td>PlayStation 3</td>\n",
       "      <td>2010-11-23</td>\n",
       "      <td>Unlock the secrets of the beautiful and myster...</td>\n",
       "      <td>31</td>\n",
       "      <td>0.0</td>\n",
       "    </tr>\n",
       "  </tbody>\n",
       "</table>\n",
       "<p>1345 rows × 6 columns</p>\n",
       "</div>"
      ],
      "text/plain": [
       "                                      name        platform release_date  \\\n",
       "679                           Synth Riders   PlayStation 4   2021-08-10   \n",
       "963              Tiger Woods PGA Tour 2005        GameCube   2004-09-20   \n",
       "1277        NASCAR 2005: Chase for the Cup            Xbox   2004-08-31   \n",
       "2098                         Mushihimesama          Switch   2021-06-15   \n",
       "2178                         Tails Of Iron   Xbox Series X   2021-09-17   \n",
       "...                                    ...             ...          ...   \n",
       "18592                     Dream Chronicles        Xbox 360   2010-10-20   \n",
       "18594  Air Conflicts: Aces of World War II             PSP   2009-04-14   \n",
       "18639                        King of Clubs             Wii   2008-08-04   \n",
       "18700                     Jenga World Tour              DS   2007-11-13   \n",
       "18715                     Dream Chronicles   PlayStation 3   2010-11-23   \n",
       "\n",
       "                                                 summary  meta_score  \\\n",
       "679    Synth Riders is your freestyle dancing VR rhyt...          89   \n",
       "963    Challenge professional golfer Tiger Woods to c...          88   \n",
       "1277   Do you have what it takes to be a top NASCAR d...          86   \n",
       "2098   Mushihimesama (Bug Princess in English) is a v...          84   \n",
       "2178   Set in a grim land plagued by war, Tails of Ir...          84   \n",
       "...                                                  ...         ...   \n",
       "18592  Unlock the secrets of the beautiful and myster...          36   \n",
       "18594  Air Conflicts is an arcade flight simulator ga...          36   \n",
       "18639  Never the same game twice, this absorbing and ...          35   \n",
       "18700  Jenga is based on the world famous wooden bloc...          32   \n",
       "18715  Unlock the secrets of the beautiful and myster...          31   \n",
       "\n",
       "       user_review  \n",
       "679            0.0  \n",
       "963            0.0  \n",
       "1277           0.0  \n",
       "2098           0.0  \n",
       "2178           0.0  \n",
       "...            ...  \n",
       "18592          0.0  \n",
       "18594          0.0  \n",
       "18639          0.0  \n",
       "18700          0.0  \n",
       "18715          0.0  \n",
       "\n",
       "[1345 rows x 6 columns]"
      ]
     },
     "execution_count": 331,
     "metadata": {},
     "output_type": "execute_result"
    }
   ],
   "source": [
    "# Reemplazar valores nulos con 0 \n",
    "dfv['user_review'] = dfv['user_review'].fillna(0)\n",
    "print(\"\\033[1;36m\" + \"Sustitución de user_review\" + \"\\033[0m\\n\")\n",
    "dfv[dfv['user_review'] == 0]"
   ]
  },
  {
   "cell_type": "markdown",
   "id": "a53f368d-ee2f-487e-a159-d5789ead48a6",
   "metadata": {},
   "source": [
    "## Columna release_date"
   ]
  },
  {
   "cell_type": "markdown",
   "id": "c433ed1c-d5c1-46da-89ff-883cb0c33853",
   "metadata": {},
   "source": [
    "#### Convertir tipo de dato de object a datetime"
   ]
  },
  {
   "cell_type": "code",
   "execution_count": 319,
   "id": "9fc65422-da00-42ff-9c28-a251be05c07f",
   "metadata": {},
   "outputs": [
    {
     "name": "stdout",
     "output_type": "stream",
     "text": [
      "\u001b[1;36mNueva Información General\u001b[0m\n",
      "\n",
      "<class 'pandas.core.frame.DataFrame'>\n",
      "Index: 18686 entries, 0 to 18799\n",
      "Data columns (total 6 columns):\n",
      " #   Column        Non-Null Count  Dtype         \n",
      "---  ------        --------------  -----         \n",
      " 0   name          18686 non-null  object        \n",
      " 1   platform      18686 non-null  object        \n",
      " 2   release_date  18686 non-null  datetime64[ns]\n",
      " 3   summary       18686 non-null  object        \n",
      " 4   meta_score    18686 non-null  int64         \n",
      " 5   user_review   17341 non-null  float64       \n",
      "dtypes: datetime64[ns](1), float64(1), int64(1), object(3)\n",
      "memory usage: 1021.9+ KB\n"
     ]
    }
   ],
   "source": [
    "dfv['release_date'] = pd.to_datetime(dfv['release_date'])\n",
    "print(\"\\033[1;36m\" + \"Nueva Información General\" + \"\\033[0m\\n\")\n",
    "dfv.info()"
   ]
  },
  {
   "cell_type": "code",
   "execution_count": 323,
   "id": "a719c928-9d6a-40c6-8f27-3c9157294c8a",
   "metadata": {},
   "outputs": [
    {
     "data": {
      "image/png": "[encoded data removed]",
      "text/plain": [
       "<Figure size 1200x600 with 1 Axes>"
      ]
     },
     "metadata": {},
     "output_type": "display_data"
    }
   ],
   "source": [
    "# Extraer el año\n",
    "year = dfv['release_date'].dt.year\n",
    "\n",
    "# Contar la cantidad de videojuegos por año\n",
    "games = year.value_counts().sort_index()\n",
    "\n",
    "# Crear la gráfica\n",
    "plt.figure(figsize=(12, 6))\n",
    "games.plot(kind='bar', color='skyblue')\n",
    "plt.title('Cantidad de videojuegos lanzados por año')\n",
    "plt.xlabel('Año')\n",
    "plt.ylabel('Cantidad de videojuegos')\n",
    "plt.xticks(rotation=45)\n",
    "plt.grid(axis='y', linestyle='--', alpha=0.7)\n",
    "plt.show()"
   ]
  },
  {
   "cell_type": "code",
   "execution_count": 343,
   "id": "59819f2c-31b6-4f5e-97f2-00b486f0842e",
   "metadata": {},
   "outputs": [
    {
     "data": {
      "text/html": [
       "<div>\n",
       "<style scoped>\n",
       "    .dataframe tbody tr th:only-of-type {\n",
       "        vertical-align: middle;\n",
       "    }\n",
       "\n",
       "    .dataframe tbody tr th {\n",
       "        vertical-align: top;\n",
       "    }\n",
       "\n",
       "    .dataframe thead th {\n",
       "        text-align: right;\n",
       "    }\n",
       "</style>\n",
       "<table border=\"1\" class=\"dataframe\">\n",
       "  <thead>\n",
       "    <tr style=\"text-align: right;\">\n",
       "      <th></th>\n",
       "      <th>name</th>\n",
       "      <th>platform</th>\n",
       "      <th>release_date</th>\n",
       "      <th>summary</th>\n",
       "      <th>meta_score</th>\n",
       "      <th>user_review</th>\n",
       "    </tr>\n",
       "  </thead>\n",
       "  <tbody>\n",
       "  </tbody>\n",
       "</table>\n",
       "</div>"
      ],
      "text/plain": [
       "Empty DataFrame\n",
       "Columns: [name, platform, release_date, summary, meta_score, user_review]\n",
       "Index: []"
      ]
     },
     "execution_count": 343,
     "metadata": {},
     "output_type": "execute_result"
    }
   ],
   "source": [
    "# Eliminar los videojuegos debajo del año 2000\n",
    "dfv = dfv[dfv['release_date'] > '2000-01-01']\n",
    "dfv[dfv['release_date'] < '2000-01-01']"
   ]
  },
  {
   "cell_type": "code",
   "execution_count": 345,
   "id": "972ab02f-527a-49d9-b7a9-2d2a7446c6f1",
   "metadata": {},
   "outputs": [],
   "source": [
    "# Guardar los datos en un dataset nuevo y limpio\n",
    "dfv.to_csv(\"videogames_clean.csv\")"
   ]
  }
 ],
 "metadata": {
  "kernelspec": {
   "display_name": "Python [conda env:base] *",
   "language": "python",
   "name": "conda-base-py"
  },
  "language_info": {
   "codemirror_mode": {
    "name": "ipython",
    "version": 3
   },
   "file_extension": ".py",
   "mimetype": "text/x-python",
   "name": "python",
   "nbconvert_exporter": "python",
   "pygments_lexer": "ipython3",
   "version": "3.12.7"
  }
 },
 "nbformat": 4,
 "nbformat_minor": 5
}
