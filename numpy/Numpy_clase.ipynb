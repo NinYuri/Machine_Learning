{
 "cells": [
  {
   "cell_type": "markdown",
   "id": "c20e7f12-f154-4da6-910d-e387835fa0f4",
   "metadata": {},
   "source": [
    "# <font color = red> Numpy\n",
    "\n",
    "NumPy es una biblioteca para el lenguaje de programación Python que da soporte para crear vectores y matrices, junto con una gran colección de funciones matemáticas de alto nivel para operar con ellas. El precursor de NumPy, Numeric, fue creado originalmente por Jim Hugunin con contribuciones de varios otros desarrolladores. En 2005, Travis Oliphant creó NumPy incorporando características de la competencia Numarray en Numeric, con amplias modificaciones. NumPy es un software de código abierto y cuenta con muchos colaboradores.\n",
    "\n",
    "<center> <img src = \"numpy_logo.png\" width=\"600\"></center>"
   ]
  },
  {
   "cell_type": "markdown",
   "id": "f628fafe-4cca-4809-9115-3d170e8bac55",
   "metadata": {},
   "source": [
    "## <font color = darkblue> Creación y manejo de arrays \n",
    "Los arrays son la base de toda la ciencia de datos en <b>Python</b>. Las matrices pueden ser multidimensionales, y todos los elementos de una matriz deben ser del mismo tipo, todos enteros o todos flotantes, por ejemplo.\n",
    "\n",
    "<center> <img src=\"Array_gift.gif\" width=\"450\"></center>"
   ]
  },
  {
   "cell_type": "markdown",
   "id": "89bf9b7e-4c27-4827-8d8d-009ad335a5d0",
   "metadata": {},
   "source": [
    "### Ventajas de utilizar una matriz\n",
    "\n",
    "* Las matrices pueden manejar con eficacia conjuntos de datos muy grandes.\n",
    "* Eficiencia computacional y de memoria.\n",
    "* Cálculos y análisis más rápidos que las listas.\n",
    "* Funcionalidad con diversos paquetes de Python."
   ]
  },
  {
   "cell_type": "markdown",
   "id": "f1e731f9-17f4-405a-bf56-d362c8a4d54c",
   "metadata": {},
   "source": [
    "### Conceptos básicos de una matriz en Numpy\n",
    "\n",
    "En Python, se pueden crear arrays o arreglos utilizando el paquete Numpy. Las matrices Numpy están optimizadas para análisis numéricos y contienen un único tipo de datos.\n",
    "\n",
    "Para trabajar con Numpy es necesario importar el paquete *numpy* de la siguiente manera:"
   ]
  },
  {
   "cell_type": "code",
   "execution_count": 5,
   "id": "5027eb36-f208-433a-bf57-ffdb6fe4d357",
   "metadata": {
    "ExecuteTime": {
     "end_time": "2025-01-29T23:33:43.706008Z",
     "start_time": "2025-01-29T23:33:43.704692Z"
    }
   },
   "outputs": [],
   "source": [
    "import numpy as np"
   ]
  },
  {
   "cell_type": "markdown",
   "id": "12911720-d821-42b8-94fc-f3ed416ace5d",
   "metadata": {},
   "source": [
    "Ya que se tiene el paquete se procede a la creación de las matrices utilizando listas y la función *np.array()*"
   ]
  },
  {
   "cell_type": "markdown",
   "id": "b021a09b-e686-4af2-8204-f6c41970b2f8",
   "metadata": {},
   "source": [
    "### Crear vectores"
   ]
  },
  {
   "cell_type": "code",
   "execution_count": 8,
   "id": "743f54c2-7574-4ef6-bd69-8042cd8baafe",
   "metadata": {
    "ExecuteTime": {
     "end_time": "2025-01-29T23:33:43.719720Z",
     "start_time": "2025-01-29T23:33:43.718498Z"
    }
   },
   "outputs": [
    {
     "name": "stdout",
     "output_type": "stream",
     "text": [
      "[1 2 3 4 5]\n"
     ]
    }
   ],
   "source": [
    "vector = np.array([1, 2, 3, 4, 5])\n",
    "print(vector)"
   ]
  },
  {
   "cell_type": "code",
   "execution_count": 9,
   "id": "87955582-e7b6-47ef-8f2a-baa0015fa3b3",
   "metadata": {
    "ExecuteTime": {
     "end_time": "2025-01-29T23:33:43.734891Z",
     "start_time": "2025-01-29T23:33:43.733694Z"
    }
   },
   "outputs": [
    {
     "name": "stdout",
     "output_type": "stream",
     "text": [
      "[ 2  4  6  8 10]\n"
     ]
    }
   ],
   "source": [
    "# Crear un arreglo en numpy a partir de una lista\n",
    "lista = [2, 4, 6, 8, 10]\n",
    "l1 = np.array(lista)\n",
    "print(l1)"
   ]
  },
  {
   "cell_type": "markdown",
   "id": "cd20fe6a-6047-4100-a68d-4019650b96b0",
   "metadata": {},
   "source": [
    "### Crear matrices"
   ]
  },
  {
   "cell_type": "code",
   "execution_count": 11,
   "id": "eaf8925d-04a2-4a81-9c3f-0239de3cd731",
   "metadata": {
    "ExecuteTime": {
     "end_time": "2025-01-29T23:33:43.755388Z",
     "start_time": "2025-01-29T23:33:43.754186Z"
    }
   },
   "outputs": [
    {
     "name": "stdout",
     "output_type": "stream",
     "text": [
      "[[1 2 3]\n",
      " [4 5 6]]\n"
     ]
    }
   ],
   "source": [
    "matriz = np.array([[1, 2, 3], [4, 5, 6]])\n",
    "print(matriz)"
   ]
  },
  {
   "cell_type": "code",
   "execution_count": 12,
   "id": "69c39ce6-df1c-493e-a676-a7583011906a",
   "metadata": {
    "ExecuteTime": {
     "end_time": "2025-01-29T23:33:43.819317Z",
     "start_time": "2025-01-29T23:33:43.818082Z"
    }
   },
   "outputs": [
    {
     "name": "stdout",
     "output_type": "stream",
     "text": [
      "[[10 20 30 40]\n",
      " [ 1  2  3  4]]\n"
     ]
    }
   ],
   "source": [
    "lista1 = [10, 20, 30, 40]\n",
    "lista2 = [1, 2, 3, 4]\n",
    "arreglo = np.array([ lista1, lista2 ])\n",
    "print(arreglo)"
   ]
  },
  {
   "cell_type": "markdown",
   "id": "b208f739-0ed3-4ef4-b99c-773f8803704a",
   "metadata": {},
   "source": [
    "### Crear arreglos en tres dimensiones"
   ]
  },
  {
   "cell_type": "code",
   "execution_count": 14,
   "id": "9f9058a8-4a25-42ec-933f-bf80de71913a",
   "metadata": {
    "ExecuteTime": {
     "end_time": "2025-01-29T23:33:43.840060Z",
     "start_time": "2025-01-29T23:33:43.838861Z"
    }
   },
   "outputs": [
    {
     "name": "stdout",
     "output_type": "stream",
     "text": [
      "[[[ 1  2  3]\n",
      "  [ 4  5  6]]\n",
      "\n",
      " [[ 7  8  9]\n",
      "  [10 11 12]]]\n"
     ]
    }
   ],
   "source": [
    "# Se trata de dos matrices de 2x3\n",
    "tridimensional = np.array([ [[1,2,3], [4,5,6]], [[7,8,9], [10,11,12]] ])\n",
    "print(tridimensional)"
   ]
  },
  {
   "cell_type": "code",
   "execution_count": 15,
   "id": "f38df7cd-6e01-44d7-8ff8-67022638118d",
   "metadata": {
    "ExecuteTime": {
     "end_time": "2025-01-29T23:33:43.856474Z",
     "start_time": "2025-01-29T23:33:43.855240Z"
    }
   },
   "outputs": [
    {
     "data": {
      "text/plain": [
       "array([[[ 1,  2,  3],\n",
       "        [ 4,  5,  6]],\n",
       "\n",
       "       [[ 7,  8,  9],\n",
       "        [10, 11, 12]]])"
      ]
     },
     "execution_count": 15,
     "metadata": {},
     "output_type": "execute_result"
    }
   ],
   "source": [
    "tri = np.array([\n",
    "    [\n",
    "        [1,2,3], [4,5,6]\n",
    "    ],\n",
    "    [\n",
    "        [7,8,9], [10,11,12]\n",
    "    ]\n",
    "])\n",
    "tri"
   ]
  },
  {
   "cell_type": "markdown",
   "id": "2a4583e0-d19f-4c3a-af76-f83592e82cce",
   "metadata": {},
   "source": [
    "## <font color = darkblue> Métodos útiles para crear arrays"
   ]
  },
  {
   "cell_type": "markdown",
   "id": "b0173389-c043-4351-b758-c1c7933c76fb",
   "metadata": {},
   "source": [
    "### Arrays con ceros"
   ]
  },
  {
   "cell_type": "code",
   "execution_count": 18,
   "id": "76859e61-0d42-47a4-ac1f-1699f34e738c",
   "metadata": {
    "ExecuteTime": {
     "end_time": "2025-01-29T23:33:43.917804Z",
     "start_time": "2025-01-29T23:33:43.916704Z"
    }
   },
   "outputs": [
    {
     "name": "stdout",
     "output_type": "stream",
     "text": [
      "\u001b[1;34mUsando numpy.zeros()\u001b[0m\n",
      "\n",
      "\u001b[1;35mUna Dimensión\u001b[0m\n",
      "[0 0 0 0 0] \n",
      "\n",
      "\u001b[1;35mDos Dimensiones\u001b[0m\n",
      "[[0 0 0]\n",
      " [0 0 0]]\n"
     ]
    }
   ],
   "source": [
    "# Usando zeros()\n",
    "print(\"\\033[1;34m\" + \"Usando numpy.zeros()\" + \"\\033[0m\\n\")\n",
    "\n",
    "# Arreglo de una dimensión\n",
    "arr1 = np.zeros(5, dtype = int)\n",
    "print(\"\\033[1;35m\" + \"Una Dimensión\" + \"\\033[0m\")\n",
    "print(arr1, \"\\n\")\n",
    "\n",
    "# Arreglo de dos dimensiones\n",
    "arr2 = np.zeros((2,3), dtype = int)\n",
    "print(\"\\033[1;35m\" + \"Dos Dimensiones\" + \"\\033[0m\")\n",
    "print(arr2)"
   ]
  },
  {
   "cell_type": "code",
   "execution_count": 19,
   "id": "e51646ba-5a21-4966-b59a-d46c4e83ba5c",
   "metadata": {
    "ExecuteTime": {
     "end_time": "2025-01-29T23:33:43.981256Z",
     "start_time": "2025-01-29T23:33:43.980056Z"
    }
   },
   "outputs": [
    {
     "name": "stdout",
     "output_type": "stream",
     "text": [
      "\u001b[1;34mUsando numpy.zeros_like()\u001b[0m\n",
      "[[0 0 0]\n",
      " [0 0 0]]\n"
     ]
    }
   ],
   "source": [
    "# Usando zeros_like()\n",
    "print(\"\\033[1;34m\" + \"Usando numpy.zeros_like()\" + \"\\033[0m\")\n",
    "\n",
    "original = np.array([[1, 2, 3], [4, 5, 6]])\n",
    "\n",
    "# Crea un nuevo arreglo con la misma forma que 'original'\n",
    "arr = np.zeros_like(original)\n",
    "print(arr)"
   ]
  },
  {
   "cell_type": "code",
   "execution_count": 20,
   "id": "56acc8fd-58de-4164-99a2-83da5e4db709",
   "metadata": {
    "ExecuteTime": {
     "end_time": "2025-01-29T23:33:43.999007Z",
     "start_time": "2025-01-29T23:33:43.997786Z"
    }
   },
   "outputs": [
    {
     "name": "stdout",
     "output_type": "stream",
     "text": [
      "\u001b[1;34mUsando numpy.empty() y numpy.fill()\u001b[0m\n",
      "\n",
      "\u001b[1;35mUna Dimensión\u001b[0m\n",
      "[0 0 0 0 0 0] \n",
      "\n",
      "\u001b[1;35mDos Dimensiones\u001b[0m\n",
      "[[0 0 0]\n",
      " [0 0 0]\n",
      " [0 0 0]\n",
      " [0 0 0]\n",
      " [0 0 0]]\n"
     ]
    }
   ],
   "source": [
    "# Usando empty() y fill()\n",
    "print(\"\\033[1;34m\" + \"Usando numpy.empty() y numpy.fill()\" + \"\\033[0m\\n\")\n",
    "\n",
    "# Arreglo de una dimensión\n",
    "arr1 = np.empty(6, dtype = int)\n",
    "arr1.fill(0)\n",
    "print(\"\\033[1;35m\" + \"Una Dimensión\" + \"\\033[0m\")\n",
    "print(arr1, \"\\n\")\n",
    "\n",
    "# Arreglo de dos dimensiones\n",
    "arr2 = np.empty((5, 3), dtype = int)\n",
    "arr2.fill(0)\n",
    "print(\"\\033[1;35m\" + \"Dos Dimensiones\" + \"\\033[0m\")\n",
    "print(arr2)"
   ]
  },
  {
   "cell_type": "code",
   "execution_count": 21,
   "id": "63692a29-b84c-4585-830b-3c236ff8fb85",
   "metadata": {
    "ExecuteTime": {
     "end_time": "2025-01-29T23:33:44.030679Z",
     "start_time": "2025-01-29T23:33:44.029520Z"
    }
   },
   "outputs": [
    {
     "name": "stdout",
     "output_type": "stream",
     "text": [
      "\u001b[1;34mUsando numpy.full()\u001b[0m\n",
      "\n",
      "\u001b[1;35mUna Dimensión\u001b[0m\n",
      "[0 0 0 0 0] \n",
      "\n",
      "\u001b[1;35mDos Dimensiones\u001b[0m\n",
      "[[0 0 0]\n",
      " [0 0 0]]\n"
     ]
    }
   ],
   "source": [
    "# Usando full()\n",
    "print(\"\\033[1;34m\" + \"Usando numpy.full()\" + \"\\033[0m\\n\")\n",
    "\n",
    "# Arreglo de una dimensión\n",
    "arr1 = np.full(5, 0)\n",
    "print(\"\\033[1;35m\" + \"Una Dimensión\" + \"\\033[0m\")\n",
    "print(arr1, \"\\n\")\n",
    "\n",
    "# Arreglo de dos dimensiones\n",
    "arr2 = np.full((2, 3), 0)\n",
    "print(\"\\033[1;35m\" + \"Dos Dimensiones\" + \"\\033[0m\")\n",
    "print(arr2)"
   ]
  },
  {
   "cell_type": "markdown",
   "id": "da647e25-5c20-4089-a206-0c27514c15dc",
   "metadata": {},
   "source": [
    "### Arrays con unos"
   ]
  },
  {
   "cell_type": "code",
   "execution_count": 23,
   "id": "be91f10c-1b1c-4507-8618-82f2b61765e4",
   "metadata": {
    "ExecuteTime": {
     "end_time": "2025-01-29T23:33:44.072213Z",
     "start_time": "2025-01-29T23:33:44.070999Z"
    }
   },
   "outputs": [
    {
     "name": "stdout",
     "output_type": "stream",
     "text": [
      "\u001b[1;34mUsando numpy.ones()\u001b[0m\n",
      "\n",
      "\u001b[1;35mUna Dimensión\u001b[0m\n",
      "[1 1 1 1 1] \n",
      "\n",
      "\u001b[1;35mDos Dimensiones\u001b[0m\n",
      "[[1 1 1 1]\n",
      " [1 1 1 1]\n",
      " [1 1 1 1]]\n"
     ]
    }
   ],
   "source": [
    "# Usando ones()\n",
    "print(\"\\033[1;34m\" + \"Usando numpy.ones()\" + \"\\033[0m\\n\")\n",
    "\n",
    "# Arreglo de una dimensión\n",
    "arr1 = np.ones(5, dtype = int)\n",
    "print(\"\\033[1;35m\" + \"Una Dimensión\" + \"\\033[0m\")\n",
    "print(arr1, \"\\n\")\n",
    "\n",
    "# Arreglo de dos dimensiones\n",
    "arr2 = np.ones((3, 4), dtype = int)\n",
    "print(\"\\033[1;35m\" + \"Dos Dimensiones\" + \"\\033[0m\")\n",
    "print(arr2)"
   ]
  },
  {
   "cell_type": "code",
   "execution_count": 24,
   "id": "25f30208-8196-4345-8099-0aacb5cc56b9",
   "metadata": {
    "ExecuteTime": {
     "end_time": "2025-01-29T23:33:44.101725Z",
     "start_time": "2025-01-29T23:33:44.100498Z"
    }
   },
   "outputs": [
    {
     "name": "stdout",
     "output_type": "stream",
     "text": [
      "\u001b[1;34mUsando numpy.ones_like()\u001b[0m\n",
      "[[1 1 1]\n",
      " [1 1 1]]\n"
     ]
    }
   ],
   "source": [
    "# Usando ones_like()\n",
    "print(\"\\033[1;34m\" + \"Usando numpy.ones_like()\" + \"\\033[0m\")\n",
    "\n",
    "original = np.array([[2, 3, 4], [5, 6, 7]])\n",
    "arr = np.ones_like(original)\n",
    "print(arr)"
   ]
  },
  {
   "cell_type": "markdown",
   "id": "899de377-8154-4124-ab89-2d54205d18d3",
   "metadata": {},
   "source": [
    "### Arrays con valores constantes"
   ]
  },
  {
   "cell_type": "code",
   "execution_count": 26,
   "id": "17a34bd2-0e54-4266-93f1-41476814091c",
   "metadata": {
    "ExecuteTime": {
     "end_time": "2025-01-29T23:33:44.141023Z",
     "start_time": "2025-01-29T23:33:44.139732Z"
    }
   },
   "outputs": [
    {
     "name": "stdout",
     "output_type": "stream",
     "text": [
      "\u001b[1;34mUsando numpy.full()\u001b[0m\n",
      "\n",
      "\u001b[1;35mUna Dimensión\u001b[0m\n",
      "[7 7 7 7 7] \n",
      "\n",
      "\u001b[1;35mDos Dimensiones\u001b[0m\n",
      "[[4 4 4]\n",
      " [4 4 4]]\n"
     ]
    }
   ],
   "source": [
    "# Usando full()\n",
    "print(\"\\033[1;34m\" + \"Usando numpy.full()\" + \"\\033[0m\\n\")\n",
    "\n",
    "# Arreglo de una dimensión\n",
    "arr1 = np.full(5, 7)\n",
    "print(\"\\033[1;35m\" + \"Una Dimensión\" + \"\\033[0m\")\n",
    "print(arr1, \"\\n\")\n",
    "\n",
    "# Arreglo de dos dimensiones\n",
    "arr2 = np.full((2, 3), 4)\n",
    "print(\"\\033[1;35m\" + \"Dos Dimensiones\" + \"\\033[0m\")\n",
    "print(arr2)"
   ]
  },
  {
   "cell_type": "code",
   "execution_count": 27,
   "id": "743e5279-a198-4c7e-94db-d693b1efe388",
   "metadata": {
    "ExecuteTime": {
     "end_time": "2025-01-29T23:33:44.167838Z",
     "start_time": "2025-01-29T23:33:44.166640Z"
    }
   },
   "outputs": [
    {
     "name": "stdout",
     "output_type": "stream",
     "text": [
      "\u001b[1;34mUsando numpy.empty() y numpy.fill()\u001b[0m\n",
      "\n",
      "\u001b[1;35mUna Dimensión\u001b[0m\n",
      "[9 9 9 9 9] \n",
      "\n",
      "\u001b[1;35mDos Dimensiones\u001b[0m\n",
      "[[3 3 3 3]\n",
      " [3 3 3 3]\n",
      " [3 3 3 3]]\n"
     ]
    }
   ],
   "source": [
    "# Usando empty() y fill()\n",
    "print(\"\\033[1;34m\" + \"Usando numpy.empty() y numpy.fill()\" + \"\\033[0m\\n\")\n",
    "\n",
    "# Arreglo de una dimensión\n",
    "arr1 = np.empty(5, dtype = int)\n",
    "arr1.fill(9)\n",
    "print(\"\\033[1;35m\" + \"Una Dimensión\" + \"\\033[0m\")\n",
    "print(arr1, \"\\n\")\n",
    "\n",
    "# Arreglo de dos dimensiones\n",
    "arr2 = np.empty((3, 4), dtype = int)\n",
    "arr2.fill(3)\n",
    "print(\"\\033[1;35m\" + \"Dos Dimensiones\" + \"\\033[0m\")\n",
    "print(arr2)"
   ]
  },
  {
   "cell_type": "code",
   "execution_count": 28,
   "id": "a5b5ee549f7dc86f",
   "metadata": {
    "ExecuteTime": {
     "end_time": "2025-01-29T23:33:44.210612Z",
     "start_time": "2025-01-29T23:33:44.209393Z"
    }
   },
   "outputs": [
    {
     "name": "stdout",
     "output_type": "stream",
     "text": [
      "\u001b[1;34mUsando numpy.tile()\u001b[0m\n",
      "\n",
      "\u001b[1;35mUna Dimensión\u001b[0m\n",
      "[5 5 5 5] \n",
      "\n",
      "\u001b[1;35mDos Dimensiones\u001b[0m\n",
      "[[8 8]\n",
      " [8 8]\n",
      " [8 8]]\n"
     ]
    }
   ],
   "source": [
    "# Usando tile()\n",
    "print(\"\\033[1;34m\" + \"Usando numpy.tile()\" + \"\\033[0m\\n\")\n",
    "\n",
    "# Arreglo de una dimensión\n",
    "arr1 = np.tile(5, 4)\n",
    "print(\"\\033[1;35m\" + \"Una Dimensión\" + \"\\033[0m\")\n",
    "print(arr1, \"\\n\")\n",
    "\n",
    "# Arreglo de dos dimensiones\n",
    "arr2 = np.tile(8, (3, 2))\n",
    "print(\"\\033[1;35m\" + \"Dos Dimensiones\" + \"\\033[0m\")\n",
    "print(arr2)"
   ]
  },
  {
   "cell_type": "markdown",
   "id": "59e9d38f-51a4-4859-8edb-928a14c0e785",
   "metadata": {},
   "source": [
    "### Arrays con rango de valores"
   ]
  },
  {
   "cell_type": "code",
   "execution_count": 30,
   "id": "30276993-4cf5-4f52-93e6-6cc32190f048",
   "metadata": {
    "ExecuteTime": {
     "end_time": "2025-01-29T23:33:44.240305Z",
     "start_time": "2025-01-29T23:33:44.239117Z"
    }
   },
   "outputs": [
    {
     "name": "stdout",
     "output_type": "stream",
     "text": [
      "\u001b[1;34mUsando numpy.arange()\u001b[0m\n",
      "\n",
      "\u001b[1;35mUna Dimensión\u001b[0m\n",
      "[0 1 2 3 4 5 6 7 8 9]\n",
      "[2 3 4 5 6 7 8 9]\n",
      "[0 2 4 6 8] \n",
      "\n",
      "\u001b[1;35mDos Dimensiones\u001b[0m\n",
      "[[1 2 3]\n",
      " [4 5 6]\n",
      " [7 8 9]]\n"
     ]
    }
   ],
   "source": [
    "# Usando arange()\n",
    "print(\"\\033[1;34m\" + \"Usando numpy.arange()\" + \"\\033[0m\\n\")\n",
    "\n",
    "# Arreglo de una dimensión\n",
    "# de 0 a 9\n",
    "arr1 = np.arange(10)\n",
    "# de 2 a 9\n",
    "arr2 = np.arange(2, 10)\n",
    "# de 0 a 10, con paso de 2\n",
    "arr3 = np.arange(0, 10, 2)\n",
    "print(\"\\033[1;35m\" + \"Una Dimensión\" + \"\\033[0m\")\n",
    "print(arr1)\n",
    "print(arr2)\n",
    "print(arr3, \"\\n\")\n",
    "\n",
    "# Arreglo de dos dimensiones\n",
    "arr = np.arange(1, 10)\n",
    "arr4 = arr.reshape((3, 3))\n",
    "print(\"\\033[1;35m\" + \"Dos Dimensiones\" + \"\\033[0m\")\n",
    "print(arr4)"
   ]
  },
  {
   "cell_type": "markdown",
   "id": "201c876a-0e92-4382-8476-41b4da275155",
   "metadata": {},
   "source": [
    "### Arrays con valores distribuidos uniformemente"
   ]
  },
  {
   "cell_type": "code",
   "execution_count": 32,
   "id": "e838cbaf-d47c-4c72-bd02-53ef15d38105",
   "metadata": {
    "ExecuteTime": {
     "end_time": "2025-01-29T23:33:44.283333Z",
     "start_time": "2025-01-29T23:33:44.282114Z"
    }
   },
   "outputs": [
    {
     "name": "stdout",
     "output_type": "stream",
     "text": [
      "\u001b[1;34mUsando numpy.random.uniform()\u001b[0m\n",
      "\n",
      "\u001b[1;35mUna Dimensión\u001b[0m\n",
      "[3.15574726 2.03719044 6.83138415 5.7574804  1.1296788 ] \n",
      "\n",
      "\u001b[1;35mDos Dimensiones\u001b[0m\n",
      "[[0.65655409 0.78623554]\n",
      " [0.58619131 0.23095971]\n",
      " [0.27981619 0.1993311 ]]\n"
     ]
    }
   ],
   "source": [
    "# Usando random.uniform()\n",
    "print(\"\\033[1;34m\" + \"Usando numpy.random.uniform()\" + \"\\033[0m\\n\")\n",
    "\n",
    "# Arreglo de una dimensión\n",
    "arr1 = np.random.uniform(low = 1, high = 10, size = 5)\n",
    "print(\"\\033[1;35m\" + \"Una Dimensión\" + \"\\033[0m\")\n",
    "print(arr1, \"\\n\")\n",
    "\n",
    "# Arreglo de dos dimensiones\n",
    "arr2 = np.random.uniform(low = 0.0, high = 1.0, size = (3, 2))\n",
    "print(\"\\033[1;35m\" + \"Dos Dimensiones\" + \"\\033[0m\")\n",
    "print(arr2)"
   ]
  },
  {
   "cell_type": "code",
   "execution_count": 33,
   "id": "25a5c31a-0934-4180-af2e-cc9f5c312962",
   "metadata": {
    "ExecuteTime": {
     "end_time": "2025-01-29T23:33:44.312525Z",
     "start_time": "2025-01-29T23:33:44.311315Z"
    }
   },
   "outputs": [
    {
     "name": "stdout",
     "output_type": "stream",
     "text": [
      "\u001b[1;34mUsando numpy.linspace()\u001b[0m\n",
      "\n",
      "\u001b[1;35mUna Dimensión\u001b[0m\n",
      "[ 1  2  3  4  5  6  7  8  9 10]\n",
      "[0.   0.25 0.5  0.75 1.  ] \n",
      "\n",
      "\u001b[1;35mDos Dimensiones\u001b[0m\n",
      "[[ 0  2]\n",
      " [ 4  6]\n",
      " [ 8 10]]\n"
     ]
    }
   ],
   "source": [
    "# Usando linspace()\n",
    "print(\"\\033[1;34m\" + \"Usando numpy.linspace()\" + \"\\033[0m\\n\")\n",
    "\n",
    "# Arreglo de una dimensión\n",
    "arr1 = np.linspace(1, 10, 10, dtype = int)\n",
    "arr2 = np.linspace(0, 1, 5)\n",
    "print(\"\\033[1;35m\" + \"Una Dimensión\" + \"\\033[0m\")\n",
    "print(arr1)\n",
    "print(arr2, \"\\n\")\n",
    "\n",
    "# Arreglo de dos dimensiones\n",
    "arr = np.linspace(0, 10, 6, dtype = int)\n",
    "arr3 = arr.reshape((3, 2))\n",
    "print(\"\\033[1;35m\" + \"Dos Dimensiones\" + \"\\033[0m\")\n",
    "print(arr3)"
   ]
  },
  {
   "cell_type": "markdown",
   "id": "24de7627-226b-40bb-82b5-8cf81c5101eb",
   "metadata": {},
   "source": [
    "### Diagrama de lineas\n",
    "\n",
    "Un diagrama de líneas es un gráfico que muestra datos en forma de puntos conectados por líneas. Se usa para representar eventos que ocurren en un intervalo de tiempo, como el número de visitantes por mes."
   ]
  },
  {
   "cell_type": "code",
   "execution_count": 35,
   "id": "50f14cce-9f81-493b-b7b6-68dc700c43ed",
   "metadata": {
    "ExecuteTime": {
     "end_time": "2025-01-29T23:33:44.358941Z",
     "start_time": "2025-01-29T23:33:44.357819Z"
    }
   },
   "outputs": [
    {
     "name": "stdout",
     "output_type": "stream",
     "text": [
      "\u001b[1;34mDatos a graficar\u001b[0m\n",
      "\n",
      "\u001b[1;35mX\u001b[0m\n",
      "[-5.         -4.47368421 -3.94736842 -3.42105263 -2.89473684 -2.36842105\n",
      " -1.84210526 -1.31578947 -0.78947368 -0.26315789  0.26315789  0.78947368\n",
      "  1.31578947  1.84210526  2.36842105  2.89473684  3.42105263  3.94736842\n",
      "  4.47368421  5.        ] \n",
      "\n",
      "\u001b[1;35mY1\u001b[0m\n",
      "[25.         20.01385042 15.58171745 11.70360111  8.37950139  5.60941828\n",
      "  3.3933518   1.73130194  0.6232687   0.06925208  0.06925208  0.6232687\n",
      "  1.73130194  3.3933518   5.60941828  8.37950139 11.70360111 15.58171745\n",
      " 20.01385042 25.        ] \n",
      "\n",
      "\u001b[1;35mY2\u001b[0m\n",
      "[-1.25000000e+02 -8.95356466e+01 -6.15067794e+01 -4.00386354e+01\n",
      " -2.42564514e+01 -1.32854644e+01 -6.25091121e+00 -2.27802887e+00\n",
      " -4.92054235e-01 -1.82242309e-02  1.82242309e-02  4.92054235e-01\n",
      "  2.27802887e+00  6.25091121e+00  1.32854644e+01  2.42564514e+01\n",
      "  4.00386354e+01  6.15067794e+01  8.95356466e+01  1.25000000e+02] \n",
      "\n"
     ]
    }
   ],
   "source": [
    "# Generar 20 números desde -5 hasta 5\n",
    "print(\"\\033[1;34m\" + \"Datos a graficar\" + \"\\033[0m\\n\")\n",
    "\n",
    "x = np.linspace(-5, 5, 20)\n",
    "y1 = x ** 2\n",
    "y2 = x ** 3\n",
    "\n",
    "print(\"\\033[1;35m\" + \"X\" + \"\\033[0m\")\n",
    "print(x, \"\\n\")\n",
    "print(\"\\033[1;35m\" + \"Y1\" + \"\\033[0m\")\n",
    "print(y1, \"\\n\")\n",
    "print(\"\\033[1;35m\" + \"Y2\" + \"\\033[0m\")\n",
    "print(y2, \"\\n\")"
   ]
  },
  {
   "cell_type": "code",
   "execution_count": 36,
   "id": "127373f2-d96e-40e7-9e54-9d5c2c0f8171",
   "metadata": {
    "ExecuteTime": {
     "end_time": "2025-01-29T23:33:44.385319Z",
     "start_time": "2025-01-29T23:33:44.384138Z"
    }
   },
   "outputs": [
    {
     "data": {
      "image/png": "[encoded data removed]",
      "text/plain": [
       "<Figure size 500x400 with 1 Axes>"
      ]
     },
     "metadata": {},
     "output_type": "display_data"
    }
   ],
   "source": [
    "import matplotlib.pyplot as plt\n",
    "\n",
    "# Crear una figura\n",
    "plt.figure(figsize=(5, 4))\n",
    "\n",
    "# Plot permite trazar líneas conectando puntos definidos por arrays de Numpy\n",
    "plt.plot(x, y1, marker = '*', linestyle = '--', color = 'magenta', label = '$y = x^{2}$')\n",
    "plt.plot(x, y2, marker = '*', linestyle = '--', color = 'cyan', label = '$y = x^{3}$')\n",
    "\n",
    "# Trazar la gráfica\n",
    "plt.title(\"Variaciones de $x^{2}$ y $x^{3}$\", color = 'blue', size = 12)\n",
    "plt.xlabel('Eje X', color = 'purple')\n",
    "plt.ylabel('Eje Y', color = 'purple')\n",
    "plt.legend(loc = 'lower right')\n",
    "plt.grid()\n",
    "plt.show()"
   ]
  },
  {
   "cell_type": "code",
   "execution_count": 37,
   "id": "ee5fb85a-2389-481d-9401-1eae81ed9914",
   "metadata": {},
   "outputs": [
    {
     "data": {
      "image/png": "[encoded data removed]",
      "text/plain": [
       "<Figure size 500x400 with 1 Axes>"
      ]
     },
     "metadata": {},
     "output_type": "display_data"
    }
   ],
   "source": [
    "# Práctica\n",
    "sem = np.array([1,2,3,4,5,6,7])\n",
    "cal = np.array([92.67, 98.17, 98.67, 95, 98.83, 98.17, 98])\n",
    "\n",
    "# Crear una figura\n",
    "plt.figure(figsize=(5, 4))\n",
    "\n",
    "# Plot permite trazar líneas conectando puntos definidos por arrays de Numpy\n",
    "plt.plot(sem, cal, marker = '*', linestyle = '--', color = 'magenta')\n",
    "\n",
    "# Trazar la gráfica\n",
    "plt.title(\"Calificaciones semestrales\", color = 'blue', size = 12)\n",
    "plt.xlabel('Semestre', color = 'purple')\n",
    "plt.ylabel('Calificaciones', color = 'purple')\n",
    "plt.grid()\n",
    "plt.show()"
   ]
  },
  {
   "cell_type": "markdown",
   "id": "e7e868b5-b2c6-4139-b3b7-14bab5eb89c0",
   "metadata": {},
   "source": [
    "## <font color = darkblue> Propiedades de los arrays"
   ]
  },
  {
   "cell_type": "markdown",
   "id": "1a77b302-eafe-4941-891c-09a95989e432",
   "metadata": {},
   "source": [
    "### Número de dimensiones"
   ]
  },
  {
   "cell_type": "code",
   "execution_count": 40,
   "id": "5ccbae42-db92-4d66-b2ac-762ac1ca0c63",
   "metadata": {
    "ExecuteTime": {
     "end_time": "2025-01-29T23:33:44.437888Z",
     "start_time": "2025-01-29T23:33:44.436743Z"
    }
   },
   "outputs": [
    {
     "name": "stdout",
     "output_type": "stream",
     "text": [
      "\u001b[1;34mUsando la propiedad ndim\u001b[0m\n",
      "\n",
      "\u001b[1;35mMatriz\u001b[0m\n",
      " [[1 2 3]\n",
      " [4 5 6]] \n",
      "\n",
      "\u001b[1;35mNúmero de Dimensiones\u001b[0m\n",
      " 2\n"
     ]
    }
   ],
   "source": [
    "# Con la propiedad de arreglos ndim, obtenemos el número de dimensiones\n",
    "print(\"\\033[1;34m\" + \"Usando la propiedad ndim\" + \"\\033[0m\\n\")\n",
    "\n",
    "matriz = np.array([[1,2,3], [4,5,6]])\n",
    "print(\"\\033[1;35m\" + \"Matriz\" + \"\\033[0m\\n\", matriz, \"\\n\")\n",
    "print(\"\\033[1;35m\" + \"Número de Dimensiones\" \"\\033[0m\\n\", matriz.ndim)"
   ]
  },
  {
   "cell_type": "code",
   "execution_count": 41,
   "id": "8ac35466-2514-4a53-aec0-571429e92a59",
   "metadata": {
    "ExecuteTime": {
     "end_time": "2025-01-29T23:33:44.471609Z",
     "start_time": "2025-01-29T23:33:44.470415Z"
    }
   },
   "outputs": [
    {
     "name": "stdout",
     "output_type": "stream",
     "text": [
      "\u001b[1;35mMatriz_ceros\u001b[0m\n",
      " [[[0. 0.]\n",
      "  [0. 0.]]\n",
      "\n",
      " [[0. 0.]\n",
      "  [0. 0.]]\n",
      "\n",
      " [[0. 0.]\n",
      "  [0. 0.]]] \n",
      "\n",
      "\u001b[1;35mNúmero de Dimensiones\u001b[0m\n",
      " 3\n"
     ]
    }
   ],
   "source": [
    "# Construir una matriz de CEROS, 3 matrices de 2x2\n",
    "matriz_ceros = np.zeros((3,2,2))\n",
    "\n",
    "print(\"\\033[1;35m\" + \"Matriz_ceros\" + \"\\033[0m\\n\", matriz_ceros, \"\\n\")\n",
    "print(\"\\033[1;35m\" + \"Número de Dimensiones\" \"\\033[0m\\n\", matriz_ceros.ndim)"
   ]
  },
  {
   "cell_type": "markdown",
   "id": "362672d8-c1fe-4eb4-8a4b-669cb49b16df",
   "metadata": {},
   "source": [
    "### Forma del array"
   ]
  },
  {
   "cell_type": "code",
   "execution_count": 43,
   "id": "5a821b1f-6e33-47f9-9db8-bebbc99ac25f",
   "metadata": {
    "ExecuteTime": {
     "end_time": "2025-01-29T23:33:44.513174Z",
     "start_time": "2025-01-29T23:33:44.512052Z"
    }
   },
   "outputs": [
    {
     "name": "stdout",
     "output_type": "stream",
     "text": [
      "\u001b[1;34mUsando la propiedad shape\u001b[0m\n",
      "\n",
      "\u001b[1;35mMatriz_ceros\u001b[0m\n",
      " [[[0. 0.]\n",
      "  [0. 0.]]\n",
      "\n",
      " [[0. 0.]\n",
      "  [0. 0.]]\n",
      "\n",
      " [[0. 0.]\n",
      "  [0. 0.]]] \n",
      "\n",
      "\u001b[1;35mForma\u001b[0m\n",
      " (3, 2, 2)\n"
     ]
    }
   ],
   "source": [
    "# La propiedad shape muestra la forma del arreglo\n",
    "print(\"\\033[1;34m\" + \"Usando la propiedad shape\" + \"\\033[0m\\n\")\n",
    "\n",
    "print(\"\\033[1;35m\" + \"Matriz_ceros\" + \"\\033[0m\\n\", matriz_ceros, \"\\n\")\n",
    "print(\"\\033[1;35m\" + \"Forma\" + \"\\033[0m\\n\", matriz_ceros.shape)"
   ]
  },
  {
   "cell_type": "code",
   "execution_count": 44,
   "id": "e2e61fc8-d337-47ec-bd4a-4e1b81243d07",
   "metadata": {
    "ExecuteTime": {
     "end_time": "2025-01-29T23:33:44.544841Z",
     "start_time": "2025-01-29T23:33:44.543553Z"
    }
   },
   "outputs": [
    {
     "name": "stdout",
     "output_type": "stream",
     "text": [
      "\u001b[1;35mMatriz\u001b[0m\n",
      " [[1 2 3]\n",
      " [4 5 6]] \n",
      "\n",
      "\u001b[1;35mForma\u001b[0m\n",
      " (2, 3)\n"
     ]
    }
   ],
   "source": [
    "print(\"\\033[1;35m\" + \"Matriz\" + \"\\033[0m\\n\", matriz, \"\\n\")\n",
    "print(\"\\033[1;35m\" + \"Forma\" + \"\\033[0m\\n\", matriz.shape)"
   ]
  },
  {
   "cell_type": "markdown",
   "id": "0b6e1dec-3c4a-4c22-9625-5c369133aa72",
   "metadata": {},
   "source": [
    "### Forma de los elementos (¿Cuántos elementos hay?)"
   ]
  },
  {
   "cell_type": "code",
   "execution_count": 46,
   "id": "973b590f-897e-4799-bbe2-69c313316857",
   "metadata": {
    "ExecuteTime": {
     "end_time": "2025-01-29T23:33:44.587929Z",
     "start_time": "2025-01-29T23:33:44.586759Z"
    }
   },
   "outputs": [
    {
     "name": "stdout",
     "output_type": "stream",
     "text": [
      "\u001b[1;34mUsando la propiedad size\u001b[0m\n",
      "\n",
      "\u001b[1;35mTamaño Matriz_ceros\u001b[0m\n",
      " 12\n"
     ]
    }
   ],
   "source": [
    "# Con la propiedad size se obtiene el tamaño del arreglo\n",
    "print(\"\\033[1;34m\" + \"Usando la propiedad size\" + \"\\033[0m\\n\")\n",
    "\n",
    "print(\"\\033[1;35m\" + \"Tamaño Matriz_ceros\" + \"\\033[0m\\n\", matriz_ceros.size)"
   ]
  },
  {
   "cell_type": "code",
   "execution_count": 47,
   "id": "ccc89907-fcc0-4efa-a919-242328398ef3",
   "metadata": {
    "ExecuteTime": {
     "end_time": "2025-01-29T23:33:44.611965Z",
     "start_time": "2025-01-29T23:33:44.610798Z"
    }
   },
   "outputs": [
    {
     "name": "stdout",
     "output_type": "stream",
     "text": [
      "\u001b[1;35mTamaño Matriz\u001b[0m\n",
      " 6\n"
     ]
    }
   ],
   "source": [
    "print(\"\\033[1;35m\" + \"Tamaño Matriz\" + \"\\033[0m\\n\", matriz.size)"
   ]
  },
  {
   "cell_type": "markdown",
   "id": "347cf225-d759-4ea9-ac22-0b2acfc0454c",
   "metadata": {},
   "source": [
    "### Obtener el tipo de dato"
   ]
  },
  {
   "cell_type": "code",
   "execution_count": 49,
   "id": "0caec641-8ab6-4f20-9911-5d4eabe17a7a",
   "metadata": {
    "ExecuteTime": {
     "end_time": "2025-01-29T23:33:44.655432Z",
     "start_time": "2025-01-29T23:33:44.654230Z"
    }
   },
   "outputs": [
    {
     "name": "stdout",
     "output_type": "stream",
     "text": [
      "\u001b[1;34mEntero\u001b[0m\n"
     ]
    },
    {
     "data": {
      "text/plain": [
       "dtype('int32')"
      ]
     },
     "execution_count": 49,
     "metadata": {},
     "output_type": "execute_result"
    }
   ],
   "source": [
    "# Entero\n",
    "print(\"\\033[1;34m\" + \"Entero\" + \"\\033[0m\")\n",
    "matriz.dtype"
   ]
  },
  {
   "cell_type": "code",
   "execution_count": 50,
   "id": "0586dc38-ae75-4a5c-802f-0e2d6abbf38e",
   "metadata": {
    "ExecuteTime": {
     "end_time": "2025-01-29T23:33:44.686050Z",
     "start_time": "2025-01-29T23:33:44.684729Z"
    }
   },
   "outputs": [
    {
     "name": "stdout",
     "output_type": "stream",
     "text": [
      "\u001b[1;34mFlotantes\u001b[0m\n"
     ]
    },
    {
     "data": {
      "text/plain": [
       "dtype('float64')"
      ]
     },
     "execution_count": 50,
     "metadata": {},
     "output_type": "execute_result"
    }
   ],
   "source": [
    "# Flotantes\n",
    "print(\"\\033[1;34m\" + \"Flotantes\" + \"\\033[0m\")\n",
    "matriz_ceros.dtype"
   ]
  },
  {
   "cell_type": "code",
   "execution_count": 51,
   "id": "69142c3f-0731-4534-bbb5-61172f831107",
   "metadata": {
    "ExecuteTime": {
     "end_time": "2025-01-29T23:33:44.728882Z",
     "start_time": "2025-01-29T23:33:44.727734Z"
    }
   },
   "outputs": [
    {
     "name": "stdout",
     "output_type": "stream",
     "text": [
      "\u001b[1;34mBooleano\u001b[0m\n"
     ]
    },
    {
     "data": {
      "text/plain": [
       "dtype('bool')"
      ]
     },
     "execution_count": 51,
     "metadata": {},
     "output_type": "execute_result"
    }
   ],
   "source": [
    "# Booleano\n",
    "arr_bool = np.array([True, True, False, True])\n",
    "print(\"\\033[1;34m\" + \"Booleano\" + \"\\033[0m\")\n",
    "arr_bool.dtype"
   ]
  },
  {
   "cell_type": "code",
   "execution_count": 52,
   "id": "530b233d-def3-4f2b-9a06-a8218f04a7e3",
   "metadata": {
    "ExecuteTime": {
     "end_time": "2025-01-29T23:33:44.753027Z",
     "start_time": "2025-01-29T23:33:44.751765Z"
    }
   },
   "outputs": [
    {
     "name": "stdout",
     "output_type": "stream",
     "text": [
      "\u001b[1;34mString\u001b[0m\n"
     ]
    },
    {
     "data": {
      "text/plain": [
       "dtype('<U7')"
      ]
     },
     "execution_count": 52,
     "metadata": {},
     "output_type": "execute_result"
    }
   ],
   "source": [
    "# String, la U depende del num de caracteres\n",
    "arr_str = np.array(['yuriana', '2', '3', '4'])\n",
    "print(\"\\033[1;34m\" + \"String\" + \"\\033[0m\")\n",
    "arr_str.dtype"
   ]
  },
  {
   "cell_type": "markdown",
   "id": "81d34f25-2b24-418b-afb1-cdc1aa2667c4",
   "metadata": {},
   "source": [
    "### Definir tipo de datos\n",
    "\n",
    "\n",
    "Para optimizar el uso de los recursos del sistema es importante definir el tipo de dato apropiado de los arrays en función a los datos y al tamaño que se prevean van a contener y procesar."
   ]
  },
  {
   "cell_type": "markdown",
   "id": "5d6ab5ff-a8f4-45b2-8ec0-251e6fb3963d",
   "metadata": {},
   "source": [
    "#### Enteros\n",
    "\n",
    "* np.int8: (1 byte) -  Para enteros entre -128 y 127.\n",
    "* np.int16: (2 bytes) - Para enteros entre -32768 y 32767.\n",
    "* np.int32: (4 bytes) - Para números enteros entre -2147483648 y 2147483647.\n",
    "* np.int64: (8 bytes) - Para números enteros entre -9223372036854775808 y 8223372036854775807."
   ]
  },
  {
   "cell_type": "code",
   "execution_count": 55,
   "id": "903bde32-9250-4480-ae05-5b9f4affb29f",
   "metadata": {
    "ExecuteTime": {
     "end_time": "2025-01-29T23:33:44.791401Z",
     "start_time": "2025-01-29T23:33:44.790219Z"
    }
   },
   "outputs": [
    {
     "name": "stdout",
     "output_type": "stream",
     "text": [
      "\u001b[1;35mnp.int8\u001b[0m\n"
     ]
    },
    {
     "data": {
      "text/plain": [
       "dtype('int8')"
      ]
     },
     "execution_count": 55,
     "metadata": {},
     "output_type": "execute_result"
    }
   ],
   "source": [
    "# np.int8\n",
    "print(\"\\033[1;35m\" + \"np.int8\" + \"\\033[0m\")\n",
    "\n",
    "arr_enteros = np.array([1,2,3], dtype = np.int8)\n",
    "arr_enteros.dtype"
   ]
  },
  {
   "cell_type": "code",
   "execution_count": 56,
   "id": "aa90420d-50d1-419c-996d-d790c5ac7d5d",
   "metadata": {
    "ExecuteTime": {
     "end_time": "2025-01-29T23:33:44.814867Z",
     "start_time": "2025-01-29T23:33:44.813651Z"
    }
   },
   "outputs": [
    {
     "name": "stdout",
     "output_type": "stream",
     "text": [
      "\u001b[1;35mnp.int64\u001b[0m\n"
     ]
    },
    {
     "data": {
      "text/plain": [
       "dtype('int64')"
      ]
     },
     "execution_count": 56,
     "metadata": {},
     "output_type": "execute_result"
    }
   ],
   "source": [
    "# np.int64\n",
    "print(\"\\033[1;35m\" + \"np.int64\" + \"\\033[0m\")\n",
    "\n",
    "arr_enteros = np.array([8223372036854775807,7023272035854775807,-9223372036854775808], dtype = np.int64)\n",
    "arr_enteros.dtype"
   ]
  },
  {
   "cell_type": "markdown",
   "id": "342ac670-f2d0-417c-b851-b8737b75c297",
   "metadata": {},
   "source": [
    "#### Enteros sin signo\n",
    "\n",
    "* np.uint8: (1 byte) -  Para enteros hasta 255.\n",
    "* np.uint16: (2 bytes) - Para enteros hasta 65535.\n",
    "* np.uint32: (4 bytes) - Para números enteros hasta 4294967295.\n",
    "* np.uint64: (8 bytes) - Para números enteros hasta 18446744073709551615.\n"
   ]
  },
  {
   "cell_type": "code",
   "execution_count": 58,
   "id": "4c06bded-4d82-4192-8e27-3153facef4ba",
   "metadata": {
    "ExecuteTime": {
     "end_time": "2025-01-29T23:33:44.854680Z",
     "start_time": "2025-01-29T23:33:44.853483Z"
    }
   },
   "outputs": [
    {
     "name": "stdout",
     "output_type": "stream",
     "text": [
      "\u001b[1;35mnp.uint8\u001b[0m\n"
     ]
    },
    {
     "data": {
      "text/plain": [
       "dtype('uint8')"
      ]
     },
     "execution_count": 58,
     "metadata": {},
     "output_type": "execute_result"
    }
   ],
   "source": [
    "# np.uint8\n",
    "print(\"\\033[1;35m\" + \"np.uint8\" + \"\\033[0m\")\n",
    "\n",
    "arr_entsig = np.array([123,255,78,100], dtype = np.uint8)\n",
    "arr_entsig.dtype"
   ]
  },
  {
   "cell_type": "code",
   "execution_count": 59,
   "id": "21656b54-b140-42c3-990b-101f69056884",
   "metadata": {
    "ExecuteTime": {
     "end_time": "2025-01-29T23:33:44.883090Z",
     "start_time": "2025-01-29T23:33:44.881895Z"
    }
   },
   "outputs": [
    {
     "name": "stdout",
     "output_type": "stream",
     "text": [
      "\u001b[1;35mnp.uint32\u001b[0m\n"
     ]
    },
    {
     "data": {
      "text/plain": [
       "dtype('uint32')"
      ]
     },
     "execution_count": 59,
     "metadata": {},
     "output_type": "execute_result"
    }
   ],
   "source": [
    "# np.uint32\n",
    "print(\"\\033[1;35m\" + \"np.uint32\" + \"\\033[0m\")\n",
    "\n",
    "arr_entsig = np.array([65537,76434,577528274], dtype = np.uint32)\n",
    "arr_entsig.dtype"
   ]
  },
  {
   "cell_type": "markdown",
   "id": "5c06c994-6a9d-410e-96c2-7df23eddd334",
   "metadata": {},
   "source": [
    "#### Flotantes\n",
    "* np.float16\n",
    "* np.float32\n",
    "* np.float64"
   ]
  },
  {
   "cell_type": "code",
   "execution_count": 61,
   "id": "6ca478d4-263a-4e56-b075-2a9d97438716",
   "metadata": {
    "ExecuteTime": {
     "end_time": "2025-01-29T23:33:44.928282Z",
     "start_time": "2025-01-29T23:33:44.927087Z"
    }
   },
   "outputs": [
    {
     "name": "stdout",
     "output_type": "stream",
     "text": [
      "\u001b[1;35mnp.float16\u001b[0m\n"
     ]
    },
    {
     "data": {
      "text/plain": [
       "dtype('float16')"
      ]
     },
     "execution_count": 61,
     "metadata": {},
     "output_type": "execute_result"
    }
   ],
   "source": [
    "# np.float16\n",
    "print(\"\\033[1;35m\" + \"np.float16\" + \"\\033[0m\")\n",
    "\n",
    "arr_float = np.array([0.00006, 0.00078, 0.00067], dtype = np.float16)\n",
    "arr_float.dtype"
   ]
  },
  {
   "cell_type": "code",
   "execution_count": 62,
   "id": "418b1b11-d840-4dab-aad4-cb3cac6598a5",
   "metadata": {
    "ExecuteTime": {
     "end_time": "2025-01-29T23:33:44.963522Z",
     "start_time": "2025-01-29T23:33:44.962250Z"
    }
   },
   "outputs": [
    {
     "name": "stdout",
     "output_type": "stream",
     "text": [
      "\u001b[1;35mnp.float32\u001b[0m\n"
     ]
    },
    {
     "data": {
      "text/plain": [
       "dtype('float32')"
      ]
     },
     "execution_count": 62,
     "metadata": {},
     "output_type": "execute_result"
    }
   ],
   "source": [
    "# np.float32\n",
    "print(\"\\033[1;35m\" + \"np.float32\" + \"\\033[0m\")\n",
    "\n",
    "arr_float = np.array([0.0000000000000000000000000000000000056], dtype = np.float32)\n",
    "arr_float.dtype"
   ]
  },
  {
   "cell_type": "markdown",
   "id": "8655ac36-b364-460f-8425-8e5936072be2",
   "metadata": {},
   "source": [
    "#### Tipos de datos abreviados\n",
    "\n",
    "* Booleanos: 'b1'.\n",
    "* Enteros: 'i1' (int8), 'i2' (int16), 'i4' (int32), 'i8' (int64).\n",
    "* Cadenas unicode con distintas longitudes: 'u1', 'u2', 'u4', 'u8'.\n",
    "* Cadenas de bytes con distintas longitudes: 'S1', 'S2', 'S3', 'S4'.\n",
    "* Flotantes: 'f2' (float16), 'f4' (float32), 'f8' (float64).\n",
    "* Complejos: 'c8' (complex64), 'c16' (complex128)."
   ]
  },
  {
   "cell_type": "code",
   "execution_count": 346,
   "id": "c142fb2f-a16c-401c-9a34-3c0a23d2dfea",
   "metadata": {
    "ExecuteTime": {
     "end_time": "2025-01-29T23:33:45.013490Z",
     "start_time": "2025-01-29T23:33:45.012251Z"
    }
   },
   "outputs": [
    {
     "name": "stdout",
     "output_type": "stream",
     "text": [
      "\u001b[1;34mEntero int16\u001b[0m\n",
      "\n",
      "\u001b[1;35mArreglo\u001b[0m\n",
      " [100 200 300 400 500] \n",
      "\n",
      "\u001b[1;35mTipo de dato\u001b[0m\n",
      " int16\n"
     ]
    }
   ],
   "source": [
    "# Crear un arreglo de enteros int16\n",
    "print(\"\\033[1;34m\" + \"Entero int16\" + \"\\033[0m\\n\")\n",
    "\n",
    "arr_entero = np.array([100, 200, 300, 400, 500], dtype = np.int16)\n",
    "\n",
    "print(\"\\033[1;35m\" + \"Arreglo\" + \"\\033[0m\\n\", arr_entero, \"\\n\")\n",
    "print(\"\\033[1;35m\" + \"Tipo de dato\" + \"\\033[0m\\n\", arr_entero.dtype)"
   ]
  },
  {
   "cell_type": "code",
   "execution_count": 355,
   "id": "add40241-3f3e-4deb-afda-b9bcc3eaba48",
   "metadata": {
    "ExecuteTime": {
     "end_time": "2025-01-29T23:33:45.038258Z",
     "start_time": "2025-01-29T23:33:45.037045Z"
    }
   },
   "outputs": [
    {
     "name": "stdout",
     "output_type": "stream",
     "text": [
      "\u001b[1;34mCadena Unicode u4\u001b[0m\n",
      "\n",
      "\u001b[1;35mArreglo\u001b[0m\n",
      " ['Hola' 'Mund' 'Data'] \n",
      "\n",
      "\u001b[1;35mTipo de dato\u001b[0m\n",
      " <U4\n"
     ]
    }
   ],
   "source": [
    "# Arreglo de cadenas U4\n",
    "print(\"\\033[1;34m\" + \"Cadena Unicode u4\" + \"\\033[0m\\n\")\n",
    "\n",
    "arr_cadenas = np.array(['Hola', 'Mund', 'Data'], dtype = np.dtype('U4'))\n",
    "\n",
    "print(\"\\033[1;35m\" + \"Arreglo\" + \"\\033[0m\\n\", arr_cadenas, \"\\n\")\n",
    "print(\"\\033[1;35m\" + \"Tipo de dato\" + \"\\033[0m\\n\", arr_cadenas.dtype)"
   ]
  },
  {
   "cell_type": "markdown",
   "id": "bf84588a-1ac8-4e34-b9f9-635f6e08d523",
   "metadata": {},
   "source": [
    "### Cambiar tipo de datos"
   ]
  },
  {
   "cell_type": "code",
   "execution_count": 318,
   "id": "a2e512f4-06e0-4ec2-8dcc-a45df4831e99",
   "metadata": {
    "ExecuteTime": {
     "end_time": "2025-01-29T23:33:45.079719Z",
     "start_time": "2025-01-29T23:33:45.078571Z"
    }
   },
   "outputs": [
    {
     "name": "stdout",
     "output_type": "stream",
     "text": [
      "\u001b[1;34mUsando función astype\u001b[0m\n",
      "\n",
      "\u001b[1;35mTipo de dato de matriz:\u001b[0m int32\n",
      "\u001b[1;35mNuevo tipo de dato de matriz:\u001b[0m float16\n"
     ]
    }
   ],
   "source": [
    "# Función astype\n",
    "print(\"\\033[1;34m\" + \"Usando función astype\" + \"\\033[0m\\n\")\n",
    "\n",
    "print(\"\\033[1;35m\" + 'Tipo de dato de matriz:' + \"\\033[0m\", matriz.dtype)\n",
    "\n",
    "arr = matriz.astype('float16')\n",
    "print(\"\\033[1;35m\" + 'Nuevo tipo de dato de matriz:' + \"\\033[0m\", arr.dtype)"
   ]
  },
  {
   "cell_type": "code",
   "execution_count": 322,
   "id": "0c8fb93d-6a19-454e-a7b3-5b8c1a9a43d1",
   "metadata": {
    "ExecuteTime": {
     "end_time": "2025-01-29T23:33:45.110559Z",
     "start_time": "2025-01-29T23:33:45.109265Z"
    }
   },
   "outputs": [
    {
     "name": "stdout",
     "output_type": "stream",
     "text": [
      "\u001b[1;35mTipo de dato del arreglo:\u001b[0m float32\n",
      "\u001b[1;35mNuevo tipo de dato del arreglo:\u001b[0m float64\n"
     ]
    }
   ],
   "source": [
    "print(\"\\033[1;35m\" + 'Tipo de dato del arreglo:' + \"\\033[0m\", arr_float.dtype)\n",
    "\n",
    "arr1 = arr_float.astype('float64')\n",
    "print(\"\\033[1;35m\" + 'Nuevo tipo de dato del arreglo:' + \"\\033[0m\", arr1.dtype)"
   ]
  },
  {
   "cell_type": "markdown",
   "id": "be8656f8-7aa8-4f8d-93c5-39c8671172fd",
   "metadata": {},
   "source": [
    "## <font color = darkblue> Operaciones con arrays"
   ]
  },
  {
   "cell_type": "markdown",
   "id": "cf906e17-2b00-4e0a-8f43-8b0b370c951a",
   "metadata": {},
   "source": [
    "### Operaciones elementales"
   ]
  },
  {
   "cell_type": "code",
   "execution_count": null,
   "id": "fa72d952-a82b-4506-bf81-474c31f49df9",
   "metadata": {
    "ExecuteTime": {
     "end_time": "2025-01-29T23:33:45.154256Z",
     "start_time": "2025-01-29T23:33:45.153079Z"
    }
   },
   "outputs": [],
   "source": []
  },
  {
   "cell_type": "code",
   "execution_count": null,
   "id": "5f058002-8330-4452-84c3-00683af6df0d",
   "metadata": {
    "ExecuteTime": {
     "end_time": "2025-01-29T23:33:45.178932Z",
     "start_time": "2025-01-29T23:33:45.177759Z"
    }
   },
   "outputs": [],
   "source": []
  },
  {
   "cell_type": "code",
   "execution_count": null,
   "id": "9359e72c-99ac-4ee5-b00e-6f8e17f5c516",
   "metadata": {
    "ExecuteTime": {
     "end_time": "2025-01-29T23:33:45.220968Z",
     "start_time": "2025-01-29T23:33:45.219804Z"
    }
   },
   "outputs": [],
   "source": []
  },
  {
   "cell_type": "code",
   "execution_count": null,
   "id": "b9151fbb-36a7-4b25-a2e2-bffbbcacd0ad",
   "metadata": {
    "ExecuteTime": {
     "end_time": "2025-01-29T23:33:45.245771Z",
     "start_time": "2025-01-29T23:33:45.244586Z"
    }
   },
   "outputs": [],
   "source": []
  },
  {
   "cell_type": "code",
   "execution_count": null,
   "id": "ae29aa84-01e9-4620-a1ac-3eb1ce52642d",
   "metadata": {
    "ExecuteTime": {
     "end_time": "2025-01-29T23:33:45.283323Z",
     "start_time": "2025-01-29T23:33:45.282249Z"
    }
   },
   "outputs": [],
   "source": []
  },
  {
   "cell_type": "code",
   "execution_count": null,
   "id": "a1102026-d686-44b8-8bdc-9a9dc9f37b90",
   "metadata": {
    "ExecuteTime": {
     "end_time": "2025-01-29T23:33:45.309694Z",
     "start_time": "2025-01-29T23:33:45.308464Z"
    }
   },
   "outputs": [],
   "source": []
  },
  {
   "cell_type": "code",
   "execution_count": null,
   "id": "a93a2d70-d7e2-4b4b-8aa2-7fb56be9ee44",
   "metadata": {
    "ExecuteTime": {
     "end_time": "2025-01-29T23:33:45.355076Z",
     "start_time": "2025-01-29T23:33:45.353927Z"
    }
   },
   "outputs": [],
   "source": []
  },
  {
   "cell_type": "markdown",
   "id": "8f0feef9-2d75-465b-b9e8-f5143c2a3b88",
   "metadata": {},
   "source": [
    "### Operaciones comunes"
   ]
  },
  {
   "cell_type": "code",
   "execution_count": null,
   "id": "e28cea2d-34a8-423b-860d-29813fe1da0a",
   "metadata": {
    "ExecuteTime": {
     "end_time": "2025-01-29T23:33:45.379504Z",
     "start_time": "2025-01-29T23:33:45.378350Z"
    }
   },
   "outputs": [],
   "source": []
  },
  {
   "cell_type": "code",
   "execution_count": null,
   "id": "00786142-6161-4d61-a6f8-e58a444d7d73",
   "metadata": {
    "ExecuteTime": {
     "end_time": "2025-01-29T23:33:45.398090Z",
     "start_time": "2025-01-29T23:33:45.396865Z"
    }
   },
   "outputs": [],
   "source": []
  },
  {
   "cell_type": "code",
   "execution_count": null,
   "id": "b8ac03e9-5ce2-4b88-ad8d-9cc84d2c6995",
   "metadata": {
    "ExecuteTime": {
     "end_time": "2025-01-29T23:33:45.445992Z",
     "start_time": "2025-01-29T23:33:45.444852Z"
    }
   },
   "outputs": [],
   "source": []
  },
  {
   "cell_type": "code",
   "execution_count": null,
   "id": "c8a9e79e-d3cc-4ca7-b579-3be10b7c60bd",
   "metadata": {
    "ExecuteTime": {
     "end_time": "2025-01-29T23:33:45.497821Z",
     "start_time": "2025-01-29T23:33:45.496597Z"
    }
   },
   "outputs": [],
   "source": []
  },
  {
   "cell_type": "code",
   "execution_count": null,
   "id": "c60e7d3c-a2d4-4307-a7b4-d65c2b8f2b4d",
   "metadata": {
    "ExecuteTime": {
     "end_time": "2025-01-29T23:33:45.516193Z",
     "start_time": "2025-01-29T23:33:45.515042Z"
    }
   },
   "outputs": [],
   "source": []
  },
  {
   "cell_type": "code",
   "execution_count": null,
   "id": "03961d83-b1e0-4756-afc1-871a2899d342",
   "metadata": {
    "ExecuteTime": {
     "end_time": "2025-01-29T23:33:45.549164Z",
     "start_time": "2025-01-29T23:33:45.547935Z"
    }
   },
   "outputs": [],
   "source": []
  },
  {
   "cell_type": "code",
   "execution_count": null,
   "id": "3765bc32-fd20-486e-afc6-7fa82d429d39",
   "metadata": {
    "ExecuteTime": {
     "end_time": "2025-01-29T23:33:45.587408Z",
     "start_time": "2025-01-29T23:33:45.586254Z"
    }
   },
   "outputs": [],
   "source": []
  },
  {
   "cell_type": "code",
   "execution_count": null,
   "id": "ca37ad99-63d1-4e9b-be63-5a5c79602888",
   "metadata": {
    "ExecuteTime": {
     "end_time": "2025-01-29T23:33:45.612105Z",
     "start_time": "2025-01-29T23:33:45.610977Z"
    }
   },
   "outputs": [],
   "source": []
  },
  {
   "cell_type": "code",
   "execution_count": null,
   "id": "025b32da-5a68-4d93-be02-293ea992cba5",
   "metadata": {
    "ExecuteTime": {
     "end_time": "2025-01-29T23:33:45.654849Z",
     "start_time": "2025-01-29T23:33:45.653638Z"
    }
   },
   "outputs": [],
   "source": []
  },
  {
   "cell_type": "markdown",
   "id": "7effa980-ad22-4a70-8430-2eec84dc3406",
   "metadata": {},
   "source": [
    "### Álgebra Lineal"
   ]
  },
  {
   "cell_type": "markdown",
   "id": "ae89175d-30fb-44b4-b2d3-31389db536f4",
   "metadata": {},
   "source": [
    "#### Multiplicación de matrices\n",
    "\n",
    "<center> <img src=\"multiplicacion entre matrices.gif\" width=\"1450\"></center>"
   ]
  },
  {
   "cell_type": "code",
   "execution_count": null,
   "id": "b6a57c90-51de-4514-80b7-d09aee4a7726",
   "metadata": {
    "ExecuteTime": {
     "end_time": "2025-01-29T23:33:45.681191Z",
     "start_time": "2025-01-29T23:33:45.680016Z"
    }
   },
   "outputs": [],
   "source": []
  },
  {
   "cell_type": "code",
   "execution_count": 71,
   "id": "8ee0c16a-a694-4c5c-8243-5a29aaf74ff5",
   "metadata": {
    "ExecuteTime": {
     "end_time": "2025-01-29T23:33:45.869796Z",
     "start_time": "2025-01-29T23:33:45.719076Z"
    }
   },
   "outputs": [
    {
     "ename": "NameError",
     "evalue": "name 'A' is not defined",
     "output_type": "error",
     "traceback": [
      "\u001b[1;31m---------------------------------------------------------------------------\u001b[0m",
      "\u001b[1;31mNameError\u001b[0m                                 Traceback (most recent call last)",
      "Cell \u001b[1;32mIn[71], line 1\u001b[0m\n\u001b[1;32m----> 1\u001b[0m Multiplicacion \u001b[38;5;241m=\u001b[39m np\u001b[38;5;241m.\u001b[39mdot(A,B)\n\u001b[0;32m      2\u001b[0m Multiplicacio\n",
      "\u001b[1;31mNameError\u001b[0m: name 'A' is not defined"
     ]
    }
   ],
   "source": [
    "Multiplicacion = np.dot(A,B)\n",
    "Multiplicacio"
   ]
  },
  {
   "cell_type": "markdown",
   "id": "a5295dad-4819-4283-96f8-7cf2f3792463",
   "metadata": {},
   "source": [
    "#### Transpuesta de una matriz\n",
    "\n",
    "<center> <img src=\"transpuesta.gif\" width=\"450\"></center>"
   ]
  },
  {
   "cell_type": "code",
   "execution_count": null,
   "id": "998616c0-560d-46d4-be4a-b1cd20d2703e",
   "metadata": {},
   "outputs": [],
   "source": [
    "      # Transpuesta "
   ]
  },
  {
   "cell_type": "code",
   "execution_count": null,
   "id": "8a64df20-8afd-45f9-b936-8c6ddc0368a1",
   "metadata": {},
   "outputs": [],
   "source": []
  },
  {
   "cell_type": "code",
   "execution_count": null,
   "id": "22345587-4d37-4141-a9b6-cedc9128ed9a",
   "metadata": {},
   "outputs": [],
   "source": []
  },
  {
   "cell_type": "code",
   "execution_count": null,
   "id": "66213952-12df-4be9-90e5-495bfe64f2e8",
   "metadata": {},
   "outputs": [],
   "source": []
  },
  {
   "cell_type": "markdown",
   "id": "0f3ecf55-2222-483f-8b63-22255e1e6520",
   "metadata": {},
   "source": [
    "#### Determinante de una matriz\n",
    "\n",
    "Para obtener el determinante de una matriz, la matriz debe ser cuadrada. El resultado es un escalar."
   ]
  },
  {
   "cell_type": "code",
   "execution_count": null,
   "id": "5ef09758-1fd1-4327-8fdf-d9587f8b6790",
   "metadata": {},
   "outputs": [],
   "source": []
  },
  {
   "cell_type": "code",
   "execution_count": null,
   "id": "749fd3c8-9d47-4f16-8179-37ffd467c3c3",
   "metadata": {},
   "outputs": [],
   "source": [
    " # No funciona porque la matriz no es cuadrada"
   ]
  },
  {
   "cell_type": "markdown",
   "id": "56390d3a-2d2d-46a8-848d-bbf8f88b1845",
   "metadata": {},
   "source": [
    "#### Inversa de una matriz\n",
    "\n",
    "Para obtener la inversa de una matriz, esta debe ser cuadrada. El resultado es una matriz con las mismas dimensiones."
   ]
  },
  {
   "cell_type": "code",
   "execution_count": null,
   "id": "87fed11f-d6ef-40f3-827f-10f98982607f",
   "metadata": {},
   "outputs": [],
   "source": []
  },
  {
   "cell_type": "code",
   "execution_count": null,
   "id": "29d915e8-c1de-404c-adac-f972fe497adb",
   "metadata": {
    "ExecuteTime": {
     "end_time": "2025-01-29T23:33:45.881018Z",
     "start_time": "2025-01-29T23:33:45.879935Z"
    }
   },
   "outputs": [],
   "source": []
  },
  {
   "cell_type": "markdown",
   "id": "31ed6bce-c642-4a8d-ab31-86c4d1176461",
   "metadata": {},
   "source": [
    "## <font color = darkblue> Indexación y Slicing\n",
    "La indexación y el slicing son dos formas de acceder a elementos en Python, pero se diferencian en que la indexación devuelve un único elemento, mientras que el slicing devuelve una lista de elementos."
   ]
  },
  {
   "cell_type": "markdown",
   "id": "ad6facac-db8f-48f0-946a-d5d187de0844",
   "metadata": {},
   "source": [
    "### Acceso a elementos"
   ]
  },
  {
   "cell_type": "code",
   "execution_count": 82,
   "id": "0b4f82f2-72f8-404d-97ce-fe8053b36e90",
   "metadata": {
    "ExecuteTime": {
     "end_time": "2025-01-29T23:33:45.911058Z",
     "start_time": "2025-01-29T23:33:45.909774Z"
    }
   },
   "outputs": [
    {
     "name": "stdout",
     "output_type": "stream",
     "text": [
      "\u001b[1;34mMatriz\u001b[0m\n",
      "[[ 1  2  3  4]\n",
      " [ 5  6  7  8]\n",
      " [ 9 10 11 12]]\n"
     ]
    }
   ],
   "source": [
    "# Creación de la matriz\n",
    "print(\"\\033[1;34m\" + \"Matriz\" + \"\\033[0m\")\n",
    "\n",
    "matriz = np.array([[1, 2, 3, 4], [5, 6, 7, 8], [9, 10, 11, 12]])\n",
    "print(matriz)"
   ]
  },
  {
   "cell_type": "code",
   "execution_count": 84,
   "id": "c8819640-6689-418a-812d-a2084cf92ab1",
   "metadata": {
    "ExecuteTime": {
     "end_time": "2025-01-29T23:33:46.200482Z",
     "start_time": "2025-01-29T23:33:46.199185Z"
    }
   },
   "outputs": [
    {
     "name": "stdout",
     "output_type": "stream",
     "text": [
      "\u001b[1;34mAcceso a la primera fila\u001b[0m\n",
      "[1 2 3 4]\n"
     ]
    }
   ],
   "source": [
    "# Acceso a la primera fila\n",
    "print(\"\\033[1;34m\" + \"Acceso a la primera fila\" + \"\\033[0m\")\n",
    "\n",
    "fila = matriz[0, :]\n",
    "print(fila)"
   ]
  },
  {
   "cell_type": "code",
   "execution_count": 86,
   "id": "7e59b3eb-da5a-40d7-84be-bbdb8a25dad6",
   "metadata": {
    "ExecuteTime": {
     "end_time": "2025-01-29T23:33:46.378274Z",
     "start_time": "2025-01-29T23:33:46.376900Z"
    }
   },
   "outputs": [
    {
     "name": "stdout",
     "output_type": "stream",
     "text": [
      "\u001b[1;34mAcceso al elemento (1,1)\u001b[0m\n",
      "6\n"
     ]
    }
   ],
   "source": [
    "# Acceso al elemento (1,1)\n",
    "print(\"\\033[1;34m\" + \"Acceso al elemento (1,1)\" + \"\\033[0m\")\n",
    "\n",
    "elemento = matriz[1,1]\n",
    "print(elemento)"
   ]
  },
  {
   "cell_type": "code",
   "execution_count": 88,
   "id": "1833bef0-ddad-4044-93a3-59241b367503",
   "metadata": {
    "ExecuteTime": {
     "end_time": "2025-01-29T23:33:46.410487Z",
     "start_time": "2025-01-29T23:33:46.408996Z"
    }
   },
   "outputs": [
    {
     "name": "stdout",
     "output_type": "stream",
     "text": [
      "\u001b[1;34mAcceso al elemento (2,2)\u001b[0m\n",
      "11\n"
     ]
    }
   ],
   "source": [
    "# Acceso al elemento (2,2)\n",
    "print(\"\\033[1;34m\" + \"Acceso al elemento (2,2)\" + \"\\033[0m\")\n",
    "\n",
    "elemento = matriz[2,2]\n",
    "print(elemento)"
   ]
  },
  {
   "cell_type": "code",
   "execution_count": 90,
   "id": "04bbd008-b36a-4915-8953-787163a53ac8",
   "metadata": {
    "ExecuteTime": {
     "end_time": "2025-01-29T23:33:46.448170Z",
     "start_time": "2025-01-29T23:33:46.446737Z"
    }
   },
   "outputs": [
    {
     "name": "stdout",
     "output_type": "stream",
     "text": [
      "\u001b[1;34mAcceso al elemento (2,3)\u001b[0m\n",
      "12\n"
     ]
    }
   ],
   "source": [
    "# Acceso al elemento (2,3)\n",
    "print(\"\\033[1;34m\" + \"Acceso al elemento (2,3)\" + \"\\033[0m\")\n",
    "\n",
    "elemento = matriz[2,3]\n",
    "print(elemento)"
   ]
  },
  {
   "cell_type": "code",
   "execution_count": 92,
   "id": "1ca211ca-2044-46a9-80b4-23ed93aa8964",
   "metadata": {},
   "outputs": [
    {
     "name": "stdout",
     "output_type": "stream",
     "text": [
      "\u001b[1;34mSlicing\u001b[0m\n",
      "\n",
      "\u001b[1;35mArreglo\u001b[0m\n",
      " [ 0  1  2  3  4  5  6  7  8  9 10 11 12 13 14 15 16 17 18 19 20] \n",
      "\n",
      "\u001b[1;35mPrimer elemento\u001b[0m\n",
      " 0\n",
      "\u001b[1;35mElementos del 2 al 5\u001b[0m\n",
      " [2 3 4 5]\n",
      "\u001b[1;35mElementos del 10 al 16\u001b[0m\n",
      " [10 11 12 13 14 15]\n",
      "\u001b[1;35mÚltimo elemento\u001b[0m\n",
      " 20\n",
      "\u001b[1;35mElementos del 10 al último\u001b[0m\n",
      " [10 11 12 13 14 15 16 17 18 19 20]\n",
      "\u001b[1;35mElementos del 0 al límite\u001b[0m\n",
      " [0 1 2 3 4]\n"
     ]
    }
   ],
   "source": [
    "# Slicing\n",
    "print(\"\\033[1;34m\" + \"Slicing\" + \"\\033[0m\\n\")\n",
    "\n",
    "arreglo = np.arange(0, 21)\n",
    "print(\"\\033[1;35m\" + \"Arreglo\" + \"\\033[0m\\n\", arreglo, \"\\n\")\n",
    "print(\"\\033[1;35m\" + \"Primer elemento\" + \"\\033[0m\\n\", arreglo[0])\n",
    "print(\"\\033[1;35m\" + \"Elementos del 2 al 5\" + \"\\033[0m\\n\", arreglo[2:6])\n",
    "print(\"\\033[1;35m\" + \"Elementos del 10 al 16\" + \"\\033[0m\\n\", arreglo[10:16])\n",
    "print(\"\\033[1;35m\" + \"Último elemento\" + \"\\033[0m\\n\", arreglo[-1])\n",
    "print(\"\\033[1;35m\" + \"Elementos del 10 al último\" + \"\\033[0m\\n\", arreglo[10:])\n",
    "print(\"\\033[1;35m\" + \"Elementos del 0 al límite\" + \"\\033[0m\\n\", arreglo[:5])"
   ]
  },
  {
   "cell_type": "markdown",
   "id": "f075f408-3e66-4e4c-99a3-75618ac0b0f4",
   "metadata": {},
   "source": [
    "### Indexación avanzada"
   ]
  },
  {
   "cell_type": "code",
   "execution_count": 94,
   "id": "c8019d78-8bf3-4af0-b20e-67ed504779b8",
   "metadata": {
    "ExecuteTime": {
     "end_time": "2025-01-29T23:33:46.474478Z",
     "start_time": "2025-01-29T23:33:46.473114Z"
    }
   },
   "outputs": [
    {
     "name": "stdout",
     "output_type": "stream",
     "text": [
      "\u001b[1;34mAcceso a la primera fila\u001b[0m\n",
      "[1 2 3 4]\n"
     ]
    }
   ],
   "source": [
    "# Acceso a la primera fila\n",
    "print(\"\\033[1;34m\" + \"Acceso a la primera fila\" + \"\\033[0m\")\n",
    "\n",
    "print(matriz[0])"
   ]
  },
  {
   "cell_type": "code",
   "execution_count": 98,
   "id": "bb3c1d49-dcfa-45eb-89cb-026fc377c58b",
   "metadata": {
    "ExecuteTime": {
     "end_time": "2025-01-29T23:33:46.516945Z",
     "start_time": "2025-01-29T23:33:46.515611Z"
    }
   },
   "outputs": [
    {
     "name": "stdout",
     "output_type": "stream",
     "text": [
      "\u001b[1;34mAcceso a la segunda columna\u001b[0m\n",
      "[ 2  6 10]\n"
     ]
    }
   ],
   "source": [
    "# Acceso a la segunda columna\n",
    "print(\"\\033[1;34m\" + \"Acceso a la segunda columna\" + \"\\033[0m\")\n",
    "\n",
    "print(matriz[:, 1])"
   ]
  },
  {
   "cell_type": "code",
   "execution_count": 100,
   "id": "8c481e86-2170-4b96-857f-8bcedf86017e",
   "metadata": {},
   "outputs": [
    {
     "name": "stdout",
     "output_type": "stream",
     "text": [
      "\u001b[1;34mAcceso a los elementos de la tercer columna, exceptuando el primero\u001b[0m\n",
      "[ 7 11]\n"
     ]
    }
   ],
   "source": [
    "# Acceso a los elementos de la tercer columna, exceptuando el primero\n",
    "print(\"\\033[1;34m\" + \"Acceso a los elementos de la tercer columna, exceptuando el primero\" + \"\\033[0m\")\n",
    "\n",
    "# matriz[elementos, columna]\n",
    "print(matriz[1:, 2])"
   ]
  },
  {
   "cell_type": "code",
   "execution_count": 102,
   "id": "382d72f6-fb3a-49bb-9f0f-017571fc9d88",
   "metadata": {},
   "outputs": [
    {
     "name": "stdout",
     "output_type": "stream",
     "text": [
      "\u001b[1;34mAcceso a la tercer columna\u001b[0m\n",
      "[ 3  7 11]\n"
     ]
    }
   ],
   "source": [
    "# Acceso a la tercer columna\n",
    "print(\"\\033[1;34m\" + \"Acceso a la tercer columna\" + \"\\033[0m\")\n",
    "\n",
    "print(matriz[:, 2])"
   ]
  },
  {
   "cell_type": "code",
   "execution_count": 104,
   "id": "dd208a35-a87f-45ec-9fcb-078f7c71572a",
   "metadata": {},
   "outputs": [
    {
     "name": "stdout",
     "output_type": "stream",
     "text": [
      "\u001b[1;34mAcceso a los elementos del tercer renglón, exceptuando el último\u001b[0m\n",
      "[ 9 10 11]\n"
     ]
    }
   ],
   "source": [
    "# Acceso a los elementos del tercer renglón, exceptuando el último\n",
    "print(\"\\033[1;34m\" + \"Acceso a los elementos del tercer renglón, exceptuando el último\" + \"\\033[0m\")\n",
    "\n",
    "# matriz[renglón, elementos]\n",
    "print(matriz[2, :3])"
   ]
  },
  {
   "cell_type": "markdown",
   "id": "54742fe6-d0df-4bd0-bf36-d4698ed29d9e",
   "metadata": {},
   "source": [
    "### Modificación de valores"
   ]
  },
  {
   "cell_type": "code",
   "execution_count": 106,
   "id": "17aba4ce-c619-4e59-a1f2-024be082afff",
   "metadata": {
    "ExecuteTime": {
     "end_time": "2025-01-29T23:33:46.547130Z",
     "start_time": "2025-01-29T23:33:46.545811Z"
    }
   },
   "outputs": [
    {
     "name": "stdout",
     "output_type": "stream",
     "text": [
      "\u001b[1;34mModificar el valor (0,0)\u001b[0m\n",
      "[[-1  2  3  4]\n",
      " [ 5  6  7  8]\n",
      " [ 9 10 11 12]]\n"
     ]
    }
   ],
   "source": [
    "# Modificar el valor (0,0)\n",
    "print(\"\\033[1;34m\" + \"Modificar el valor (0,0)\" + \"\\033[0m\")\n",
    "\n",
    "matriz[0,0] = -1\n",
    "print(matriz)"
   ]
  },
  {
   "cell_type": "code",
   "execution_count": 108,
   "id": "62458887-0007-4208-95e3-56aa6f088341",
   "metadata": {
    "ExecuteTime": {
     "end_time": "2025-01-29T23:33:46.588706Z",
     "start_time": "2025-01-29T23:33:46.587389Z"
    }
   },
   "outputs": [
    {
     "name": "stdout",
     "output_type": "stream",
     "text": [
      "\u001b[1;34mModificar la primera fila\u001b[0m\n",
      "[[-1 -1 -1 -1]\n",
      " [ 5  6  7  8]\n",
      " [ 9 10 11 12]]\n"
     ]
    }
   ],
   "source": [
    "# Modificar la primera fila\n",
    "print(\"\\033[1;34m\" + \"Modificar la primera fila\" + \"\\033[0m\")\n",
    "\n",
    "matriz[0] = [-1, -1, -1, -1]\n",
    "print(matriz)"
   ]
  },
  {
   "cell_type": "code",
   "execution_count": 110,
   "id": "1fe041bf-6c26-4a08-b0a3-fc68cda46a7b",
   "metadata": {},
   "outputs": [
    {
     "name": "stdout",
     "output_type": "stream",
     "text": [
      "\u001b[1;34mModificar los elementos 6 y 7\u001b[0m\n",
      "[[-1 -1 -1 -1]\n",
      " [ 5 -1 -1  8]\n",
      " [ 9 10 11 12]]\n"
     ]
    }
   ],
   "source": [
    "# Modificar los elementos 6 y 7\n",
    "print(\"\\033[1;34m\" + \"Modificar los elementos 6 y 7\" + \"\\033[0m\")\n",
    "\n",
    "matriz[1, 1:3] = -1\n",
    "print(matriz)"
   ]
  },
  {
   "cell_type": "markdown",
   "id": "778439eb-e463-49b5-b3f0-89d53a9000d8",
   "metadata": {},
   "source": [
    "## <font color = darkblue> Manipulación de arrays\n",
    "\n",
    "Con las funciones que se verán a continuación se permite el manejo de las matrices para obtener una estructura distinta del arreglo."
   ]
  },
  {
   "cell_type": "markdown",
   "id": "7e253b06-7e9a-42a1-96e1-a1c665ad1d42",
   "metadata": {},
   "source": [
    "#### Cambiar la forma del array"
   ]
  },
  {
   "cell_type": "code",
   "execution_count": 112,
   "id": "484b1c0e-8a76-41c8-96ff-7fb3567029b9",
   "metadata": {
    "ExecuteTime": {
     "end_time": "2025-01-29T23:33:46.624940Z",
     "start_time": "2025-01-29T23:33:46.623640Z"
    }
   },
   "outputs": [
    {
     "name": "stdout",
     "output_type": "stream",
     "text": [
      "\u001b[1;34mUsando el método reshape()\u001b[0m\n",
      "\n",
      "\u001b[1;35mMatriz de 2x3\u001b[0m\n",
      "[[1 2 3]\n",
      " [4 5 6]] \n",
      "\n",
      "\u001b[1;35mMatriz de 3x2\u001b[0m\n",
      "[[1 2]\n",
      " [3 4]\n",
      " [5 6]]\n"
     ]
    }
   ],
   "source": [
    "# Cambiar la matriz de 2x3 a 3x2 usando reshape\n",
    "print(\"\\033[1;34m\" + \"Usando el método reshape()\" + \"\\033[0m\\n\")\n",
    "\n",
    "matriz = np.array([[1,2,3], [4,5,6]])\n",
    "\n",
    "print(\"\\033[1;35m\" + \"Matriz de 2x3\" + \"\\033[0m\")\n",
    "print(matriz, \"\\n\")\n",
    "print(\"\\033[1;35m\" + \"Matriz de 3x2\" + \"\\033[0m\")\n",
    "print(matriz.reshape(3,2))"
   ]
  },
  {
   "cell_type": "code",
   "execution_count": 114,
   "id": "3696f323-42b2-4875-83b1-6581226a6c2b",
   "metadata": {
    "ExecuteTime": {
     "end_time": "2025-01-29T23:33:46.668455Z",
     "start_time": "2025-01-29T23:33:46.667261Z"
    }
   },
   "outputs": [
    {
     "name": "stdout",
     "output_type": "stream",
     "text": [
      "\u001b[1;35mMatriz de 3x3\u001b[0m\n",
      "[[0 0 0]\n",
      " [0 0 0]\n",
      " [0 0 0]] \n",
      "\n",
      "\u001b[1;35mArreglo de 9 elementos\u001b[0m\n",
      "[0 0 0 0 0 0 0 0 0]\n"
     ]
    }
   ],
   "source": [
    "# Cambiar la matriz de 3x3 de 0s a un arreglo de 9 elementos\n",
    "matriz = np.zeros((3,3), dtype = int)\n",
    "arreglo = matriz.reshape((9))\n",
    "\n",
    "print(\"\\033[1;35m\" + \"Matriz de 3x3\" + \"\\033[0m\")\n",
    "print(matriz, \"\\n\")\n",
    "print(\"\\033[1;35m\" + \"Arreglo de 9 elementos\" + \"\\033[0m\")\n",
    "print(arreglo)"
   ]
  },
  {
   "cell_type": "code",
   "execution_count": 116,
   "id": "c37e906c-a358-4e22-b510-12aec28fe540",
   "metadata": {
    "ExecuteTime": {
     "end_time": "2025-01-29T23:33:46.692173Z",
     "start_time": "2025-01-29T23:33:46.690873Z"
    }
   },
   "outputs": [
    {
     "name": "stdout",
     "output_type": "stream",
     "text": [
      "\u001b[1;34mDebe coincidir la cantidad de elementos\u001b[0m\n",
      "\n",
      "\u001b[1;35mRenglones\u001b[0m\n",
      "[[0]\n",
      " [0]\n",
      " [0]\n",
      " [0]\n",
      " [0]\n",
      " [0]\n",
      " [0]\n",
      " [0]\n",
      " [0]] \n",
      "\n",
      "\u001b[1;35mColumnas\u001b[0m\n",
      "[[0 0 0 0 0 0 0 0 0]]\n"
     ]
    }
   ],
   "source": [
    "# Debe coincidir la cantidad de elementos\n",
    "print(\"\\033[1;34m\" + \"Debe coincidir la cantidad de elementos\" + \"\\033[0m\\n\")\n",
    "\n",
    "matrizr = matriz.reshape((9,1))\n",
    "matrizc = matriz.reshape((1,9))\n",
    "\n",
    "print(\"\\033[1;35m\" + \"Renglones\" + \"\\033[0m\")\n",
    "print(matrizr, \"\\n\")\n",
    "print(\"\\033[1;35m\" + \"Columnas\" + \"\\033[0m\")\n",
    "print(matrizc)"
   ]
  },
  {
   "cell_type": "markdown",
   "id": "1ef4b0a1-1d35-4b01-a383-409d652a8570",
   "metadata": {},
   "source": [
    "#### Concatenación "
   ]
  },
  {
   "cell_type": "code",
   "execution_count": 120,
   "id": "9d148e3d-ea92-4447-aa3e-70281e12b1e3",
   "metadata": {
    "ExecuteTime": {
     "end_time": "2025-01-29T23:33:46.727358Z",
     "start_time": "2025-01-29T23:33:46.726084Z"
    }
   },
   "outputs": [
    {
     "name": "stdout",
     "output_type": "stream",
     "text": [
      "\u001b[1;34mVectores con mismo tipo de dato\u001b[0m\n",
      "\n",
      "\u001b[1;35mArreglo 1\u001b[0m\n",
      "[1 2 3]\n",
      "\u001b[1;35mArreglo 2\u001b[0m\n",
      "[4 5 6] \n",
      "\n",
      "\u001b[1;35mArreglo Concatenado\u001b[0m\n",
      "[1 2 3 4 5 6]\n"
     ]
    }
   ],
   "source": [
    "print(\"\\033[1;34m\" + \"Vectores con mismo tipo de dato\" + \"\\033[0m\\n\")\n",
    "arr1 = np.array([1,2,3])\n",
    "arr2 = np.array([4,5,6])\n",
    "arr_conc = np.concatenate((arr1, arr2))\n",
    "\n",
    "print(\"\\033[1;35m\" + \"Arreglo 1\" + \"\\033[0m\")\n",
    "print(arr1)\n",
    "print(\"\\033[1;35m\" + \"Arreglo 2\" + \"\\033[0m\")\n",
    "print(arr2, \"\\n\")\n",
    "print(\"\\033[1;35m\" + \"Arreglo Concatenado\" + \"\\033[0m\")\n",
    "print(arr_conc)"
   ]
  },
  {
   "cell_type": "code",
   "execution_count": 122,
   "id": "7e1c94dd-a7f4-4ad8-8bb2-9b60c7dad594",
   "metadata": {
    "ExecuteTime": {
     "end_time": "2025-01-29T23:33:46.752401Z",
     "start_time": "2025-01-29T23:33:46.751151Z"
    }
   },
   "outputs": [
    {
     "name": "stdout",
     "output_type": "stream",
     "text": [
      "\u001b[1;34mVectores con distinto tipo de dato\u001b[0m\n",
      "\n",
      "\u001b[1;35mVector 1\u001b[0m\n",
      "[10 12 14 16 18]\n",
      "\u001b[1;35mVector 2\u001b[0m\n",
      "[10.         11.42857143 12.85714286 14.28571429 15.71428571 17.14285714\n",
      " 18.57142857 20.        ] \n",
      "\n",
      "\u001b[1;35mVector Concatenado\u001b[0m\n",
      "[10.         12.         14.         16.         18.         10.\n",
      " 11.42857143 12.85714286 14.28571429 15.71428571 17.14285714 18.57142857\n",
      " 20.        ]\n"
     ]
    }
   ],
   "source": [
    "# Los vectores se concatenan en fila\n",
    "print(\"\\033[1;34m\" + \"Vectores con distinto tipo de dato\" + \"\\033[0m\\n\")\n",
    "\n",
    "# Generar un vector de 5 elementos\n",
    "v1 = np.arange(10, 20, 2)\n",
    "# Generar un vector de 8 elementos\n",
    "v2 = np.linspace(10, 20, 8)\n",
    "v3 = np.concatenate((v1, v2))\n",
    "\n",
    "print(\"\\033[1;35m\" + \"Vector 1\" + \"\\033[0m\")\n",
    "print(v1)\n",
    "print(\"\\033[1;35m\" + \"Vector 2\" + \"\\033[0m\")\n",
    "print(v2, \"\\n\")\n",
    "print(\"\\033[1;35m\" + \"Vector Concatenado\" + \"\\033[0m\")\n",
    "print(v3)"
   ]
  },
  {
   "cell_type": "code",
   "execution_count": 124,
   "id": "727faa9e-2432-4231-8bd0-1d5a72fc9cae",
   "metadata": {
    "ExecuteTime": {
     "end_time": "2025-01-29T23:33:46.794140Z",
     "start_time": "2025-01-29T23:33:46.792790Z"
    }
   },
   "outputs": [
    {
     "name": "stdout",
     "output_type": "stream",
     "text": [
      "\u001b[1;34mMatrices con misma cantidad de columnas\u001b[0m\n",
      "\n",
      "\u001b[1;35mMatriz 1\u001b[0m\n",
      "[[0. 0. 0.]\n",
      " [0. 0. 0.]] \n",
      "\n",
      "\u001b[1;35mMatriz 2\u001b[0m\n",
      "[[1. 1. 1.]\n",
      " [1. 1. 1.]\n",
      " [1. 1. 1.]]\n"
     ]
    }
   ],
   "source": [
    "# Las matrices con la misma cantidad de columnas\n",
    "print(\"\\033[1;34m\" + \"Matrices con misma cantidad de columnas\" + \"\\033[0m\\n\")\n",
    "\n",
    "m1 = np.zeros((2,3))\n",
    "m2 = np.ones((3,3))\n",
    "\n",
    "print(\"\\033[1;35m\" + \"Matriz 1\" + \"\\033[0m\")\n",
    "print(m1, \"\\n\")\n",
    "print(\"\\033[1;35m\" + \"Matriz 2\" + \"\\033[0m\")\n",
    "print(m2)"
   ]
  },
  {
   "cell_type": "code",
   "execution_count": 126,
   "id": "250473b3-7f97-445f-bc4f-66be4060241c",
   "metadata": {
    "ExecuteTime": {
     "end_time": "2025-01-29T23:33:46.820214Z",
     "start_time": "2025-01-29T23:33:46.818895Z"
    }
   },
   "outputs": [
    {
     "name": "stdout",
     "output_type": "stream",
     "text": [
      "\u001b[1;35mMatriz Concatenada\u001b[0m\n",
      "[[0. 0. 0.]\n",
      " [0. 0. 0.]\n",
      " [1. 1. 1.]\n",
      " [1. 1. 1.]\n",
      " [1. 1. 1.]]\n"
     ]
    }
   ],
   "source": [
    "# Concatenar por columna\n",
    "print(\"\\033[1;35m\" + \"Matriz Concatenada\" + \"\\033[0m\")\n",
    "\n",
    "m3 = np.concatenate((m1,m2), axis = 0)\n",
    "print(m3)"
   ]
  },
  {
   "cell_type": "code",
   "execution_count": 128,
   "id": "ab951b56-2a23-4584-8b24-2c2b31026643",
   "metadata": {
    "ExecuteTime": {
     "end_time": "2025-01-29T23:33:46.854901Z",
     "start_time": "2025-01-29T23:33:46.853638Z"
    }
   },
   "outputs": [
    {
     "name": "stdout",
     "output_type": "stream",
     "text": [
      "\u001b[1;34mMatrices con misma cantidad de filas\u001b[0m\n",
      "\n",
      "\u001b[1;35mMatriz 1\u001b[0m\n",
      "[[0. 0.]\n",
      " [0. 0.]\n",
      " [0. 0.]] \n",
      "\n",
      "\u001b[1;35mMatriz 2\u001b[0m\n",
      "[[1. 1. 1. 1.]\n",
      " [1. 1. 1. 1.]\n",
      " [1. 1. 1. 1.]]\n"
     ]
    }
   ],
   "source": [
    "# Las matrices con mismo número de filas\n",
    "print(\"\\033[1;34m\" + \"Matrices con misma cantidad de filas\" + \"\\033[0m\\n\")\n",
    "\n",
    "m1 = np.zeros((3,2))\n",
    "m2 = np.ones((3,4))\n",
    "\n",
    "print(\"\\033[1;35m\" + \"Matriz 1\" + \"\\033[0m\")\n",
    "print(m1, \"\\n\")\n",
    "print(\"\\033[1;35m\" + \"Matriz 2\" + \"\\033[0m\")\n",
    "print(m2)"
   ]
  },
  {
   "cell_type": "code",
   "execution_count": 130,
   "id": "9d29477a-1ade-4a32-b816-40109bee9bba",
   "metadata": {
    "ExecuteTime": {
     "end_time": "2025-01-29T23:33:46.880946Z",
     "start_time": "2025-01-29T23:33:46.879615Z"
    }
   },
   "outputs": [
    {
     "name": "stdout",
     "output_type": "stream",
     "text": [
      "\u001b[1;35mMatriz Concatenada\u001b[0m\n",
      "[[1. 1. 1. 1. 0. 0.]\n",
      " [1. 1. 1. 1. 0. 0.]\n",
      " [1. 1. 1. 1. 0. 0.]]\n"
     ]
    }
   ],
   "source": [
    "# Concatenar por fila\n",
    "print(\"\\033[1;35m\" + \"Matriz Concatenada\" + \"\\033[0m\")\n",
    "\n",
    "m3 = np.concatenate((m2,m1), axis = 1)\n",
    "print(m3)"
   ]
  },
  {
   "cell_type": "markdown",
   "id": "47ce2d55-e376-4ec9-badf-265dd9861cd3",
   "metadata": {},
   "source": [
    "#### Separar arreglos"
   ]
  },
  {
   "cell_type": "code",
   "execution_count": 132,
   "id": "6a8a087e-69ec-45d6-9e94-d4276812b990",
   "metadata": {
    "ExecuteTime": {
     "end_time": "2025-01-29T23:33:46.916131Z",
     "start_time": "2025-01-29T23:33:46.915072Z"
    }
   },
   "outputs": [
    {
     "name": "stdout",
     "output_type": "stream",
     "text": [
      "\u001b[1;34mUsando el método split()\u001b[0m\n",
      "\n",
      "\u001b[1;35mCadena Original\u001b[0m\n",
      "yurianamontserrath2003@gmail.com \n",
      "\n",
      "\u001b[1;35mCadena Dividida por @\u001b[0m\n",
      "['yurianamontserrath2003', 'gmail.com']\n"
     ]
    }
   ],
   "source": [
    "print(\"\\033[1;34m\" + \"Usando el método split()\" + \"\\033[0m\\n\")\n",
    "\n",
    "cadena = 'yurianamontserrath2003@gmail.com'\n",
    "cadena2 = cadena.split('@')\n",
    "\n",
    "print(\"\\033[1;35m\" + \"Cadena Original\" + \"\\033[0m\")\n",
    "print(cadena, \"\\n\")\n",
    "print(\"\\033[1;35m\" + \"Cadena Dividida por @\" + \"\\033[0m\")\n",
    "print(cadena2)"
   ]
  },
  {
   "cell_type": "code",
   "execution_count": 134,
   "id": "92ea3fc1-8121-4c8a-9d23-8816eecc59a0",
   "metadata": {
    "ExecuteTime": {
     "end_time": "2025-01-29T23:33:46.944400Z",
     "start_time": "2025-01-29T23:33:46.943094Z"
    }
   },
   "outputs": [
    {
     "name": "stdout",
     "output_type": "stream",
     "text": [
      "\u001b[1;35mArreglo Original\u001b[0m\n",
      "[1 2 3 4 5 6 7] \n",
      "\n",
      "\u001b[1;35mArreglo Dividido en 2 partes\u001b[0m\n",
      "[array([1, 2, 3, 4]), array([5, 6, 7])]\n"
     ]
    }
   ],
   "source": [
    "# Dividir en 3 partes \n",
    "arr = np.array([1,2,3,4,5,6,7])\n",
    "split = np.array_split(arr, 2)\n",
    "\n",
    "print(\"\\033[1;35m\" + \"Arreglo Original\" + \"\\033[0m\")\n",
    "print(arr, \"\\n\")\n",
    "print(\"\\033[1;35m\" + \"Arreglo Dividido en 2 partes\" + \"\\033[0m\")\n",
    "print(split)"
   ]
  },
  {
   "cell_type": "code",
   "execution_count": 136,
   "id": "db15e60a-4cfa-4e05-80b1-d68966e3136e",
   "metadata": {
    "ExecuteTime": {
     "end_time": "2025-01-29T23:33:46.985437Z",
     "start_time": "2025-01-29T23:33:46.984088Z"
    }
   },
   "outputs": [
    {
     "name": "stdout",
     "output_type": "stream",
     "text": [
      "\u001b[1;34mAcceder a un elemento de uno de los arreglos divididos\u001b[0m\n"
     ]
    },
    {
     "data": {
      "text/plain": [
       "5"
      ]
     },
     "execution_count": 136,
     "metadata": {},
     "output_type": "execute_result"
    }
   ],
   "source": [
    "# Acceder a un elemento de uno de los arreglos separados\n",
    "print(\"\\033[1;34m\" + \"Acceder a un elemento de uno de los arreglos divididos\" + \"\\033[0m\")\n",
    "\n",
    "# split[subarreglo][elemento]\n",
    "split[1][0]"
   ]
  },
  {
   "cell_type": "code",
   "execution_count": 304,
   "id": "960a033e-e7b0-4c3c-bdc8-e12ea58a87ec",
   "metadata": {
    "ExecuteTime": {
     "end_time": "2025-01-29T23:33:47.008929Z",
     "start_time": "2025-01-29T23:33:47.007597Z"
    }
   },
   "outputs": [
    {
     "name": "stdout",
     "output_type": "stream",
     "text": [
      "\u001b[1;34mMatriz\u001b[0m\n",
      "[[1 2 3]\n",
      " [4 5 6]\n",
      " [7 8 9]]\n"
     ]
    }
   ],
   "source": [
    "print(\"\\033[1;34m\" + \"Matriz\" + \"\\033[0m\")\n",
    "\n",
    "matriz = np.array([[1,2,3], [4,5,6], [7,8,9]])\n",
    "print(matriz)"
   ]
  },
  {
   "cell_type": "code",
   "execution_count": 306,
   "id": "ecb92113-8a3b-4265-ae7e-942720ca7021",
   "metadata": {
    "ExecuteTime": {
     "end_time": "2025-01-29T23:33:47.045846Z",
     "start_time": "2025-01-29T23:33:47.044577Z"
    }
   },
   "outputs": [
    {
     "name": "stdout",
     "output_type": "stream",
     "text": [
      "\u001b[1;34mDividir por Filas\u001b[0m\n",
      "\n",
      "\u001b[1;35mMatriz Dividida\u001b[0m\n",
      "[array([[1, 2, 3]]), array([[4, 5, 6]]), array([[7, 8, 9]])] \n",
      "\n",
      "\u001b[1;35mAcceso a un elemento de una submatriz\u001b[0m\n",
      "5\n",
      "\u001b[1;35mSegundo elemento de cada submatriz\u001b[0m\n",
      "2\n",
      "5\n",
      "8\n"
     ]
    }
   ],
   "source": [
    "# Dividir por filas\n",
    "print(\"\\033[1;34m\" + \"Dividir por Filas\" + \"\\033[0m\\n\")\n",
    "\n",
    "split = np.array_split(matriz, 3)\n",
    "\n",
    "print(\"\\033[1;35m\" + \"Matriz Dividida\" + \"\\033[0m\")\n",
    "print(split, \"\\n\")\n",
    "\n",
    "print(\"\\033[1;35m\" + \"Acceso a un elemento de una submatriz\" + \"\\033[0m\")\n",
    "# [1] -> obtiene la segunda submatriz\n",
    "# [0,1] -> fila y columna\n",
    "print(split[1][0, 1])\n",
    "\n",
    "print(\"\\033[1;35m\" + \"Segundo elemento de cada submatriz\" + \"\\033[0m\")\n",
    "# a corresponde a la submatriz completa [1,2,3] y los elementos entre [] los números a los que queremos acceder\n",
    "for a in split:\n",
    "    print(a[0,1])"
   ]
  },
  {
   "cell_type": "code",
   "execution_count": 314,
   "id": "5e09045b-02e1-452e-9147-731b5c4f0000",
   "metadata": {
    "ExecuteTime": {
     "end_time": "2025-01-29T23:33:47.071822Z",
     "start_time": "2025-01-29T23:33:47.070528Z"
    }
   },
   "outputs": [
    {
     "name": "stdout",
     "output_type": "stream",
     "text": [
      "\u001b[1;34mDividir por Columnas\u001b[0m\n",
      "\n",
      "\u001b[1;35mMatriz\u001b[0m\n",
      "[[1 2 3]\n",
      " [4 5 6]] \n",
      "\n",
      "\u001b[1;35mMatriz Dividida\u001b[0m\n",
      "[array([[1, 4]]), array([[2, 5]]), array([[3, 6]])] \n",
      "\n",
      "\u001b[1;35mElementos de la matriz dividida\u001b[0m\n",
      "[[1 4]]\n",
      "[[2 5]]\n",
      "[[3 6]]\n"
     ]
    }
   ],
   "source": [
    "# Dividir por columnas\n",
    "print(\"\\033[1;34m\" + \"Dividir por Columnas\" + \"\\033[0m\\n\")\n",
    "\n",
    "matriz = np.array([[1,2,3], [4,5,6]])\n",
    "print(\"\\033[1;35m\" + \"Matriz\" + \"\\033[0m\")\n",
    "print(matriz, \"\\n\")\n",
    "\n",
    "#matriz_transpuesta = matriz.T\n",
    "#print(matriz_transpuesta)\n",
    "\n",
    "split = np.array_split(matriz.T, 3)\n",
    "print(\"\\033[1;35m\" + \"Matriz Dividida\" + \"\\033[0m\")\n",
    "print(split, \"\\n\")\n",
    "\n",
    "print(\"\\033[1;35m\" + \"Elementos de la matriz dividida\" + \"\\033[0m\")\n",
    "for a in split:\n",
    "    print(a)"
   ]
  },
  {
   "cell_type": "markdown",
   "id": "1f58bebf-a84c-4f92-a1b9-45d81bd2445a",
   "metadata": {},
   "source": [
    "#### Aplanar un array"
   ]
  },
  {
   "cell_type": "code",
   "execution_count": 144,
   "id": "6a9de724-b2ad-494b-acba-5cea5928c43f",
   "metadata": {
    "ExecuteTime": {
     "end_time": "2025-01-29T23:33:47.115085Z",
     "start_time": "2025-01-29T23:33:47.113892Z"
    }
   },
   "outputs": [
    {
     "name": "stdout",
     "output_type": "stream",
     "text": [
      "\u001b[1;35mArreglo\u001b[0m\n",
      "[[1 1 1 1 1]\n",
      " [1 1 1 1 1]\n",
      " [1 1 1 1 1]\n",
      " [1 1 1 1 1]\n",
      " [1 1 1 1 1]\n",
      " [1 1 1 1 1]\n",
      " [1 1 1 1 1]\n",
      " [1 1 1 1 1]\n",
      " [1 1 1 1 1]\n",
      " [1 1 1 1 1]]\n"
     ]
    }
   ],
   "source": [
    "print(\"\\033[1;35m\" + \"Arreglo\" + \"\\033[0m\")\n",
    "\n",
    "arr_unos = np.ones((10,5), dtype = int)\n",
    "print(arr_unos)"
   ]
  },
  {
   "cell_type": "code",
   "execution_count": 146,
   "id": "1f9a160e-bd43-4e65-8967-5bca6bc1d569",
   "metadata": {
    "ExecuteTime": {
     "end_time": "2025-01-29T23:33:47.139748Z",
     "start_time": "2025-01-29T23:33:47.138573Z"
    }
   },
   "outputs": [
    {
     "name": "stdout",
     "output_type": "stream",
     "text": [
      "\u001b[1;34mUsando el método ravel()\u001b[0m\n",
      "[1 1 1 1 1 1 1 1 1 1 1 1 1 1 1 1 1 1 1 1 1 1 1 1 1 1 1 1 1 1 1 1 1 1 1 1 1\n",
      " 1 1 1 1 1 1 1 1 1 1 1 1 1] \n",
      "\n",
      "\u001b[1;34mUsando el método flatten()\u001b[0m\n",
      "[1 1 1 1 1 1 1 1 1 1 1 1 1 1 1 1 1 1 1 1 1 1 1 1 1 1 1 1 1 1 1 1 1 1 1 1 1\n",
      " 1 1 1 1 1 1 1 1 1 1 1 1 1]\n"
     ]
    }
   ],
   "source": [
    "# Aplanar el arreglo\n",
    "print(\"\\033[1;34m\" + \"Usando el método ravel()\" + \"\\033[0m\")\n",
    "arr_aplanado = arr_unos.ravel()\n",
    "print(arr_aplanado, \"\\n\")\n",
    "\n",
    "print(\"\\033[1;34m\" + \"Usando el método flatten()\" + \"\\033[0m\")\n",
    "arr_aplanado2 = arr_unos.flatten()\n",
    "print(arr_aplanado2)"
   ]
  },
  {
   "cell_type": "markdown",
   "id": "9c67c6f5-ab39-4990-b5f1-2fcbb442f547",
   "metadata": {},
   "source": [
    "## <font color = darkblue> Generación de números aleatorios\n",
    "\n",
    "NumPy utiliza como base el generador de números pseudoaleatorios PCG64 (Permuted Congruential Generator) desde la versión 1.17.0. Este generador reemplazó al previamente usado Mersenne Twister como el generador predeterminado."
   ]
  },
  {
   "cell_type": "markdown",
   "id": "9b71c369-39ee-4078-a02b-16bc912412cb",
   "metadata": {},
   "source": [
    "### Números aleatorios entre 0 y 1"
   ]
  },
  {
   "cell_type": "code",
   "execution_count": 250,
   "id": "7f12aa4a-c3af-4265-b410-5695eb579eaa",
   "metadata": {
    "ExecuteTime": {
     "end_time": "2025-01-29T23:33:47.183193Z",
     "start_time": "2025-01-29T23:33:47.181869Z"
    }
   },
   "outputs": [
    {
     "name": "stdout",
     "output_type": "stream",
     "text": [
      "\u001b[1;34mUsando el método random.rand()\u001b[0m\n",
      "[[0.83244264 0.21233911 0.18182497 0.18340451]\n",
      " [0.30424224 0.52475643 0.43194502 0.29122914]\n",
      " [0.61185289 0.13949386 0.29214465 0.36636184]]\n"
     ]
    }
   ],
   "source": [
    "# Matriz 3x4 con valores aleatorios entre 0 y 1\n",
    "print(\"\\033[1;34m\" + \"Usando el método random.rand()\" + \"\\033[0m\")\n",
    "\n",
    "matriz_random = np.random.rand(3,4)\n",
    "print(matriz_random)"
   ]
  },
  {
   "cell_type": "code",
   "execution_count": 254,
   "id": "7205b2e1-fc55-4c27-aadd-1eb1d89b413f",
   "metadata": {
    "ExecuteTime": {
     "end_time": "2025-01-29T23:33:47.208455Z",
     "start_time": "2025-01-29T23:33:47.207109Z"
    }
   },
   "outputs": [
    {
     "name": "stdout",
     "output_type": "stream",
     "text": [
      "\u001b[1;35mMedia\u001b[0m\n",
      "La media es: 0.36\n"
     ]
    }
   ],
   "source": [
    "# Media\n",
    "print(\"\\033[1;35m\" + \"Media\" + \"\\033[0m\")\n",
    "print(f\"La media es: {matriz_random.mean():.2f}\")"
   ]
  },
  {
   "cell_type": "code",
   "execution_count": 256,
   "id": "7b5f9699-4059-4e7a-ac2d-5b844633cc74",
   "metadata": {
    "ExecuteTime": {
     "end_time": "2025-01-29T23:33:47.252186Z",
     "start_time": "2025-01-29T23:33:47.250721Z"
    }
   },
   "outputs": [
    {
     "name": "stdout",
     "output_type": "stream",
     "text": [
      "\u001b[1;35mSuma\u001b[0m\n",
      "La suma de los elementos del arreglo es: 4.37\n"
     ]
    }
   ],
   "source": [
    "# Suma\n",
    "print(\"\\033[1;35m\" + \"Suma\" + \"\\033[0m\")\n",
    "print(f\"La suma de los elementos del arreglo es: {matriz_random.sum():.2f}\")"
   ]
  },
  {
   "cell_type": "markdown",
   "id": "cc652d24-123c-4ec3-97b1-39997b6ee383",
   "metadata": {},
   "source": [
    "### Numeros aleatorios enteros en un rango"
   ]
  },
  {
   "cell_type": "code",
   "execution_count": 264,
   "id": "f1f53c43-4ba4-4634-90ab-2f9708b6c6b9",
   "metadata": {
    "ExecuteTime": {
     "end_time": "2025-01-29T23:33:47.277557Z",
     "start_time": "2025-01-29T23:33:47.276251Z"
    }
   },
   "outputs": [
    {
     "name": "stdout",
     "output_type": "stream",
     "text": [
      "\u001b[1;34mUsando el método random.randint()\u001b[0m\n",
      "\n",
      "\u001b[1;35mValores entre 1 y 10\u001b[0m\n",
      "[[1 4 2]\n",
      " [8 4 2]]\n"
     ]
    }
   ],
   "source": [
    "# Matriz 2x3 con valores entre 1 y 10\n",
    "print(\"\\033[1;34m\" + \"Usando el método random.randint()\" + \"\\033[0m\\n\")\n",
    "\n",
    "# random.randint(inicio, fin, (dimensiones))\n",
    "matriz = np.random.randint(1, 10, (2,3))\n",
    "print(\"\\033[1;35m\" + \"Valores entre 1 y 10\" + \"\\033[0m\")\n",
    "print(matriz)"
   ]
  },
  {
   "cell_type": "code",
   "execution_count": 266,
   "id": "f4a56d49-c20b-48ca-97e4-a2b5b5956034",
   "metadata": {
    "ExecuteTime": {
     "end_time": "2025-01-29T23:33:47.319081Z",
     "start_time": "2025-01-29T23:33:47.317820Z"
    }
   },
   "outputs": [
    {
     "name": "stdout",
     "output_type": "stream",
     "text": [
      "\u001b[1;35mValores entre 1 y 50\u001b[0m\n",
      "[[ 6 42  4]\n",
      " [29 18 26]\n",
      " [44 34 10]\n",
      " [36 14 31]\n",
      " [48 15  8]]\n"
     ]
    }
   ],
   "source": [
    "# Matriz 5x3 con valores entre 1 y 50\n",
    "print(\"\\033[1;35m\" + \"Valores entre 1 y 50\" + \"\\033[0m\")\n",
    "matriz = np.random.randint(1, 50, (5,3))\n",
    "print(matriz)"
   ]
  },
  {
   "cell_type": "markdown",
   "id": "1cb5b51e-fc77-43b1-be79-b55277746b2b",
   "metadata": {},
   "source": [
    "### Configurar una semilla para reproducibilidad"
   ]
  },
  {
   "cell_type": "markdown",
   "id": "cc79d8e6-ee4d-4d71-8513-5f1dbf455af7",
   "metadata": {},
   "source": [
    "np.random.seed(42)"
   ]
  },
  {
   "cell_type": "code",
   "execution_count": 276,
   "id": "56daeb3d-cb74-416f-8476-64b9e0a1f6aa",
   "metadata": {
    "ExecuteTime": {
     "end_time": "2025-01-29T23:33:47.344046Z",
     "start_time": "2025-01-29T23:33:47.342721Z"
    }
   },
   "outputs": [
    {
     "name": "stdout",
     "output_type": "stream",
     "text": [
      "\u001b[1;34mUsando el método random.seed()\u001b[0m\n",
      "\n",
      "\u001b[1;35mValores entre 0 y 1\u001b[0m\n",
      "[[0.37454012 0.95071431 0.73199394 0.59865848]\n",
      " [0.15601864 0.15599452 0.05808361 0.86617615]\n",
      " [0.60111501 0.70807258 0.02058449 0.96990985]]\n"
     ]
    }
   ],
   "source": [
    "# Matriz 3x4 con valores aleatorios entre 0 y 1\n",
    "print(\"\\033[1;34m\" + \"Usando el método random.seed()\" + \"\\033[0m\\n\")\n",
    "\n",
    "np.random.seed(42)\n",
    "matriz = np.random.rand(3,4)\n",
    "\n",
    "print(\"\\033[1;35m\" + \"Valores entre 0 y 1\" + \"\\033[0m\")\n",
    "print(matriz)"
   ]
  },
  {
   "cell_type": "markdown",
   "id": "f13066d0-c62b-4fc8-925b-e4b4957bc82a",
   "metadata": {},
   "source": [
    "## <font color = darkblue> Estadística descriptiva\n",
    "\n",
    "La estadística descriptiva es una rama de la estadística que se encarga de organizar, resumir y representar datos numéricos. Su objetivo es facilitar la interpretación de los resultados de una investigación. Dentro de la estadística descriptiva se tienen medidas de tendencia central o posición, con las cuales se permite obtener de manera analítica la localización de un conjunto de datos. Y también se tienen medidas de dispersión, que de manera analítica permiten obtener una medida de la dispersión de los datos. Esta parte de la estadística se puede desarrollar en numpy.\n",
    "\n",
    "### Medidas de posición\n",
    "\n",
    "#### Media aritmética\n",
    "La media aritmética cuya fórmula se muestra a continuación:\n",
    "\n",
    "$$\\bar{x} = \\frac{1}{n} \\sum_{i=1}^{n}x_{i}$$\n",
    "\n",
    "se puede calcular con la función np.mean(array)."
   ]
  },
  {
   "cell_type": "code",
   "execution_count": 208,
   "id": "b9069977-cdec-47e3-bc8f-517c832a9ea4",
   "metadata": {
    "ExecuteTime": {
     "end_time": "2025-01-29T23:33:47.384307Z",
     "start_time": "2025-01-29T23:33:47.383048Z"
    }
   },
   "outputs": [
    {
     "name": "stdout",
     "output_type": "stream",
     "text": [
      "\u001b[1;34mVector\u001b[0m\n",
      "[1 2 3 4 5 6 7 8 9] \n",
      "\n",
      "\u001b[1;35mMedia\u001b[0m\n",
      "5.0\n"
     ]
    }
   ],
   "source": [
    "# Vector\n",
    "print(\"\\033[1;34m\" + \"Vector\" + \"\\033[0m\")\n",
    "\n",
    "arr_est = np.array([1,2,3,4,5,6,7,8,9])\n",
    "print(arr_est, \"\\n\")\n",
    "print(\"\\033[1;35m\" + \"Media\" + \"\\033[0m\")\n",
    "print(np.mean(arr_est))"
   ]
  },
  {
   "cell_type": "code",
   "execution_count": 210,
   "id": "897f6b32-ba41-44bd-91aa-585d5f6c96bd",
   "metadata": {
    "ExecuteTime": {
     "end_time": "2025-01-29T23:33:47.409580Z",
     "start_time": "2025-01-29T23:33:47.408413Z"
    }
   },
   "outputs": [
    {
     "name": "stdout",
     "output_type": "stream",
     "text": [
      "\u001b[1;34mMatriz\u001b[0m\n",
      "[[10 11 12]\n",
      " [13 14 15]\n",
      " [16 17 18]] \n",
      "\n",
      "\u001b[1;35mMedia\u001b[0m\n",
      "14.0\n"
     ]
    }
   ],
   "source": [
    "# Matriz\n",
    "print(\"\\033[1;34m\" + \"Matriz\" + \"\\033[0m\")\n",
    "\n",
    "mat_est = np.array([[10,11,12], [13,14,15], [16,17,18]])\n",
    "print(mat_est, \"\\n\")\n",
    "print(\"\\033[1;35m\" + \"Media\" + \"\\033[0m\")\n",
    "print(np.mean(mat_est))"
   ]
  },
  {
   "cell_type": "markdown",
   "id": "e599ef05-6095-40a5-b391-b6bd764f0581",
   "metadata": {},
   "source": [
    "#### Mediana\n",
    "\n",
    "Otra medida de posición es la mediana, con ella se encuentra el valor central del conjunto de datos ordenados, se utiliza la siguiente expresión.\n",
    "\n",
    "$$\\tilde{x} =\n",
    "\\begin{cases}\n",
    "x_{\\frac{n+1}{2}} & \\text{si n es impar}  \\\\\n",
    "\\frac{x_{\\frac{n}{2}} + x_{\\frac{n+1}{2}}}{2}& \\text{si n es par} \n",
    "\\end{cases}\n",
    "$$\n",
    "\n",
    "se puede obtener con np.median"
   ]
  },
  {
   "cell_type": "code",
   "execution_count": 200,
   "id": "65e44cfa-938c-4e71-a497-1f516c91465e",
   "metadata": {
    "ExecuteTime": {
     "end_time": "2025-01-29T23:33:47.450938Z",
     "start_time": "2025-01-29T23:33:47.449659Z"
    }
   },
   "outputs": [
    {
     "name": "stdout",
     "output_type": "stream",
     "text": [
      "\u001b[1;34mVector\u001b[0m\n",
      "\n",
      "\u001b[1;35mMediana\u001b[0m\n",
      "5.0\n"
     ]
    }
   ],
   "source": [
    "# Mediana del vector\n",
    "print(\"\\033[1;34m\" + \"Vector\" + \"\\033[0m\\n\")\n",
    "\n",
    "print(\"\\033[1;35m\" + \"Mediana\" + \"\\033[0m\")\n",
    "print(np.median(arr_est))"
   ]
  },
  {
   "cell_type": "code",
   "execution_count": 212,
   "id": "774107ac-ebf2-48a4-b142-77fe9a8217f8",
   "metadata": {
    "ExecuteTime": {
     "end_time": "2025-01-29T23:33:47.476023Z",
     "start_time": "2025-01-29T23:33:47.474755Z"
    }
   },
   "outputs": [
    {
     "name": "stdout",
     "output_type": "stream",
     "text": [
      "\u001b[1;34mMatriz\u001b[0m\n",
      "\n",
      "\u001b[1;35mMediana de las filas\u001b[0m\n",
      "[13. 14. 15.]\n",
      "\u001b[1;35mMediana de las columnas\u001b[0m\n",
      "[11. 14. 17.]\n"
     ]
    }
   ],
   "source": [
    "print(\"\\033[1;34m\" + \"Matriz\" + \"\\033[0m\\n\")\n",
    "\n",
    "# Mediana de las filas\n",
    "print(\"\\033[1;35m\" + \"Mediana de las filas\" + \"\\033[0m\")\n",
    "print(np.median(mat_est, axis = 0))\n",
    "\n",
    "# Mediana de las columnas\n",
    "print(\"\\033[1;35m\" + \"Mediana de las columnas\" + \"\\033[0m\")\n",
    "print(np.median(mat_est, axis = 1))"
   ]
  },
  {
   "cell_type": "markdown",
   "id": "e8fb90cf-b78a-4153-a12f-a8691c0c2acd",
   "metadata": {},
   "source": [
    "#### Cuartiles \n",
    "\n",
    "Los cuartiles son medidas de posición que representan en intervalos de 25\\% el conjunto de datos observado. Permiten encontrar el punto en que se encuentra el 25\\%, 50\\%, y 75\\% de la información en un conjunto de datos ordenados."
   ]
  },
  {
   "cell_type": "code",
   "execution_count": 232,
   "id": "66c62ddd-6183-4dd0-8ca1-4b8c7cd04adf",
   "metadata": {
    "ExecuteTime": {
     "end_time": "2025-01-29T23:33:47.516313Z",
     "start_time": "2025-01-29T23:33:47.515116Z"
    }
   },
   "outputs": [
    {
     "name": "stdout",
     "output_type": "stream",
     "text": [
      "\u001b[1;34mCuartiles por columna\u001b[0m\n",
      "\n",
      "\u001b[1;35m25%\u001b[0m\n",
      " [11.5 12.5 13.5]\n",
      "\u001b[1;35m50%\u001b[0m\n",
      " [13. 14. 15.]\n",
      "\u001b[1;35m75%\u001b[0m\n",
      " [14.5 15.5 16.5] \n",
      "\n",
      "\u001b[1;34mCuartiles por fila\u001b[0m\n",
      "\n",
      "\u001b[1;35m25%\u001b[0m\n",
      " [10.5 13.5 16.5]\n",
      "\u001b[1;35m50%\u001b[0m\n",
      " [11. 14. 17.]\n",
      "\u001b[1;35m75%\u001b[0m\n",
      " [11.5 14.5 17.5]\n"
     ]
    }
   ],
   "source": [
    "# Cuartiles por columna\n",
    "c1_col = np.percentile(mat_est, 25, axis = 0)\n",
    "c2_col = np.percentile(mat_est, 50, axis = 0)  # también es la mediana\n",
    "c3_col = np.percentile(mat_est, 75, axis = 0)\n",
    "\n",
    "# Cuartiles por fila\n",
    "c1_fil = np.percentile(mat_est, 25, axis=1)\n",
    "c2_fil = np.percentile(mat_est, 50, axis=1)\n",
    "c3_fil = np.percentile(mat_est, 75, axis=1)\n",
    "\n",
    "print(\"\\033[1;34m\" + \"Cuartiles por columna\" + \"\\033[0m\\n\")\n",
    "print(\"\\033[1;35m\" + \"25%\" + \"\\033[0m\\n\", c1_col)\n",
    "print(\"\\033[1;35m\" + \"50%\" + \"\\033[0m\\n\", c2_col)\n",
    "print(\"\\033[1;35m\" + \"75%\" + \"\\033[0m\\n\", c3_col, \"\\n\")\n",
    "\n",
    "print(\"\\033[1;34m\" + \"Cuartiles por fila\" + \"\\033[0m\\n\")\n",
    "print(\"\\033[1;35m\" + \"25%\" + \"\\033[0m\\n\", c1_fil)\n",
    "print(\"\\033[1;35m\" + \"50%\" + \"\\033[0m\\n\", c2_fil)\n",
    "print(\"\\033[1;35m\" + \"75%\" + \"\\033[0m\\n\", c3_fil)"
   ]
  },
  {
   "cell_type": "markdown",
   "id": "7bbff13c-81a0-4e05-8bc9-fc10d5f2984a",
   "metadata": {},
   "source": [
    "### Medidas de dispersión\n",
    "\n",
    "#### Desviación estándar\n",
    "La desviación estándar es una medida de la dispersión de un conjunto de datos. Se utiliza para estudiar la variabilidad de una variable continua en una muestra.  Su fórmula es la siguiente:\n",
    "\n",
    "$$s = \\sqrt{\\frac{1}{n-1} \\sum_{i=1}^{n} (x_{i} - \\bar{x})^{2}} $$\n",
    "\n",
    "con numpy se obtiene utilizando np.std\n"
   ]
  },
  {
   "cell_type": "code",
   "execution_count": 238,
   "id": "31a973d7-301b-4265-8e84-e240c01dbf92",
   "metadata": {
    "ExecuteTime": {
     "end_time": "2025-01-29T23:33:47.544029Z",
     "start_time": "2025-01-29T23:33:47.542722Z"
    }
   },
   "outputs": [
    {
     "name": "stdout",
     "output_type": "stream",
     "text": [
      "\u001b[1;35mDesviación del Vector\u001b[0m\n",
      "2.58\n"
     ]
    }
   ],
   "source": [
    "# Desviación del vector\n",
    "print(\"\\033[1;35m\" + \"Desviación del Vector\" + \"\\033[0m\")\n",
    "print(f\"{np.std(arr_est):.2f}\")"
   ]
  },
  {
   "cell_type": "markdown",
   "id": "328d7da7-7e28-4173-abbb-962521f2b79f",
   "metadata": {},
   "source": [
    "#### Varianza\n",
    "La varianza es una medida de dispersión que indica la variabilidad de un conjunto de datos en relación con su media. Es decir, la varianza cuantifica qué tan dispersos están los datos alrededor de la media.\n",
    "\n",
    "$$s^{2} = \\frac{1}{n-1} \\sum_{i=1}^{n} (x_{i} - \\bar{x})^{2} $$\n",
    "\n",
    "con numpy se obtiene utilizando np.var"
   ]
  },
  {
   "cell_type": "code",
   "execution_count": 240,
   "id": "d0bc4139-cffc-4048-b45c-185f7cefcd46",
   "metadata": {
    "ExecuteTime": {
     "end_time": "2025-01-29T23:33:47.588291Z",
     "start_time": "2025-01-29T23:33:47.587024Z"
    }
   },
   "outputs": [
    {
     "name": "stdout",
     "output_type": "stream",
     "text": [
      "\u001b[1;35mVarianza del Vector\u001b[0m\n",
      "6.67\n"
     ]
    }
   ],
   "source": [
    "# Varianza del vector\n",
    "print(\"\\033[1;35m\" + \"Varianza del Vector\" + \"\\033[0m\")\n",
    "print(f\"{np.var(arr_est):.2f}\")"
   ]
  },
  {
   "cell_type": "markdown",
   "id": "6e79f323-af5e-4786-9f67-695c6a33a325",
   "metadata": {},
   "source": [
    "#### Rango\n",
    "\n",
    "El rango en estadística es la diferencia entre el valor más grande y el más pequeño de un conjunto de datos. También se le conoce como amplitud o recorrido.\n",
    "\n",
    "$$R = \\max{x_{i}} - \\min{x_{i}} $$"
   ]
  },
  {
   "cell_type": "code",
   "execution_count": 248,
   "id": "0b9c101b-bdd7-4e0b-85d6-30277c6d3dbd",
   "metadata": {
    "ExecuteTime": {
     "end_time": "2025-01-29T23:33:47.612997Z",
     "start_time": "2025-01-29T23:33:47.611779Z"
    }
   },
   "outputs": [
    {
     "name": "stdout",
     "output_type": "stream",
     "text": [
      "\u001b[1;35mMediana del Vector\u001b[0m\n",
      "5.0 \n",
      "\n",
      "\u001b[1;35mRango\u001b[0m\n",
      "8\n"
     ]
    }
   ],
   "source": [
    "# Mediana del vector\n",
    "print(\"\\033[1;35m\" + \"Mediana del Vector\" + \"\\033[0m\")\n",
    "print(np.median(arr_est), \"\\n\")\n",
    "\n",
    "# Distancia entre el dato menor y el mayor\n",
    "print(\"\\033[1;35m\" + \"Rango\" + \"\\033[0m\")\n",
    "print(np.ptp(arr_est))  # peak-to-Peak (max - min)"
   ]
  },
  {
   "cell_type": "markdown",
   "id": "e26544b7-6884-4939-919e-7d8e913cdcf1",
   "metadata": {},
   "source": [
    "### Histograma \n",
    "Representación gráfica de una distribución de frecuencias por medio de barras, cuyas alturas representan las correspondientes frecuencias.\n"
   ]
  },
  {
   "cell_type": "code",
   "execution_count": 282,
   "id": "f8857383-b0fe-4d15-a912-0ec9cae54afb",
   "metadata": {
    "ExecuteTime": {
     "end_time": "2025-01-29T23:33:47.668256Z",
     "start_time": "2025-01-29T23:33:47.666939Z"
    }
   },
   "outputs": [
    {
     "data": {
      "image/png": "[encoded data removed]",
      "text/plain": [
       "<Figure size 640x480 with 1 Axes>"
      ]
     },
     "metadata": {},
     "output_type": "display_data"
    }
   ],
   "source": [
    "# Generar datos de ejemplo con distribución normal\n",
    "media = 50      \n",
    "desviacion = 15\n",
    "n_datos = 1000\n",
    "\n",
    "datos = np.random.normal(media, desviacion, n_datos)\n",
    "\n",
    "# Crear el histograma\n",
    "plt.hist(datos, bins=30, color='skyblue', edgecolor='black', alpha=0.7)\n",
    "\n",
    "# Agregar etiquetas y título\n",
    "plt.xlabel(\"Valores\")\n",
    "plt.ylabel(\"Frecuencia\")\n",
    "plt.title(\"Histograma de Datos con Distribución Normal\")\n",
    "\n",
    "# Mostrar el histograma\n",
    "plt.show()"
   ]
  },
  {
   "cell_type": "code",
   "execution_count": null,
   "id": "18710ddd-d2ed-4cb9-972f-a9ebfd8add00",
   "metadata": {
    "ExecuteTime": {
     "end_time": "2025-01-29T23:33:47.693363Z",
     "start_time": "2025-01-29T23:33:47.692049Z"
    }
   },
   "outputs": [],
   "source": [
    "# Generar 5 muestras de la distribución exponencial\n",
    "\n",
    "\n",
    "# Histograma\n"
   ]
  },
  {
   "cell_type": "markdown",
   "id": "cadcf136-01fa-4f0f-9e9e-324fb9e2263c",
   "metadata": {},
   "source": [
    "#### Boxplot\n",
    "\n",
    "Un boxplot, también conocido como diagrama de caja, es un gráfico que muestra la distribución de datos numéricos mediante sus cuartiles. Este tipo de gráfico permite visualizar la mediana, los cuartiles, los valores atípicos y la simetría de los datos."
   ]
  },
  {
   "cell_type": "code",
   "execution_count": null,
   "id": "5890ac8e-a709-4342-801e-edae23a6aecf",
   "metadata": {
    "ExecuteTime": {
     "end_time": "2025-01-29T23:33:47.731373Z",
     "start_time": "2025-01-29T23:33:47.730055Z"
    }
   },
   "outputs": [],
   "source": [
    "# Generar 1000 muestras de la distribución exponencial\n",
    "\n",
    "# Crear el boxplot\n",
    "\n",
    "# Personalizar el gráfico\n",
    "\n",
    "\n",
    "\n",
    "# Mostrar el gráfico\n"
   ]
  },
  {
   "cell_type": "code",
   "execution_count": null,
   "id": "49cb34dc-f1b8-4ee3-963c-294a1f635138",
   "metadata": {
    "ExecuteTime": {
     "end_time": "2025-01-29T23:33:47.757351Z",
     "start_time": "2025-01-29T23:33:47.756176Z"
    }
   },
   "outputs": [],
   "source": []
  },
  {
   "cell_type": "markdown",
   "id": "b1de57bf-2206-4972-a47f-8883deb4bc0f",
   "metadata": {},
   "source": [
    "#### Scatter plot \n",
    "Un scatter plot, o diagrama de dispersión, es una herramienta que se utiliza para mostrar y comparar valores numéricos. Se usa para identificar relaciones entre variables y comprobar su solidez. \n"
   ]
  },
  {
   "cell_type": "code",
   "execution_count": null,
   "id": "fdc5d9fe-506c-49d4-be5f-7bb4eb0e8213",
   "metadata": {
    "ExecuteTime": {
     "end_time": "2025-01-29T23:33:47.804897Z",
     "start_time": "2025-01-29T23:33:47.803620Z"
    }
   },
   "outputs": [],
   "source": [
    "# Generar datos ficticios\n",
    "# Semilla para reproducibilidad\n",
    " # Valores aleatorios para el eje X\n",
    " # Valores aleatorios para el eje Y\n",
    "  # Colores aleatorios\n",
    " # Tamaños de los puntos\n",
    "\n",
    "\n",
    "# Crear el scatter plot\n"
   ]
  },
  {
   "cell_type": "code",
   "execution_count": null,
   "id": "ef28e135-2fa3-452f-9fe4-6507d78c6472",
   "metadata": {
    "ExecuteTime": {
     "end_time": "2025-01-29T23:33:47.831751Z",
     "start_time": "2025-01-29T23:33:47.830398Z"
    }
   },
   "outputs": [],
   "source": [
    "# Ejemplo: x y y tienen una relación lineal\n",
    "# Tamaños de los puntos\n",
    "\n",
    " # s = tamaño de los puntos, \n"
   ]
  }
 ],
 "metadata": {
  "kernelspec": {
   "display_name": "Python [conda env:base] *",
   "language": "python",
   "name": "conda-base-py"
  },
  "language_info": {
   "codemirror_mode": {
    "name": "ipython",
    "version": 3
   },
   "file_extension": ".py",
   "mimetype": "text/x-python",
   "name": "python",
   "nbconvert_exporter": "python",
   "pygments_lexer": "ipython3",
   "version": "3.12.7"
  }
 },
 "nbformat": 4,
 "nbformat_minor": 5
}
