{
 "cells": [
  {
   "cell_type": "markdown",
   "id": "318fe2a0-7aec-4421-b0e7-abba99b0594e",
   "metadata": {},
   "source": [
    "## Práctica con Numpy\n",
    "\n",
    "### Vectores"
   ]
  },
  {
   "cell_type": "code",
   "execution_count": 5,
   "id": "e3c1bdc2-95d4-4e57-920e-42af9355d7e8",
   "metadata": {},
   "outputs": [],
   "source": [
    "# Importar la librería Numpy\n",
    "import numpy as np"
   ]
  },
  {
   "cell_type": "code",
   "execution_count": 7,
   "id": "a827f271-2e1e-454a-835a-162088f45b67",
   "metadata": {},
   "outputs": [
    {
     "name": "stdout",
     "output_type": "stream",
     "text": [
      "Hola desde Numpy\n"
     ]
    }
   ],
   "source": [
    "print(\"Hola desde Numpy\")"
   ]
  },
  {
   "cell_type": "code",
   "execution_count": 9,
   "id": "34edba98-88db-4122-bd91-5acb06a317c7",
   "metadata": {},
   "outputs": [
    {
     "name": "stdout",
     "output_type": "stream",
     "text": [
      "Leonardo 53 True 1.67\n"
     ]
    }
   ],
   "source": [
    "# Variables en Python\n",
    "nombre = \"Leonardo\"\n",
    "edad = 53\n",
    "casado = True\n",
    "estatura = 1.67\n",
    "\n",
    "print(nombre, edad, casado, estatura)"
   ]
  },
  {
   "cell_type": "code",
   "execution_count": 15,
   "id": "f78ae93c-b73d-4a54-9f87-2cfb58242b85",
   "metadata": {},
   "outputs": [
    {
     "name": "stdout",
     "output_type": "stream",
     "text": [
      "Nombre: Leonardo, Edad: 53, Estatura: 1.67\n",
      "Estado civil: Casado\n"
     ]
    }
   ],
   "source": [
    "print(f\"Nombre: {nombre}, Edad: {edad}, Estatura: {estatura}\")\n",
    "\n",
    "if casado == True:\n",
    "    print(\"Estado civil: Casado\")\n",
    "else:\n",
    "    print(\"Estado civil: Soltero\")"
   ]
  },
  {
   "cell_type": "code",
   "execution_count": 17,
   "id": "6e54ed02-49cb-4c51-adc4-36d81208094f",
   "metadata": {},
   "outputs": [
    {
     "name": "stdout",
     "output_type": "stream",
     "text": [
      "0\n",
      "1\n",
      "2\n",
      "3\n",
      "4\n",
      "5\n",
      "6\n",
      "7\n",
      "8\n",
      "9\n"
     ]
    }
   ],
   "source": [
    "for i in range(10):\n",
    "    print(i)"
   ]
  },
  {
   "cell_type": "code",
   "execution_count": 21,
   "id": "9afe8854-15d4-4b08-a6dc-8d3b70f17957",
   "metadata": {},
   "outputs": [
    {
     "name": "stdout",
     "output_type": "stream",
     "text": [
      "0\n",
      "2\n",
      "4\n",
      "6\n",
      "8\n",
      "10\n",
      "0\n",
      "2\n",
      "4\n",
      "6\n",
      "8\n",
      "10\n"
     ]
    }
   ],
   "source": [
    "# Números pares del 0 al 10\n",
    "for i in range(11):\n",
    "    if i % 2 == 0:\n",
    "        print(i)\n",
    "\n",
    "for i in range(0, 11, 2):\n",
    "    print(i)"
   ]
  },
  {
   "cell_type": "code",
   "execution_count": 25,
   "id": "16bd0ddd-1b51-4fac-9ca0-4dca65d85feb",
   "metadata": {},
   "outputs": [
    {
     "name": "stdout",
     "output_type": "stream",
     "text": [
      "Mayor de edad\n",
      "No es mayor de edad\n",
      "Mayor de edad\n",
      "Mayor de edad\n",
      "Mayor de edad\n",
      "No es mayor de edad\n",
      "Mayor de edad\n"
     ]
    }
   ],
   "source": [
    "# Listas\n",
    "edades = [18, 17, 19, 21, 18, 17, 23]\n",
    "\n",
    "for est in edades:\n",
    "    if est >= 18:\n",
    "        print(\"Mayor de edad\")\n",
    "    else:\n",
    "        print(\"No es mayor de edad\")"
   ]
  },
  {
   "cell_type": "code",
   "execution_count": 39,
   "id": "dea19242-0c5b-42ab-94a5-1162a424b7ee",
   "metadata": {},
   "outputs": [
    {
     "name": "stdout",
     "output_type": "stream",
     "text": [
      "{'Nombre': 'Leonardo Martínez González', 'Edad': 53, 'Sexo': 'Masculino'}\n",
      "Nombre: Leonardo Martínez González\n",
      "Nombre: Leonardo Martínez González\n",
      "{'Nombre': 'Leonardo Martínez González', 'Edad': 53, 'Sexo': 'Masculino', 'EstadoCivil': 'Casado'}\n"
     ]
    }
   ],
   "source": [
    "# Diccionarios\n",
    "estudiante = {\"Nombre\": 'Leonardo Martínez González', \"Edad\": 53, \"Sexo\": 'Masculino'}\n",
    "\n",
    "print(estudiante)\n",
    "\n",
    "# imprimir un campo\n",
    "print(\"Nombre:\", estudiante [\"Nombre\"])\n",
    "print(\"Nombre:\", estudiante.get(\"Nombre\"))\n",
    "\n",
    "# agregar un elemento\n",
    "estudiante[\"EstadoCivil\"] = 'Casado'\n",
    "\n",
    "print(estudiante)"
   ]
  },
  {
   "cell_type": "code",
   "execution_count": 53,
   "id": "8b663900-5aef-472b-9333-2cea728d3780",
   "metadata": {},
   "outputs": [
    {
     "name": "stdout",
     "output_type": "stream",
     "text": [
      "[{'Estudiante': 'Karla', 'Edad': 18, 'Promedio': 90.8}, {'Estudiante': 'Pedro', 'Edad': 21, 'Promedio': 87.3}, {'Estudiante': 'Luis', 'Edad': 23, 'Promedio': 99.8}]\n",
      "Nombre: Karla Promedio: 90.8\n",
      "Nombre: Pedro Promedio: 87.3\n",
      "Nombre: Luis Promedio: 99.8\n"
     ]
    }
   ],
   "source": [
    "# Lista de diccionarios\n",
    "lista = [\n",
    "    {\"Estudiante\": 'Karla', \"Edad\": 18, \"Promedio\": 90.8},\n",
    "    {\"Estudiante\": 'Pedro', \"Edad\": 21, \"Promedio\": 87.3},\n",
    "    {\"Estudiante\": 'Luis', \"Edad\": 23, \"Promedio\": 99.8}\n",
    "]\n",
    "\n",
    "print(lista)\n",
    "\n",
    "for est in lista:\n",
    "    print(f\"Nombre: {est.get(\"Estudiante\")} Promedio: {est.get('Promedio')}\")"
   ]
  },
  {
   "cell_type": "code",
   "execution_count": 1,
   "id": "5000e8e4-1d7a-4c5e-a5b9-247735a741cb",
   "metadata": {},
   "outputs": [
    {
     "name": "stdout",
     "output_type": "stream",
     "text": [
      "(1, 2, 3, 4, 5)\n",
      "('A', 'B', 'C', 'D')\n"
     ]
    }
   ],
   "source": [
    "# Tuplas\n",
    "t = (1, 2, 3, 4, 5)\n",
    "print(t)\n",
    "tupla_strings = ('A', 'B', 'C', 'D')\n",
    "print(tupla_strings)"
   ]
  }
 ],
 "metadata": {
  "kernelspec": {
   "display_name": "Python [conda env:base] *",
   "language": "python",
   "name": "conda-base-py"
  },
  "language_info": {
   "codemirror_mode": {
    "name": "ipython",
    "version": 3
   },
   "file_extension": ".py",
   "mimetype": "text/x-python",
   "name": "python",
   "nbconvert_exporter": "python",
   "pygments_lexer": "ipython3",
   "version": "3.12.7"
  }
 },
 "nbformat": 4,
 "nbformat_minor": 5
}
